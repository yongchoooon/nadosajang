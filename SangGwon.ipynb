{
 "cells": [
  {
   "cell_type": "markdown",
   "metadata": {},
   "source": [
    "# 라이브러리"
   ]
  },
  {
   "cell_type": "code",
   "execution_count": 88,
   "metadata": {},
   "outputs": [],
   "source": [
    "import requests\n",
    "import pandas as pd\n",
    "import numpy as np\n",
    "import warnings\n",
    "from tqdm import tqdm\n",
    "import folium\n",
    "import json\n",
    "warnings.filterwarnings(action='ignore')"
   ]
  },
  {
   "cell_type": "markdown",
   "metadata": {},
   "source": [
    "## 함수 : API KEY 입력 -> DataFrame 추출"
   ]
  },
  {
   "cell_type": "code",
   "execution_count": 89,
   "metadata": {},
   "outputs": [],
   "source": [
    "def makeDF(url, serviceKey, pageNo, numOfRows, resultType='json'):\n",
    "  params ={'serviceKey' : serviceKey, 'pageNo' : pageNo, 'numOfRows' : numOfRows, 'resultType' : resultType}\n",
    "  response = requests.get(url, params=params)\n",
    "  data = response.content.decode()\n",
    "  \n",
    "  data_title = url.split('/')[-1]\n",
    "  return pd.DataFrame(pd.read_json(data)[data_title]['body']['items']['item'])"
   ]
  },
  {
   "cell_type": "markdown",
   "metadata": {},
   "source": [
    "# 상권 변화지표"
   ]
  },
  {
   "cell_type": "code",
   "execution_count": 90,
   "metadata": {},
   "outputs": [],
   "source": [
    "# Python3 샘플 코드 #\n",
    "\n",
    "url = 'http://apis.data.go.kr/6260000/BusanCommercialChangeService/getCommercialChangeList'\n",
    "serviceKey = 'sDfk9Qyuq5+oRZaD0XyZ+Zohtbmixn0X3VlBiZHMQAM5OBCSCn+ZTvqoiWBPXS+tZy4mMtWkIUnS6XSpfgJm2w=='\n",
    "pageNo = '1'\n",
    "numOfRows = '447' # total : 447 rows\n",
    "resultType = 'json'\n",
    "\n",
    "# Change Indicator\n",
    "df_ci = makeDF(url, serviceKey, pageNo, numOfRows, resultType)"
   ]
  },
  {
   "cell_type": "code",
   "execution_count": 92,
   "metadata": {},
   "outputs": [],
   "source": [
    "# columns = {'type_nm' : '상권_변화_지표_명',\n",
    "#            'comm_nm' : '상권_코드_명',\n",
    "#            'change_indicator_nm' : '상권_구분_코드_명',\n",
    "#            'average_open_months' : '운영_영업_개월_평균',\n",
    "#            'average_close_months' : '폐업_영업_개월_평균',\n",
    "#            'busan_average_open_months' : '부산_운영_영업_개월_평균',\n",
    "#            'busan_average_close_months' : '부산_폐업_영업_개월_평균'}\n",
    "\n",
    "# df_ci = df_ci.rename(columns = columns)"
   ]
  },
  {
   "cell_type": "code",
   "execution_count": 93,
   "metadata": {},
   "outputs": [],
   "source": [
    "# df_ci.to_csv('./data2/부산광역시_상권_변화지표정보.csv', index = False)"
   ]
  },
  {
   "cell_type": "code",
   "execution_count": 94,
   "metadata": {},
   "outputs": [],
   "source": [
    "df_ci = pd.read_csv('./data2/부산광역시_상권_변화지표정보.csv')"
   ]
  },
  {
   "cell_type": "code",
   "execution_count": 95,
   "metadata": {},
   "outputs": [
    {
     "data": {
      "text/html": [
       "<div>\n",
       "<style scoped>\n",
       "    .dataframe tbody tr th:only-of-type {\n",
       "        vertical-align: middle;\n",
       "    }\n",
       "\n",
       "    .dataframe tbody tr th {\n",
       "        vertical-align: top;\n",
       "    }\n",
       "\n",
       "    .dataframe thead th {\n",
       "        text-align: right;\n",
       "    }\n",
       "</style>\n",
       "<table border=\"1\" class=\"dataframe\">\n",
       "  <thead>\n",
       "    <tr style=\"text-align: right;\">\n",
       "      <th></th>\n",
       "      <th>상권_변화_지표_명</th>\n",
       "      <th>상권_코드_명</th>\n",
       "      <th>상권_구분_코드_명</th>\n",
       "      <th>운영_영업_개월_평균</th>\n",
       "      <th>폐업_영업_개월_평균</th>\n",
       "      <th>부산_운영_영업_개월_평균</th>\n",
       "      <th>부산_폐업_영업_개월_평균</th>\n",
       "    </tr>\n",
       "  </thead>\n",
       "  <tbody>\n",
       "    <tr>\n",
       "      <th>0</th>\n",
       "      <td>전통상권</td>\n",
       "      <td>해운대시장</td>\n",
       "      <td>상권확장</td>\n",
       "      <td>0</td>\n",
       "      <td>120</td>\n",
       "      <td>50</td>\n",
       "      <td>44</td>\n",
       "    </tr>\n",
       "    <tr>\n",
       "      <th>1</th>\n",
       "      <td>전통상권</td>\n",
       "      <td>학장반도보라상가</td>\n",
       "      <td>다이나믹</td>\n",
       "      <td>30</td>\n",
       "      <td>1</td>\n",
       "      <td>50</td>\n",
       "      <td>44</td>\n",
       "    </tr>\n",
       "    <tr>\n",
       "      <th>2</th>\n",
       "      <td>전통상권</td>\n",
       "      <td>하이타운상가백화점</td>\n",
       "      <td>다이나믹</td>\n",
       "      <td>26</td>\n",
       "      <td>36</td>\n",
       "      <td>50</td>\n",
       "      <td>44</td>\n",
       "    </tr>\n",
       "  </tbody>\n",
       "</table>\n",
       "</div>"
      ],
      "text/plain": [
       "  상권_변화_지표_명    상권_코드_명 상권_구분_코드_명  운영_영업_개월_평균  폐업_영업_개월_평균  부산_운영_영업_개월_평균  \\\n",
       "0       전통상권      해운대시장       상권확장            0          120              50   \n",
       "1       전통상권   학장반도보라상가       다이나믹           30            1              50   \n",
       "2       전통상권  하이타운상가백화점       다이나믹           26           36              50   \n",
       "\n",
       "   부산_폐업_영업_개월_평균  \n",
       "0              44  \n",
       "1              44  \n",
       "2              44  "
      ]
     },
     "execution_count": 95,
     "metadata": {},
     "output_type": "execute_result"
    }
   ],
   "source": [
    "df_ci.head(3)"
   ]
  },
  {
   "cell_type": "code",
   "execution_count": 96,
   "metadata": {},
   "outputs": [
    {
     "data": {
      "text/plain": [
       "(477, 7)"
      ]
     },
     "execution_count": 96,
     "metadata": {},
     "output_type": "execute_result"
    }
   ],
   "source": [
    "df_ci.shape"
   ]
  },
  {
   "cell_type": "markdown",
   "metadata": {},
   "source": [
    "# 상권 집객시설\n",
    "- `hos_total` column과 `hot_total` column은 의미는 '병원시설수'로 같음."
   ]
  },
  {
   "cell_type": "code",
   "execution_count": 97,
   "metadata": {},
   "outputs": [],
   "source": [
    "# url = 'http://apis.data.go.kr/6260000/BusanCommercialCountingService/getCommercialCountingList'\n",
    "# serviceKey = 'sDfk9Qyuq5+oRZaD0XyZ+Zohtbmixn0X3VlBiZHMQAM5OBCSCn+ZTvqoiWBPXS+tZy4mMtWkIUnS6XSpfgJm2w=='\n",
    "# pageNo = '1'\n",
    "# numOfRows = '384' # total : 384 rows\n",
    "# resultType = 'json'\n",
    "\n",
    "# # Attractive Facility\n",
    "# df_af = makeDF(url, serviceKey, pageNo, numOfRows, resultType)"
   ]
  },
  {
   "cell_type": "code",
   "execution_count": 98,
   "metadata": {},
   "outputs": [],
   "source": [
    "# columns = {'type_nm' : '상권_변화_지표_명',\n",
    "#            'comm_nm' : '상권_코드_명',\n",
    "#            'fac_total' : '집객_시설_수',\n",
    "#            'gov_total' : '관공서_수',\n",
    "#            'sch_total' : '학교_시설_수',\n",
    "#            'hos_total' : '병원_시설_수_1',\n",
    "#            'bus_total' : '교통_시설_수',\n",
    "#            'sub_total' : '지하철_수',\n",
    "#            'hot_total' : '병원_시설_수_2',\n",
    "#            'sho_total' : '쇼핑_시설_수'\n",
    "#            }\n",
    " \n",
    "# df_af = df_af.rename(columns = columns)"
   ]
  },
  {
   "cell_type": "code",
   "execution_count": 99,
   "metadata": {},
   "outputs": [],
   "source": [
    "# df_af.to_csv('./data2/부산광역시_상권_집객시설정보.csv', index = False)"
   ]
  },
  {
   "cell_type": "code",
   "execution_count": 100,
   "metadata": {},
   "outputs": [],
   "source": [
    "df_af = pd.read_csv('./data2/부산광역시_상권_집객시설정보.csv')"
   ]
  },
  {
   "cell_type": "code",
   "execution_count": 101,
   "metadata": {},
   "outputs": [
    {
     "data": {
      "text/html": [
       "<div>\n",
       "<style scoped>\n",
       "    .dataframe tbody tr th:only-of-type {\n",
       "        vertical-align: middle;\n",
       "    }\n",
       "\n",
       "    .dataframe tbody tr th {\n",
       "        vertical-align: top;\n",
       "    }\n",
       "\n",
       "    .dataframe thead th {\n",
       "        text-align: right;\n",
       "    }\n",
       "</style>\n",
       "<table border=\"1\" class=\"dataframe\">\n",
       "  <thead>\n",
       "    <tr style=\"text-align: right;\">\n",
       "      <th></th>\n",
       "      <th>상권_변화_지표_명</th>\n",
       "      <th>상권_코드_명</th>\n",
       "      <th>집객_시설_수</th>\n",
       "      <th>관공서_수</th>\n",
       "      <th>학교_시설_수</th>\n",
       "      <th>병원_시설_수_1</th>\n",
       "      <th>교통_시설_수</th>\n",
       "      <th>지하철_수</th>\n",
       "      <th>병원_시설_수_2</th>\n",
       "      <th>쇼핑_시설_수</th>\n",
       "    </tr>\n",
       "  </thead>\n",
       "  <tbody>\n",
       "    <tr>\n",
       "      <th>0</th>\n",
       "      <td>골목상권</td>\n",
       "      <td>황령대로489번길</td>\n",
       "      <td>6</td>\n",
       "      <td>0</td>\n",
       "      <td>0</td>\n",
       "      <td>4</td>\n",
       "      <td>2</td>\n",
       "      <td>0</td>\n",
       "      <td>0</td>\n",
       "      <td>0</td>\n",
       "    </tr>\n",
       "    <tr>\n",
       "      <th>1</th>\n",
       "      <td>골목상권</td>\n",
       "      <td>황령대로319번가길</td>\n",
       "      <td>21</td>\n",
       "      <td>1</td>\n",
       "      <td>0</td>\n",
       "      <td>5</td>\n",
       "      <td>15</td>\n",
       "      <td>0</td>\n",
       "      <td>0</td>\n",
       "      <td>0</td>\n",
       "    </tr>\n",
       "    <tr>\n",
       "      <th>2</th>\n",
       "      <td>골목상권</td>\n",
       "      <td>해운대로81번길</td>\n",
       "      <td>3</td>\n",
       "      <td>1</td>\n",
       "      <td>1</td>\n",
       "      <td>1</td>\n",
       "      <td>0</td>\n",
       "      <td>0</td>\n",
       "      <td>0</td>\n",
       "      <td>0</td>\n",
       "    </tr>\n",
       "  </tbody>\n",
       "</table>\n",
       "</div>"
      ],
      "text/plain": [
       "  상권_변화_지표_명     상권_코드_명  집객_시설_수  관공서_수  학교_시설_수  병원_시설_수_1  교통_시설_수  지하철_수  \\\n",
       "0       골목상권   황령대로489번길        6      0        0          4        2      0   \n",
       "1       골목상권  황령대로319번가길       21      1        0          5       15      0   \n",
       "2       골목상권    해운대로81번길        3      1        1          1        0      0   \n",
       "\n",
       "   병원_시설_수_2  쇼핑_시설_수  \n",
       "0          0        0  \n",
       "1          0        0  \n",
       "2          0        0  "
      ]
     },
     "execution_count": 101,
     "metadata": {},
     "output_type": "execute_result"
    }
   ],
   "source": [
    "df_af.head(3)"
   ]
  },
  {
   "cell_type": "code",
   "execution_count": 102,
   "metadata": {},
   "outputs": [
    {
     "data": {
      "text/plain": [
       "(384, 10)"
      ]
     },
     "execution_count": 102,
     "metadata": {},
     "output_type": "execute_result"
    }
   ],
   "source": [
    "df_af.shape"
   ]
  },
  {
   "cell_type": "markdown",
   "metadata": {},
   "source": [
    "# 상권 점포이력\n",
    "- 공공데이터포털에 데이터가 게시된 일자는 2021년 11월 29일이지만\n",
    "- 가장 최근의 데이터 `2021년 4월 30일`에 개업한 점포에 대한 데이터임.\n"
   ]
  },
  {
   "cell_type": "code",
   "execution_count": 103,
   "metadata": {},
   "outputs": [],
   "source": [
    "url = 'http://apis.data.go.kr/6260000/BusanCommercialHistoryService/getCommercialHistoryList'\n",
    "serviceKey = 'sDfk9Qyuq5+oRZaD0XyZ+Zohtbmixn0X3VlBiZHMQAM5OBCSCn+ZTvqoiWBPXS+tZy4mMtWkIUnS6XSpfgJm2w=='\n",
    "pageNo = '28'\n",
    "numOfRows = '10000' # total : 279096 rows\n",
    "resultType = 'json'\n",
    "\n",
    "# Store History\n",
    "df_sh = makeDF(url, serviceKey, pageNo, numOfRows, resultType)"
   ]
  },
  {
   "cell_type": "code",
   "execution_count": 198,
   "metadata": {},
   "outputs": [],
   "source": [
    "url = 'http://apis.data.go.kr/6260000/BusanCommercialHistoryService/getCommercialHistoryList'\n",
    "serviceKey = 'sDfk9Qyuq5+oRZaD0XyZ+Zohtbmixn0X3VlBiZHMQAM5OBCSCn+ZTvqoiWBPXS+tZy4mMtWkIUnS6XSpfgJm2w=='\n",
    "pageNo = '28'\n",
    "numOfRows = '10000' # total : 279096 rows\n",
    "resultType = 'json'"
   ]
  },
  {
   "cell_type": "code",
   "execution_count": 104,
   "metadata": {},
   "outputs": [],
   "source": [
    "df_sh = makeDF(url, serviceKey, pageNo = '1', numOfRows = '10000')\n",
    "\n",
    "for i in tqdm(range(2, 29)):\n",
    "  pageNumber = str(i)\n",
    "  df_sh = pd.concat([df_sh, makeDF(url, serviceKey, pageNo = pageNumber, numOfRows = '10000')], ignore_index = True)\n",
    "\n",
    "df_sh.shape"
   ]
  },
  {
   "cell_type": "code",
   "execution_count": 193,
   "metadata": {},
   "outputs": [],
   "source": [
    "df_sh = makeDF(url, serviceKey, pageNo = '1', numOfRows = '10000')"
   ]
  },
  {
   "cell_type": "code",
   "execution_count": 194,
   "metadata": {},
   "outputs": [],
   "source": [
    "columns = {'trdstatenm' : '상태_명',\n",
    "           'bplcnm' : '상점_명',\n",
    "           'majornm' : '대분류',\n",
    "           'minornm' : '중분류',\n",
    "           'upjongnm' : '업종_명(소분류)',\n",
    "           'rdnwhladdr' : '주소',\n",
    "           'apvpermymd' : '개업_일',\n",
    "           'dcbymd' : '폐업_일',\n",
    "           'geom' : '좌표'}\n",
    " \n",
    "df_sh = df_sh.rename(columns = columns)"
   ]
  },
  {
   "cell_type": "code",
   "execution_count": 195,
   "metadata": {},
   "outputs": [
    {
     "data": {
      "text/html": [
       "<div>\n",
       "<style scoped>\n",
       "    .dataframe tbody tr th:only-of-type {\n",
       "        vertical-align: middle;\n",
       "    }\n",
       "\n",
       "    .dataframe tbody tr th {\n",
       "        vertical-align: top;\n",
       "    }\n",
       "\n",
       "    .dataframe thead th {\n",
       "        text-align: right;\n",
       "    }\n",
       "</style>\n",
       "<table border=\"1\" class=\"dataframe\">\n",
       "  <thead>\n",
       "    <tr style=\"text-align: right;\">\n",
       "      <th></th>\n",
       "      <th>상태_명</th>\n",
       "      <th>상점_명</th>\n",
       "      <th>대분류</th>\n",
       "      <th>중분류</th>\n",
       "      <th>업종_명(소분류)</th>\n",
       "      <th>주소</th>\n",
       "      <th>개업_일</th>\n",
       "      <th>폐업_일</th>\n",
       "      <th>좌표</th>\n",
       "    </tr>\n",
       "  </thead>\n",
       "  <tbody>\n",
       "    <tr>\n",
       "      <th>0</th>\n",
       "      <td>영업/정상</td>\n",
       "      <td>통독상회 4호점</td>\n",
       "      <td>외식</td>\n",
       "      <td>호프·간이주점</td>\n",
       "      <td>기타 주점업</td>\n",
       "      <td>부산광역시 강서구 명지국제7로 111, 상가동 101호 (명지동, LH오션타운)</td>\n",
       "      <td>2020-06-02</td>\n",
       "      <td></td>\n",
       "      <td>POINT(128.913796013936 35.0974001866424)</td>\n",
       "    </tr>\n",
       "    <tr>\n",
       "      <th>1</th>\n",
       "      <td>영업/정상</td>\n",
       "      <td>린푸드</td>\n",
       "      <td>외식</td>\n",
       "      <td>한식음식점</td>\n",
       "      <td>한식 일반 음식점업</td>\n",
       "      <td>부산광역시 강서구 명지국제12로 43-3, 1층 일부 (명지동)</td>\n",
       "      <td>2020-06-02</td>\n",
       "      <td></td>\n",
       "      <td>POINT(128.92562878084 35.1048547530175)</td>\n",
       "    </tr>\n",
       "    <tr>\n",
       "      <th>2</th>\n",
       "      <td>영업/정상</td>\n",
       "      <td>국제통닭 명지점</td>\n",
       "      <td>외식</td>\n",
       "      <td>호프·간이주점</td>\n",
       "      <td>기타 주점업</td>\n",
       "      <td>부산광역시 강서구 명지국제5로 142, A동 1층 일부 (명지동)</td>\n",
       "      <td>2020-06-02</td>\n",
       "      <td></td>\n",
       "      <td>POINT(128.921535160743 35.1065079390958)</td>\n",
       "    </tr>\n",
       "    <tr>\n",
       "      <th>3</th>\n",
       "      <td>영업/정상</td>\n",
       "      <td>쿠시타케</td>\n",
       "      <td>외식</td>\n",
       "      <td>일식음식점</td>\n",
       "      <td>일식 음식점업</td>\n",
       "      <td>부산광역시 강서구 명지국제12로 10, 운정D1타워 101호 (명지동)</td>\n",
       "      <td>2020-06-01</td>\n",
       "      <td></td>\n",
       "      <td>POINT(128.922123521706 35.1047460172475)</td>\n",
       "    </tr>\n",
       "    <tr>\n",
       "      <th>4</th>\n",
       "      <td>영업/정상</td>\n",
       "      <td>거북이동네 부산명지점</td>\n",
       "      <td>외식</td>\n",
       "      <td>한식음식점</td>\n",
       "      <td>한식 일반 음식점업</td>\n",
       "      <td>부산광역시 강서구 명지국제6로 246, 예성빌딩 105,106,107호 (명지동)</td>\n",
       "      <td>2020-05-25</td>\n",
       "      <td></td>\n",
       "      <td>POINT(128.923232623953 35.0973588619081)</td>\n",
       "    </tr>\n",
       "    <tr>\n",
       "      <th>...</th>\n",
       "      <td>...</td>\n",
       "      <td>...</td>\n",
       "      <td>...</td>\n",
       "      <td>...</td>\n",
       "      <td>...</td>\n",
       "      <td>...</td>\n",
       "      <td>...</td>\n",
       "      <td>...</td>\n",
       "      <td>...</td>\n",
       "    </tr>\n",
       "    <tr>\n",
       "      <th>9995</th>\n",
       "      <td>폐업</td>\n",
       "      <td>백두대간</td>\n",
       "      <td>외식</td>\n",
       "      <td>호프·간이주점</td>\n",
       "      <td>기타 주점업</td>\n",
       "      <td></td>\n",
       "      <td>1995-08-07</td>\n",
       "      <td>2008-06-19</td>\n",
       "      <td>POINT(129.092163150236 35.2713610119105)</td>\n",
       "    </tr>\n",
       "    <tr>\n",
       "      <th>9996</th>\n",
       "      <td>폐업</td>\n",
       "      <td>미각</td>\n",
       "      <td>외식</td>\n",
       "      <td>분식전문점</td>\n",
       "      <td>기타 간이 음식점업</td>\n",
       "      <td></td>\n",
       "      <td>1995-01-26</td>\n",
       "      <td>2007-05-17</td>\n",
       "      <td>POINT(129.090907116593 35.2637385991514)</td>\n",
       "    </tr>\n",
       "    <tr>\n",
       "      <th>9997</th>\n",
       "      <td>폐업</td>\n",
       "      <td>가야민물장어구이</td>\n",
       "      <td>외식</td>\n",
       "      <td>한식음식점</td>\n",
       "      <td>한식 일반 음식점업</td>\n",
       "      <td></td>\n",
       "      <td>1994-12-21</td>\n",
       "      <td>2005-04-15</td>\n",
       "      <td>POINT(129.085472412247 35.2633579327772)</td>\n",
       "    </tr>\n",
       "    <tr>\n",
       "      <th>9998</th>\n",
       "      <td>폐업</td>\n",
       "      <td>쉬즈</td>\n",
       "      <td>외식</td>\n",
       "      <td>양식음식점</td>\n",
       "      <td>서양식 음식점업</td>\n",
       "      <td></td>\n",
       "      <td>1994-06-10</td>\n",
       "      <td>2004-02-23</td>\n",
       "      <td>POINT(129.089626465276 35.2607519191547)</td>\n",
       "    </tr>\n",
       "    <tr>\n",
       "      <th>9999</th>\n",
       "      <td>폐업</td>\n",
       "      <td>다담은</td>\n",
       "      <td>외식</td>\n",
       "      <td>한식음식점</td>\n",
       "      <td>한식 일반 음식점업</td>\n",
       "      <td>부산광역시 금정구 금샘로 461 (남산동)</td>\n",
       "      <td>1995-01-07</td>\n",
       "      <td>2017-09-29</td>\n",
       "      <td>POINT(129.084778335613 35.2641219575462)</td>\n",
       "    </tr>\n",
       "  </tbody>\n",
       "</table>\n",
       "<p>10000 rows × 9 columns</p>\n",
       "</div>"
      ],
      "text/plain": [
       "       상태_명         상점_명 대분류      중분류   업종_명(소분류)  \\\n",
       "0     영업/정상     통독상회 4호점  외식  호프·간이주점      기타 주점업   \n",
       "1     영업/정상          린푸드  외식    한식음식점  한식 일반 음식점업   \n",
       "2     영업/정상     국제통닭 명지점  외식  호프·간이주점      기타 주점업   \n",
       "3     영업/정상         쿠시타케  외식    일식음식점     일식 음식점업   \n",
       "4     영업/정상  거북이동네 부산명지점  외식    한식음식점  한식 일반 음식점업   \n",
       "...     ...          ...  ..      ...         ...   \n",
       "9995     폐업         백두대간  외식  호프·간이주점      기타 주점업   \n",
       "9996     폐업           미각  외식    분식전문점  기타 간이 음식점업   \n",
       "9997     폐업     가야민물장어구이  외식    한식음식점  한식 일반 음식점업   \n",
       "9998     폐업           쉬즈  외식    양식음식점    서양식 음식점업   \n",
       "9999     폐업          다담은  외식    한식음식점  한식 일반 음식점업   \n",
       "\n",
       "                                                 주소        개업_일        폐업_일  \\\n",
       "0      부산광역시 강서구 명지국제7로 111, 상가동 101호 (명지동, LH오션타운)  2020-06-02               \n",
       "1               부산광역시 강서구 명지국제12로 43-3, 1층 일부 (명지동)  2020-06-02               \n",
       "2              부산광역시 강서구 명지국제5로 142, A동 1층 일부 (명지동)  2020-06-02               \n",
       "3           부산광역시 강서구 명지국제12로 10, 운정D1타워 101호 (명지동)  2020-06-01               \n",
       "4     부산광역시 강서구 명지국제6로 246, 예성빌딩 105,106,107호 (명지동)  2020-05-25               \n",
       "...                                             ...         ...         ...   \n",
       "9995                                                 1995-08-07  2008-06-19   \n",
       "9996                                                 1995-01-26  2007-05-17   \n",
       "9997                                                 1994-12-21  2005-04-15   \n",
       "9998                                                 1994-06-10  2004-02-23   \n",
       "9999                        부산광역시 금정구 금샘로 461 (남산동)  1995-01-07  2017-09-29   \n",
       "\n",
       "                                            좌표  \n",
       "0     POINT(128.913796013936 35.0974001866424)  \n",
       "1      POINT(128.92562878084 35.1048547530175)  \n",
       "2     POINT(128.921535160743 35.1065079390958)  \n",
       "3     POINT(128.922123521706 35.1047460172475)  \n",
       "4     POINT(128.923232623953 35.0973588619081)  \n",
       "...                                        ...  \n",
       "9995  POINT(129.092163150236 35.2713610119105)  \n",
       "9996  POINT(129.090907116593 35.2637385991514)  \n",
       "9997  POINT(129.085472412247 35.2633579327772)  \n",
       "9998  POINT(129.089626465276 35.2607519191547)  \n",
       "9999  POINT(129.084778335613 35.2641219575462)  \n",
       "\n",
       "[10000 rows x 9 columns]"
      ]
     },
     "execution_count": 195,
     "metadata": {},
     "output_type": "execute_result"
    }
   ],
   "source": [
    "df_sh"
   ]
  },
  {
   "cell_type": "code",
   "execution_count": 106,
   "metadata": {},
   "outputs": [],
   "source": [
    "# df_sh.to_csv('./data2/부산광역시_상권_점포이력정보.csv', index = False)"
   ]
  },
  {
   "cell_type": "code",
   "execution_count": 238,
   "metadata": {},
   "outputs": [],
   "source": [
    "df_sh = pd.read_csv('./data2/부산광역시_상권_점포이력정보.csv')"
   ]
  },
  {
   "cell_type": "markdown",
   "metadata": {},
   "source": [
    "- 개업일, 폐업일 column은 datatime type으로"
   ]
  },
  {
   "cell_type": "code",
   "execution_count": 239,
   "metadata": {},
   "outputs": [],
   "source": [
    "# 개업일 오기 수정\n",
    "\n",
    "df_sh[\"개업_일\"][25544] = '1986-02-17'\n",
    "df_sh[\"개업_일\"][126926] = '1987-05-13'\n",
    "df_sh[\"개업_일\"][271616] = '1987-08-28'\n",
    "\n",
    "df_sh[\"개업_일\"][34090] = '1997-01-09'\n",
    "df_sh[\"개업_일\"][34091] = '1995-06-02'\n",
    "df_sh[\"개업_일\"][52518] = '1996-02-23'\n",
    "df_sh[\"개업_일\"][118750] = '1995-11-06'\n",
    "df_sh[\"개업_일\"][240395] = '1997-04-16'"
   ]
  },
  {
   "cell_type": "code",
   "execution_count": 240,
   "metadata": {},
   "outputs": [
    {
     "data": {
      "text/plain": [
       "상태_명                 object\n",
       "상점_명                 object\n",
       "대분류                  object\n",
       "중분류                  object\n",
       "업종_명(소분류)            object\n",
       "주소                   object\n",
       "개업_일         datetime64[ns]\n",
       "폐업_일         datetime64[ns]\n",
       "좌표                   object\n",
       "dtype: object"
      ]
     },
     "execution_count": 240,
     "metadata": {},
     "output_type": "execute_result"
    }
   ],
   "source": [
    "df_sh[\"개업_일\"] = pd.to_datetime(df_sh[\"개업_일\"])\n",
    "df_sh[\"폐업_일\"] = pd.to_datetime(df_sh[\"폐업_일\"])\n",
    "df_sh.dtypes"
   ]
  },
  {
   "cell_type": "code",
   "execution_count": 241,
   "metadata": {},
   "outputs": [
    {
     "data": {
      "text/html": [
       "<div>\n",
       "<style scoped>\n",
       "    .dataframe tbody tr th:only-of-type {\n",
       "        vertical-align: middle;\n",
       "    }\n",
       "\n",
       "    .dataframe tbody tr th {\n",
       "        vertical-align: top;\n",
       "    }\n",
       "\n",
       "    .dataframe thead th {\n",
       "        text-align: right;\n",
       "    }\n",
       "</style>\n",
       "<table border=\"1\" class=\"dataframe\">\n",
       "  <thead>\n",
       "    <tr style=\"text-align: right;\">\n",
       "      <th></th>\n",
       "      <th>상태_명</th>\n",
       "      <th>상점_명</th>\n",
       "      <th>대분류</th>\n",
       "      <th>중분류</th>\n",
       "      <th>업종_명(소분류)</th>\n",
       "      <th>주소</th>\n",
       "      <th>개업_일</th>\n",
       "      <th>폐업_일</th>\n",
       "      <th>좌표</th>\n",
       "    </tr>\n",
       "  </thead>\n",
       "  <tbody>\n",
       "    <tr>\n",
       "      <th>0</th>\n",
       "      <td>영업/정상</td>\n",
       "      <td>통독상회 4호점</td>\n",
       "      <td>외식</td>\n",
       "      <td>호프·간이주점</td>\n",
       "      <td>기타 주점업</td>\n",
       "      <td>부산광역시 강서구 명지국제7로 111, 상가동 101호 (명지동, LH오션타운)</td>\n",
       "      <td>2020-06-02</td>\n",
       "      <td>NaT</td>\n",
       "      <td>POINT(128.913796013936 35.0974001866424)</td>\n",
       "    </tr>\n",
       "    <tr>\n",
       "      <th>1</th>\n",
       "      <td>영업/정상</td>\n",
       "      <td>린푸드</td>\n",
       "      <td>외식</td>\n",
       "      <td>한식음식점</td>\n",
       "      <td>한식 일반 음식점업</td>\n",
       "      <td>부산광역시 강서구 명지국제12로 43-3, 1층 일부 (명지동)</td>\n",
       "      <td>2020-06-02</td>\n",
       "      <td>NaT</td>\n",
       "      <td>POINT(128.92562878084 35.1048547530175)</td>\n",
       "    </tr>\n",
       "    <tr>\n",
       "      <th>2</th>\n",
       "      <td>영업/정상</td>\n",
       "      <td>국제통닭 명지점</td>\n",
       "      <td>외식</td>\n",
       "      <td>호프·간이주점</td>\n",
       "      <td>기타 주점업</td>\n",
       "      <td>부산광역시 강서구 명지국제5로 142, A동 1층 일부 (명지동)</td>\n",
       "      <td>2020-06-02</td>\n",
       "      <td>NaT</td>\n",
       "      <td>POINT(128.921535160743 35.1065079390958)</td>\n",
       "    </tr>\n",
       "    <tr>\n",
       "      <th>3</th>\n",
       "      <td>영업/정상</td>\n",
       "      <td>쿠시타케</td>\n",
       "      <td>외식</td>\n",
       "      <td>일식음식점</td>\n",
       "      <td>일식 음식점업</td>\n",
       "      <td>부산광역시 강서구 명지국제12로 10, 운정D1타워 101호 (명지동)</td>\n",
       "      <td>2020-06-01</td>\n",
       "      <td>NaT</td>\n",
       "      <td>POINT(128.922123521706 35.1047460172475)</td>\n",
       "    </tr>\n",
       "    <tr>\n",
       "      <th>4</th>\n",
       "      <td>영업/정상</td>\n",
       "      <td>거북이동네 부산명지점</td>\n",
       "      <td>외식</td>\n",
       "      <td>한식음식점</td>\n",
       "      <td>한식 일반 음식점업</td>\n",
       "      <td>부산광역시 강서구 명지국제6로 246, 예성빌딩 105,106,107호 (명지동)</td>\n",
       "      <td>2020-05-25</td>\n",
       "      <td>NaT</td>\n",
       "      <td>POINT(128.923232623953 35.0973588619081)</td>\n",
       "    </tr>\n",
       "  </tbody>\n",
       "</table>\n",
       "</div>"
      ],
      "text/plain": [
       "    상태_명         상점_명 대분류      중분류   업종_명(소분류)  \\\n",
       "0  영업/정상     통독상회 4호점  외식  호프·간이주점      기타 주점업   \n",
       "1  영업/정상          린푸드  외식    한식음식점  한식 일반 음식점업   \n",
       "2  영업/정상     국제통닭 명지점  외식  호프·간이주점      기타 주점업   \n",
       "3  영업/정상         쿠시타케  외식    일식음식점     일식 음식점업   \n",
       "4  영업/정상  거북이동네 부산명지점  외식    한식음식점  한식 일반 음식점업   \n",
       "\n",
       "                                              주소       개업_일 폐업_일  \\\n",
       "0   부산광역시 강서구 명지국제7로 111, 상가동 101호 (명지동, LH오션타운) 2020-06-02  NaT   \n",
       "1            부산광역시 강서구 명지국제12로 43-3, 1층 일부 (명지동) 2020-06-02  NaT   \n",
       "2           부산광역시 강서구 명지국제5로 142, A동 1층 일부 (명지동) 2020-06-02  NaT   \n",
       "3        부산광역시 강서구 명지국제12로 10, 운정D1타워 101호 (명지동) 2020-06-01  NaT   \n",
       "4  부산광역시 강서구 명지국제6로 246, 예성빌딩 105,106,107호 (명지동) 2020-05-25  NaT   \n",
       "\n",
       "                                         좌표  \n",
       "0  POINT(128.913796013936 35.0974001866424)  \n",
       "1   POINT(128.92562878084 35.1048547530175)  \n",
       "2  POINT(128.921535160743 35.1065079390958)  \n",
       "3  POINT(128.922123521706 35.1047460172475)  \n",
       "4  POINT(128.923232623953 35.0973588619081)  "
      ]
     },
     "execution_count": 241,
     "metadata": {},
     "output_type": "execute_result"
    }
   ],
   "source": [
    "df_sh.head()"
   ]
  },
  {
   "cell_type": "code",
   "execution_count": 242,
   "metadata": {},
   "outputs": [
    {
     "data": {
      "text/plain": [
       "(279096, 9)"
      ]
     },
     "execution_count": 242,
     "metadata": {},
     "output_type": "execute_result"
    }
   ],
   "source": [
    "df_sh.shape"
   ]
  },
  {
   "cell_type": "markdown",
   "metadata": {},
   "source": [
    "---"
   ]
  },
  {
   "cell_type": "markdown",
   "metadata": {},
   "source": [
    "## 상권 변화지표 / 집객시설 정보 있는지 없는지 보기"
   ]
  },
  {
   "cell_type": "code",
   "execution_count": 243,
   "metadata": {},
   "outputs": [
    {
     "data": {
      "text/html": [
       "<div>\n",
       "<style scoped>\n",
       "    .dataframe tbody tr th:only-of-type {\n",
       "        vertical-align: middle;\n",
       "    }\n",
       "\n",
       "    .dataframe tbody tr th {\n",
       "        vertical-align: top;\n",
       "    }\n",
       "\n",
       "    .dataframe thead th {\n",
       "        text-align: right;\n",
       "    }\n",
       "</style>\n",
       "<table border=\"1\" class=\"dataframe\">\n",
       "  <thead>\n",
       "    <tr style=\"text-align: right;\">\n",
       "      <th></th>\n",
       "      <th>상권_코드_명</th>\n",
       "      <th>상권_구분_코드_명</th>\n",
       "      <th>집객_시설_수</th>\n",
       "    </tr>\n",
       "  </thead>\n",
       "  <tbody>\n",
       "    <tr>\n",
       "      <th>0</th>\n",
       "      <td>해운대시장</td>\n",
       "      <td>상권확장</td>\n",
       "      <td>NaN</td>\n",
       "    </tr>\n",
       "    <tr>\n",
       "      <th>1</th>\n",
       "      <td>학장반도보라상가</td>\n",
       "      <td>다이나믹</td>\n",
       "      <td>5.0</td>\n",
       "    </tr>\n",
       "    <tr>\n",
       "      <th>2</th>\n",
       "      <td>하이타운상가백화점</td>\n",
       "      <td>다이나믹</td>\n",
       "      <td>6.0</td>\n",
       "    </tr>\n",
       "    <tr>\n",
       "      <th>3</th>\n",
       "      <td>하단시장</td>\n",
       "      <td>상권축소</td>\n",
       "      <td>1.0</td>\n",
       "    </tr>\n",
       "    <tr>\n",
       "      <th>4</th>\n",
       "      <td>충렬상가시장</td>\n",
       "      <td>상권축소</td>\n",
       "      <td>1.0</td>\n",
       "    </tr>\n",
       "    <tr>\n",
       "      <th>...</th>\n",
       "      <td>...</td>\n",
       "      <td>...</td>\n",
       "      <td>...</td>\n",
       "    </tr>\n",
       "    <tr>\n",
       "      <th>481</th>\n",
       "      <td>충무동해안시장</td>\n",
       "      <td>NaN</td>\n",
       "      <td>31.0</td>\n",
       "    </tr>\n",
       "    <tr>\n",
       "      <th>482</th>\n",
       "      <td>사덕시장</td>\n",
       "      <td>NaN</td>\n",
       "      <td>1.0</td>\n",
       "    </tr>\n",
       "    <tr>\n",
       "      <th>483</th>\n",
       "      <td>당감시장</td>\n",
       "      <td>NaN</td>\n",
       "      <td>1.0</td>\n",
       "    </tr>\n",
       "    <tr>\n",
       "      <th>484</th>\n",
       "      <td>당감골목시장</td>\n",
       "      <td>NaN</td>\n",
       "      <td>1.0</td>\n",
       "    </tr>\n",
       "    <tr>\n",
       "      <th>485</th>\n",
       "      <td>금성상가시장</td>\n",
       "      <td>NaN</td>\n",
       "      <td>1.0</td>\n",
       "    </tr>\n",
       "  </tbody>\n",
       "</table>\n",
       "<p>486 rows × 3 columns</p>\n",
       "</div>"
      ],
      "text/plain": [
       "       상권_코드_명 상권_구분_코드_명  집객_시설_수\n",
       "0        해운대시장       상권확장      NaN\n",
       "1     학장반도보라상가       다이나믹      5.0\n",
       "2    하이타운상가백화점       다이나믹      6.0\n",
       "3         하단시장       상권축소      1.0\n",
       "4       충렬상가시장       상권축소      1.0\n",
       "..         ...        ...      ...\n",
       "481    충무동해안시장        NaN     31.0\n",
       "482       사덕시장        NaN      1.0\n",
       "483       당감시장        NaN      1.0\n",
       "484     당감골목시장        NaN      1.0\n",
       "485     금성상가시장        NaN      1.0\n",
       "\n",
       "[486 rows x 3 columns]"
      ]
     },
     "execution_count": 243,
     "metadata": {},
     "output_type": "execute_result"
    }
   ],
   "source": [
    "ci = df_ci[['상권_코드_명', '상권_구분_코드_명']]\n",
    "af = df_af[['상권_코드_명', '집객_시설_수']]\n",
    "\n",
    "df_ci_af_join = pd.merge(ci, af, left_on = '상권_코드_명', right_on = '상권_코드_명', how = 'outer')\n",
    "df_ci_af_join"
   ]
  },
  {
   "cell_type": "code",
   "execution_count": 244,
   "metadata": {},
   "outputs": [
    {
     "data": {
      "text/html": [
       "<div>\n",
       "<style scoped>\n",
       "    .dataframe tbody tr th:only-of-type {\n",
       "        vertical-align: middle;\n",
       "    }\n",
       "\n",
       "    .dataframe tbody tr th {\n",
       "        vertical-align: top;\n",
       "    }\n",
       "\n",
       "    .dataframe thead th {\n",
       "        text-align: right;\n",
       "    }\n",
       "</style>\n",
       "<table border=\"1\" class=\"dataframe\">\n",
       "  <thead>\n",
       "    <tr style=\"text-align: right;\">\n",
       "      <th></th>\n",
       "      <th>상권_코드_명</th>\n",
       "      <th>상권_구분_코드_명</th>\n",
       "      <th>집객_시설_수</th>\n",
       "    </tr>\n",
       "  </thead>\n",
       "  <tbody>\n",
       "    <tr>\n",
       "      <th>0</th>\n",
       "      <td>해운대시장</td>\n",
       "      <td>상권확장</td>\n",
       "      <td>NaN</td>\n",
       "    </tr>\n",
       "    <tr>\n",
       "      <th>6</th>\n",
       "      <td>초량시장</td>\n",
       "      <td>정체</td>\n",
       "      <td>NaN</td>\n",
       "    </tr>\n",
       "    <tr>\n",
       "      <th>11</th>\n",
       "      <td>좌동재래시장</td>\n",
       "      <td>상권축소</td>\n",
       "      <td>NaN</td>\n",
       "    </tr>\n",
       "    <tr>\n",
       "      <th>13</th>\n",
       "      <td>재송한마음시장</td>\n",
       "      <td>상권축소</td>\n",
       "      <td>NaN</td>\n",
       "    </tr>\n",
       "    <tr>\n",
       "      <th>14</th>\n",
       "      <td>재송시장</td>\n",
       "      <td>다이나믹</td>\n",
       "      <td>NaN</td>\n",
       "    </tr>\n",
       "    <tr>\n",
       "      <th>...</th>\n",
       "      <td>...</td>\n",
       "      <td>...</td>\n",
       "      <td>...</td>\n",
       "    </tr>\n",
       "    <tr>\n",
       "      <th>341</th>\n",
       "      <td>낙동대로519번길</td>\n",
       "      <td>상권축소</td>\n",
       "      <td>NaN</td>\n",
       "    </tr>\n",
       "    <tr>\n",
       "      <th>345</th>\n",
       "      <td>금정로68번길</td>\n",
       "      <td>다이나믹</td>\n",
       "      <td>NaN</td>\n",
       "    </tr>\n",
       "    <tr>\n",
       "      <th>352</th>\n",
       "      <td>금곡대로20번길</td>\n",
       "      <td>상권축소</td>\n",
       "      <td>NaN</td>\n",
       "    </tr>\n",
       "    <tr>\n",
       "      <th>363</th>\n",
       "      <td>광안해변로15번길</td>\n",
       "      <td>상권축소</td>\n",
       "      <td>NaN</td>\n",
       "    </tr>\n",
       "    <tr>\n",
       "      <th>373</th>\n",
       "      <td>고분로32번길</td>\n",
       "      <td>상권축소</td>\n",
       "      <td>NaN</td>\n",
       "    </tr>\n",
       "  </tbody>\n",
       "</table>\n",
       "<p>98 rows × 3 columns</p>\n",
       "</div>"
      ],
      "text/plain": [
       "       상권_코드_명 상권_구분_코드_명  집객_시설_수\n",
       "0        해운대시장       상권확장      NaN\n",
       "6         초량시장         정체      NaN\n",
       "11      좌동재래시장       상권축소      NaN\n",
       "13     재송한마음시장       상권축소      NaN\n",
       "14        재송시장       다이나믹      NaN\n",
       "..         ...        ...      ...\n",
       "341  낙동대로519번길       상권축소      NaN\n",
       "345    금정로68번길       다이나믹      NaN\n",
       "352   금곡대로20번길       상권축소      NaN\n",
       "363  광안해변로15번길       상권축소      NaN\n",
       "373    고분로32번길       상권축소      NaN\n",
       "\n",
       "[98 rows x 3 columns]"
      ]
     },
     "execution_count": 244,
     "metadata": {},
     "output_type": "execute_result"
    }
   ],
   "source": [
    "df_ci_af_join[(df_ci_af_join['집객_시설_수']).isnull()]"
   ]
  },
  {
   "cell_type": "code",
   "execution_count": 245,
   "metadata": {},
   "outputs": [
    {
     "data": {
      "text/html": [
       "<div>\n",
       "<style scoped>\n",
       "    .dataframe tbody tr th:only-of-type {\n",
       "        vertical-align: middle;\n",
       "    }\n",
       "\n",
       "    .dataframe tbody tr th {\n",
       "        vertical-align: top;\n",
       "    }\n",
       "\n",
       "    .dataframe thead th {\n",
       "        text-align: right;\n",
       "    }\n",
       "</style>\n",
       "<table border=\"1\" class=\"dataframe\">\n",
       "  <thead>\n",
       "    <tr style=\"text-align: right;\">\n",
       "      <th></th>\n",
       "      <th>상권_코드_명</th>\n",
       "      <th>상권_구분_코드_명</th>\n",
       "      <th>집객_시설_수</th>\n",
       "    </tr>\n",
       "  </thead>\n",
       "  <tbody>\n",
       "    <tr>\n",
       "      <th>481</th>\n",
       "      <td>충무동해안시장</td>\n",
       "      <td>NaN</td>\n",
       "      <td>31.0</td>\n",
       "    </tr>\n",
       "    <tr>\n",
       "      <th>482</th>\n",
       "      <td>사덕시장</td>\n",
       "      <td>NaN</td>\n",
       "      <td>1.0</td>\n",
       "    </tr>\n",
       "    <tr>\n",
       "      <th>483</th>\n",
       "      <td>당감시장</td>\n",
       "      <td>NaN</td>\n",
       "      <td>1.0</td>\n",
       "    </tr>\n",
       "    <tr>\n",
       "      <th>484</th>\n",
       "      <td>당감골목시장</td>\n",
       "      <td>NaN</td>\n",
       "      <td>1.0</td>\n",
       "    </tr>\n",
       "    <tr>\n",
       "      <th>485</th>\n",
       "      <td>금성상가시장</td>\n",
       "      <td>NaN</td>\n",
       "      <td>1.0</td>\n",
       "    </tr>\n",
       "  </tbody>\n",
       "</table>\n",
       "</div>"
      ],
      "text/plain": [
       "     상권_코드_명 상권_구분_코드_명  집객_시설_수\n",
       "481  충무동해안시장        NaN     31.0\n",
       "482     사덕시장        NaN      1.0\n",
       "483     당감시장        NaN      1.0\n",
       "484   당감골목시장        NaN      1.0\n",
       "485   금성상가시장        NaN      1.0"
      ]
     },
     "execution_count": 245,
     "metadata": {},
     "output_type": "execute_result"
    }
   ],
   "source": [
    "df_ci_af_join[(df_ci_af_join['상권_구분_코드_명']).isnull()]"
   ]
  },
  {
   "cell_type": "code",
   "execution_count": 246,
   "metadata": {},
   "outputs": [
    {
     "data": {
      "text/html": [
       "<div>\n",
       "<style scoped>\n",
       "    .dataframe tbody tr th:only-of-type {\n",
       "        vertical-align: middle;\n",
       "    }\n",
       "\n",
       "    .dataframe tbody tr th {\n",
       "        vertical-align: top;\n",
       "    }\n",
       "\n",
       "    .dataframe thead th {\n",
       "        text-align: right;\n",
       "    }\n",
       "</style>\n",
       "<table border=\"1\" class=\"dataframe\">\n",
       "  <thead>\n",
       "    <tr style=\"text-align: right;\">\n",
       "      <th></th>\n",
       "      <th>상권_코드_명</th>\n",
       "      <th>상권_구분_코드_명</th>\n",
       "      <th>집객_시설_수</th>\n",
       "    </tr>\n",
       "  </thead>\n",
       "  <tbody>\n",
       "    <tr>\n",
       "      <th>1</th>\n",
       "      <td>학장반도보라상가</td>\n",
       "      <td>다이나믹</td>\n",
       "      <td>5.0</td>\n",
       "    </tr>\n",
       "    <tr>\n",
       "      <th>2</th>\n",
       "      <td>하이타운상가백화점</td>\n",
       "      <td>다이나믹</td>\n",
       "      <td>6.0</td>\n",
       "    </tr>\n",
       "    <tr>\n",
       "      <th>3</th>\n",
       "      <td>하단시장</td>\n",
       "      <td>상권축소</td>\n",
       "      <td>1.0</td>\n",
       "    </tr>\n",
       "    <tr>\n",
       "      <th>4</th>\n",
       "      <td>충렬상가시장</td>\n",
       "      <td>상권축소</td>\n",
       "      <td>1.0</td>\n",
       "    </tr>\n",
       "    <tr>\n",
       "      <th>5</th>\n",
       "      <td>초읍시장</td>\n",
       "      <td>다이나믹</td>\n",
       "      <td>1.0</td>\n",
       "    </tr>\n",
       "    <tr>\n",
       "      <th>...</th>\n",
       "      <td>...</td>\n",
       "      <td>...</td>\n",
       "      <td>...</td>\n",
       "    </tr>\n",
       "    <tr>\n",
       "      <th>476</th>\n",
       "      <td>기장역</td>\n",
       "      <td>다이나믹</td>\n",
       "      <td>125.0</td>\n",
       "    </tr>\n",
       "    <tr>\n",
       "      <th>477</th>\n",
       "      <td>광안리</td>\n",
       "      <td>상권확장</td>\n",
       "      <td>58.0</td>\n",
       "    </tr>\n",
       "    <tr>\n",
       "      <th>478</th>\n",
       "      <td>경성대부경대역_3</td>\n",
       "      <td>다이나믹</td>\n",
       "      <td>24.0</td>\n",
       "    </tr>\n",
       "    <tr>\n",
       "      <th>479</th>\n",
       "      <td>경성대부경대역_2</td>\n",
       "      <td>다이나믹</td>\n",
       "      <td>25.0</td>\n",
       "    </tr>\n",
       "    <tr>\n",
       "      <th>480</th>\n",
       "      <td>경성대부경대역_1</td>\n",
       "      <td>다이나믹</td>\n",
       "      <td>30.0</td>\n",
       "    </tr>\n",
       "  </tbody>\n",
       "</table>\n",
       "<p>383 rows × 3 columns</p>\n",
       "</div>"
      ],
      "text/plain": [
       "       상권_코드_명 상권_구분_코드_명  집객_시설_수\n",
       "1     학장반도보라상가       다이나믹      5.0\n",
       "2    하이타운상가백화점       다이나믹      6.0\n",
       "3         하단시장       상권축소      1.0\n",
       "4       충렬상가시장       상권축소      1.0\n",
       "5         초읍시장       다이나믹      1.0\n",
       "..         ...        ...      ...\n",
       "476        기장역       다이나믹    125.0\n",
       "477        광안리       상권확장     58.0\n",
       "478  경성대부경대역_3       다이나믹     24.0\n",
       "479  경성대부경대역_2       다이나믹     25.0\n",
       "480  경성대부경대역_1       다이나믹     30.0\n",
       "\n",
       "[383 rows x 3 columns]"
      ]
     },
     "execution_count": 246,
     "metadata": {},
     "output_type": "execute_result"
    }
   ],
   "source": [
    "df_ci_af_join.dropna(axis = 0)"
   ]
  },
  {
   "cell_type": "markdown",
   "metadata": {},
   "source": [
    "- 변화지표정보 : 477개\n",
    "- 집객시설정보 : 384개\n",
    "\n",
    "- 변화지표에는 있는데 집객시설에는 없는 상권 : 98개\n",
    "- 집객시설에는 있는데 변화지표에는 없는 상권 : 5개\n",
    "\n",
    "- 둘 다 있는 것 : 383개\n"
   ]
  },
  {
   "cell_type": "markdown",
   "metadata": {},
   "source": [
    "---"
   ]
  },
  {
   "cell_type": "markdown",
   "metadata": {},
   "source": [
    "## 상권 점포이력정보에 읍면동 column 추가"
   ]
  },
  {
   "cell_type": "code",
   "execution_count": 247,
   "metadata": {},
   "outputs": [],
   "source": [
    "# # 상권 점포이력정보에서 좌표만 추출 \n",
    "# # 이후 행정동 정보 얻기 위함\n",
    "# df_xy = df_sh[[\"좌표\"]].apply(lambda x: x.str[6:-1])\n",
    "# df_xy[\"longitude\"] = df_xy[[\"좌표\"]].apply(lambda x: x.str.split(\" \").str[0])\n",
    "# df_xy[\"latitude\"] = df_xy[[\"좌표\"]].apply(lambda x: x.str.split(\" \").str[1])\n",
    "\n",
    "# df_xy = df_xy.drop(columns = \"좌표\")\n",
    "# df_xy\n",
    "\n",
    "# df_xy.to_csv(\"./data2/busan_sanggwon_store_history_xy.csv\")"
   ]
  },
  {
   "cell_type": "code",
   "execution_count": 248,
   "metadata": {},
   "outputs": [
    {
     "data": {
      "text/html": [
       "<div>\n",
       "<style scoped>\n",
       "    .dataframe tbody tr th:only-of-type {\n",
       "        vertical-align: middle;\n",
       "    }\n",
       "\n",
       "    .dataframe tbody tr th {\n",
       "        vertical-align: top;\n",
       "    }\n",
       "\n",
       "    .dataframe thead th {\n",
       "        text-align: right;\n",
       "    }\n",
       "</style>\n",
       "<table border=\"1\" class=\"dataframe\">\n",
       "  <thead>\n",
       "    <tr style=\"text-align: right;\">\n",
       "      <th></th>\n",
       "      <th>상태_명</th>\n",
       "      <th>상점_명</th>\n",
       "      <th>대분류</th>\n",
       "      <th>중분류</th>\n",
       "      <th>업종_명(소분류)</th>\n",
       "      <th>주소</th>\n",
       "      <th>개업_일</th>\n",
       "      <th>폐업_일</th>\n",
       "      <th>좌표</th>\n",
       "    </tr>\n",
       "  </thead>\n",
       "  <tbody>\n",
       "    <tr>\n",
       "      <th>0</th>\n",
       "      <td>영업/정상</td>\n",
       "      <td>통독상회 4호점</td>\n",
       "      <td>외식</td>\n",
       "      <td>호프·간이주점</td>\n",
       "      <td>기타 주점업</td>\n",
       "      <td>부산광역시 강서구 명지국제7로 111, 상가동 101호 (명지동, LH오션타운)</td>\n",
       "      <td>2020-06-02</td>\n",
       "      <td>NaT</td>\n",
       "      <td>POINT(128.913796013936 35.0974001866424)</td>\n",
       "    </tr>\n",
       "    <tr>\n",
       "      <th>1</th>\n",
       "      <td>영업/정상</td>\n",
       "      <td>린푸드</td>\n",
       "      <td>외식</td>\n",
       "      <td>한식음식점</td>\n",
       "      <td>한식 일반 음식점업</td>\n",
       "      <td>부산광역시 강서구 명지국제12로 43-3, 1층 일부 (명지동)</td>\n",
       "      <td>2020-06-02</td>\n",
       "      <td>NaT</td>\n",
       "      <td>POINT(128.92562878084 35.1048547530175)</td>\n",
       "    </tr>\n",
       "    <tr>\n",
       "      <th>2</th>\n",
       "      <td>영업/정상</td>\n",
       "      <td>국제통닭 명지점</td>\n",
       "      <td>외식</td>\n",
       "      <td>호프·간이주점</td>\n",
       "      <td>기타 주점업</td>\n",
       "      <td>부산광역시 강서구 명지국제5로 142, A동 1층 일부 (명지동)</td>\n",
       "      <td>2020-06-02</td>\n",
       "      <td>NaT</td>\n",
       "      <td>POINT(128.921535160743 35.1065079390958)</td>\n",
       "    </tr>\n",
       "    <tr>\n",
       "      <th>3</th>\n",
       "      <td>영업/정상</td>\n",
       "      <td>쿠시타케</td>\n",
       "      <td>외식</td>\n",
       "      <td>일식음식점</td>\n",
       "      <td>일식 음식점업</td>\n",
       "      <td>부산광역시 강서구 명지국제12로 10, 운정D1타워 101호 (명지동)</td>\n",
       "      <td>2020-06-01</td>\n",
       "      <td>NaT</td>\n",
       "      <td>POINT(128.922123521706 35.1047460172475)</td>\n",
       "    </tr>\n",
       "    <tr>\n",
       "      <th>4</th>\n",
       "      <td>영업/정상</td>\n",
       "      <td>거북이동네 부산명지점</td>\n",
       "      <td>외식</td>\n",
       "      <td>한식음식점</td>\n",
       "      <td>한식 일반 음식점업</td>\n",
       "      <td>부산광역시 강서구 명지국제6로 246, 예성빌딩 105,106,107호 (명지동)</td>\n",
       "      <td>2020-05-25</td>\n",
       "      <td>NaT</td>\n",
       "      <td>POINT(128.923232623953 35.0973588619081)</td>\n",
       "    </tr>\n",
       "  </tbody>\n",
       "</table>\n",
       "</div>"
      ],
      "text/plain": [
       "    상태_명         상점_명 대분류      중분류   업종_명(소분류)  \\\n",
       "0  영업/정상     통독상회 4호점  외식  호프·간이주점      기타 주점업   \n",
       "1  영업/정상          린푸드  외식    한식음식점  한식 일반 음식점업   \n",
       "2  영업/정상     국제통닭 명지점  외식  호프·간이주점      기타 주점업   \n",
       "3  영업/정상         쿠시타케  외식    일식음식점     일식 음식점업   \n",
       "4  영업/정상  거북이동네 부산명지점  외식    한식음식점  한식 일반 음식점업   \n",
       "\n",
       "                                              주소       개업_일 폐업_일  \\\n",
       "0   부산광역시 강서구 명지국제7로 111, 상가동 101호 (명지동, LH오션타운) 2020-06-02  NaT   \n",
       "1            부산광역시 강서구 명지국제12로 43-3, 1층 일부 (명지동) 2020-06-02  NaT   \n",
       "2           부산광역시 강서구 명지국제5로 142, A동 1층 일부 (명지동) 2020-06-02  NaT   \n",
       "3        부산광역시 강서구 명지국제12로 10, 운정D1타워 101호 (명지동) 2020-06-01  NaT   \n",
       "4  부산광역시 강서구 명지국제6로 246, 예성빌딩 105,106,107호 (명지동) 2020-05-25  NaT   \n",
       "\n",
       "                                         좌표  \n",
       "0  POINT(128.913796013936 35.0974001866424)  \n",
       "1   POINT(128.92562878084 35.1048547530175)  \n",
       "2  POINT(128.921535160743 35.1065079390958)  \n",
       "3  POINT(128.922123521706 35.1047460172475)  \n",
       "4  POINT(128.923232623953 35.0973588619081)  "
      ]
     },
     "execution_count": 248,
     "metadata": {},
     "output_type": "execute_result"
    }
   ],
   "source": [
    "df_sh.head()"
   ]
  },
  {
   "cell_type": "code",
   "execution_count": 249,
   "metadata": {},
   "outputs": [
    {
     "data": {
      "text/html": [
       "<div>\n",
       "<style scoped>\n",
       "    .dataframe tbody tr th:only-of-type {\n",
       "        vertical-align: middle;\n",
       "    }\n",
       "\n",
       "    .dataframe tbody tr th {\n",
       "        vertical-align: top;\n",
       "    }\n",
       "\n",
       "    .dataframe thead th {\n",
       "        text-align: right;\n",
       "    }\n",
       "</style>\n",
       "<table border=\"1\" class=\"dataframe\">\n",
       "  <thead>\n",
       "    <tr style=\"text-align: right;\">\n",
       "      <th></th>\n",
       "      <th>지번주소</th>\n",
       "    </tr>\n",
       "  </thead>\n",
       "  <tbody>\n",
       "    <tr>\n",
       "      <th>133315</th>\n",
       "      <td>NaN</td>\n",
       "    </tr>\n",
       "    <tr>\n",
       "      <th>209329</th>\n",
       "      <td>NaN</td>\n",
       "    </tr>\n",
       "    <tr>\n",
       "      <th>220485</th>\n",
       "      <td>NaN</td>\n",
       "    </tr>\n",
       "  </tbody>\n",
       "</table>\n",
       "</div>"
      ],
      "text/plain": [
       "       지번주소\n",
       "133315  NaN\n",
       "209329  NaN\n",
       "220485  NaN"
      ]
     },
     "execution_count": 249,
     "metadata": {},
     "output_type": "execute_result"
    }
   ],
   "source": [
    "df_sh_address = pd.read_csv(\"./data2/부산광역시_상권_점포이력정보_좌표.csv\", encoding = 'cp949')[[\"지번주소\"]]\n",
    "\n",
    "df_sh_address[df_sh_address[\"지번주소\"].isnull()]"
   ]
  },
  {
   "cell_type": "code",
   "execution_count": 250,
   "metadata": {},
   "outputs": [
    {
     "data": {
      "text/html": [
       "<div>\n",
       "<style scoped>\n",
       "    .dataframe tbody tr th:only-of-type {\n",
       "        vertical-align: middle;\n",
       "    }\n",
       "\n",
       "    .dataframe tbody tr th {\n",
       "        vertical-align: top;\n",
       "    }\n",
       "\n",
       "    .dataframe thead th {\n",
       "        text-align: right;\n",
       "    }\n",
       "</style>\n",
       "<table border=\"1\" class=\"dataframe\">\n",
       "  <thead>\n",
       "    <tr style=\"text-align: right;\">\n",
       "      <th></th>\n",
       "      <th>지번주소</th>\n",
       "    </tr>\n",
       "  </thead>\n",
       "  <tbody>\n",
       "  </tbody>\n",
       "</table>\n",
       "</div>"
      ],
      "text/plain": [
       "Empty DataFrame\n",
       "Columns: [지번주소]\n",
       "Index: []"
      ]
     },
     "execution_count": 250,
     "metadata": {},
     "output_type": "execute_result"
    }
   ],
   "source": [
    "df_sh_address[\"지번주소\"][133315] = \"부산광역시 강서구 명지동\"\n",
    "df_sh_address[\"지번주소\"][209329] = \"부산광역시 부산진구 초읍동\"\n",
    "df_sh_address[\"지번주소\"][220485] = \"부산광역시 사하구 아미동2가\"\n",
    "\n",
    "df_sh_address[df_sh_address[\"지번주소\"].isnull()]"
   ]
  },
  {
   "cell_type": "code",
   "execution_count": 251,
   "metadata": {},
   "outputs": [
    {
     "data": {
      "text/html": [
       "<div>\n",
       "<style scoped>\n",
       "    .dataframe tbody tr th:only-of-type {\n",
       "        vertical-align: middle;\n",
       "    }\n",
       "\n",
       "    .dataframe tbody tr th {\n",
       "        vertical-align: top;\n",
       "    }\n",
       "\n",
       "    .dataframe thead th {\n",
       "        text-align: right;\n",
       "    }\n",
       "</style>\n",
       "<table border=\"1\" class=\"dataframe\">\n",
       "  <thead>\n",
       "    <tr style=\"text-align: right;\">\n",
       "      <th></th>\n",
       "      <th>상태_명</th>\n",
       "      <th>상점_명</th>\n",
       "      <th>대분류</th>\n",
       "      <th>중분류</th>\n",
       "      <th>업종_명(소분류)</th>\n",
       "      <th>주소</th>\n",
       "      <th>개업_일</th>\n",
       "      <th>폐업_일</th>\n",
       "      <th>좌표</th>\n",
       "      <th>지역구</th>\n",
       "      <th>읍면동</th>\n",
       "    </tr>\n",
       "  </thead>\n",
       "  <tbody>\n",
       "    <tr>\n",
       "      <th>0</th>\n",
       "      <td>영업/정상</td>\n",
       "      <td>통독상회 4호점</td>\n",
       "      <td>외식</td>\n",
       "      <td>호프·간이주점</td>\n",
       "      <td>기타 주점업</td>\n",
       "      <td>부산광역시 강서구 명지국제7로 111, 상가동 101호 (명지동, LH오션타운)</td>\n",
       "      <td>2020-06-02</td>\n",
       "      <td>NaT</td>\n",
       "      <td>POINT(128.913796013936 35.0974001866424)</td>\n",
       "      <td>강서구</td>\n",
       "      <td>명지동</td>\n",
       "    </tr>\n",
       "    <tr>\n",
       "      <th>1</th>\n",
       "      <td>영업/정상</td>\n",
       "      <td>린푸드</td>\n",
       "      <td>외식</td>\n",
       "      <td>한식음식점</td>\n",
       "      <td>한식 일반 음식점업</td>\n",
       "      <td>부산광역시 강서구 명지국제12로 43-3, 1층 일부 (명지동)</td>\n",
       "      <td>2020-06-02</td>\n",
       "      <td>NaT</td>\n",
       "      <td>POINT(128.92562878084 35.1048547530175)</td>\n",
       "      <td>강서구</td>\n",
       "      <td>명지동</td>\n",
       "    </tr>\n",
       "    <tr>\n",
       "      <th>2</th>\n",
       "      <td>영업/정상</td>\n",
       "      <td>국제통닭 명지점</td>\n",
       "      <td>외식</td>\n",
       "      <td>호프·간이주점</td>\n",
       "      <td>기타 주점업</td>\n",
       "      <td>부산광역시 강서구 명지국제5로 142, A동 1층 일부 (명지동)</td>\n",
       "      <td>2020-06-02</td>\n",
       "      <td>NaT</td>\n",
       "      <td>POINT(128.921535160743 35.1065079390958)</td>\n",
       "      <td>강서구</td>\n",
       "      <td>명지동</td>\n",
       "    </tr>\n",
       "    <tr>\n",
       "      <th>3</th>\n",
       "      <td>영업/정상</td>\n",
       "      <td>쿠시타케</td>\n",
       "      <td>외식</td>\n",
       "      <td>일식음식점</td>\n",
       "      <td>일식 음식점업</td>\n",
       "      <td>부산광역시 강서구 명지국제12로 10, 운정D1타워 101호 (명지동)</td>\n",
       "      <td>2020-06-01</td>\n",
       "      <td>NaT</td>\n",
       "      <td>POINT(128.922123521706 35.1047460172475)</td>\n",
       "      <td>강서구</td>\n",
       "      <td>명지동</td>\n",
       "    </tr>\n",
       "    <tr>\n",
       "      <th>4</th>\n",
       "      <td>영업/정상</td>\n",
       "      <td>거북이동네 부산명지점</td>\n",
       "      <td>외식</td>\n",
       "      <td>한식음식점</td>\n",
       "      <td>한식 일반 음식점업</td>\n",
       "      <td>부산광역시 강서구 명지국제6로 246, 예성빌딩 105,106,107호 (명지동)</td>\n",
       "      <td>2020-05-25</td>\n",
       "      <td>NaT</td>\n",
       "      <td>POINT(128.923232623953 35.0973588619081)</td>\n",
       "      <td>강서구</td>\n",
       "      <td>명지동</td>\n",
       "    </tr>\n",
       "  </tbody>\n",
       "</table>\n",
       "</div>"
      ],
      "text/plain": [
       "    상태_명         상점_명 대분류      중분류   업종_명(소분류)  \\\n",
       "0  영업/정상     통독상회 4호점  외식  호프·간이주점      기타 주점업   \n",
       "1  영업/정상          린푸드  외식    한식음식점  한식 일반 음식점업   \n",
       "2  영업/정상     국제통닭 명지점  외식  호프·간이주점      기타 주점업   \n",
       "3  영업/정상         쿠시타케  외식    일식음식점     일식 음식점업   \n",
       "4  영업/정상  거북이동네 부산명지점  외식    한식음식점  한식 일반 음식점업   \n",
       "\n",
       "                                              주소       개업_일 폐업_일  \\\n",
       "0   부산광역시 강서구 명지국제7로 111, 상가동 101호 (명지동, LH오션타운) 2020-06-02  NaT   \n",
       "1            부산광역시 강서구 명지국제12로 43-3, 1층 일부 (명지동) 2020-06-02  NaT   \n",
       "2           부산광역시 강서구 명지국제5로 142, A동 1층 일부 (명지동) 2020-06-02  NaT   \n",
       "3        부산광역시 강서구 명지국제12로 10, 운정D1타워 101호 (명지동) 2020-06-01  NaT   \n",
       "4  부산광역시 강서구 명지국제6로 246, 예성빌딩 105,106,107호 (명지동) 2020-05-25  NaT   \n",
       "\n",
       "                                         좌표  지역구  읍면동  \n",
       "0  POINT(128.913796013936 35.0974001866424)  강서구  명지동  \n",
       "1   POINT(128.92562878084 35.1048547530175)  강서구  명지동  \n",
       "2  POINT(128.921535160743 35.1065079390958)  강서구  명지동  \n",
       "3  POINT(128.922123521706 35.1047460172475)  강서구  명지동  \n",
       "4  POINT(128.923232623953 35.0973588619081)  강서구  명지동  "
      ]
     },
     "execution_count": 251,
     "metadata": {},
     "output_type": "execute_result"
    }
   ],
   "source": [
    "df_sh[\"지역구\"] = df_sh_address[\"지번주소\"].str.split(\" \").str[1]\n",
    "df_sh[\"읍면동\"] = df_sh_address[\"지번주소\"].str.split(\" \").str[2]\n",
    "df_sh.head()"
   ]
  },
  {
   "cell_type": "markdown",
   "metadata": {},
   "source": [
    "## 영업 / 폐업 나누기"
   ]
  },
  {
   "cell_type": "markdown",
   "metadata": {},
   "source": [
    "- [점포상태 : 영업/정상] - 폐업일 있는 것\n",
    "  - 폐업으로 처리\n",
    "- [점포상태 : 폐업] - 폐업일 없음\n",
    "  - 삭제\n",
    "- [점포상태 : 취소/말소/만료/정지/중지]\n",
    "  - 폐업일 있음 : 폐업으로 처리\n",
    "  - 폐업일 없음 : 폐업했는데 폐업일 기록이 되어 있지 않은 점포와 운영 중인 점포가 혼재\n",
    "    - 삭제\n",
    "- [점포상태 : 정상]\n",
    "  - \"영업/정상\"으로 처리\n",
    "- [점포상태 : 영업중]\n",
    "  - \"영업/정상\"으로 처리\n",
    "- [점포상태 : 직권말소] - 모두 폐업일 있음\n",
    "  - 폐업으로 처리\n",
    "- 점포상태 : 신고취소 - 1개, 지정취소 - 1개, 말소 - 1개\n",
    "  - 삭제"
   ]
  },
  {
   "cell_type": "code",
   "execution_count": 252,
   "metadata": {},
   "outputs": [],
   "source": [
    "# 점포상태 : 영업/정상, 폐업일 있음 => 폐업으로 처리\n",
    "df_sh_temp_index = df_sh[(df_sh[\"상태_명\"] == \"영업/정상\") & (df_sh[\"폐업_일\"].notnull())].index\n",
    "df_sh[\"상태_명\"][df_sh_temp_index] = \"폐업\"\n",
    "\n",
    "# 점포상태 : 폐업, 폐업일 없음 => 삭제\n",
    "df_sh_temp_index = df_sh[(df_sh[\"상태_명\"] == \"폐업\") & (df_sh[\"폐업_일\"].isnull())].index\n",
    "df_sh = df_sh.drop(index = df_sh_temp_index, axis = 0)\n",
    "\n",
    "# 점포상태 : 취소/말소/만료/정지/중지 - 폐업일 있음 => \"폐업\"으로 처리\n",
    "df_sh_temp_index = df_sh[(df_sh[\"상태_명\"] == \"취소/말소/만료/정지/중지\") & (df_sh[\"폐업_일\"].notnull())].index\n",
    "df_sh[\"상태_명\"][df_sh_temp_index] = \"폐업\"\n",
    "\n",
    "# 점포상태 : 취소/말소/만료/정지/중지 - 폐업일 없음 => 삭제\n",
    "df_sh_temp_index = df_sh[(df_sh[\"상태_명\"] == \"취소/말소/만료/정지/중지\") & (df_sh[\"폐업_일\"].isnull())].index\n",
    "df_sh = df_sh.drop(index = df_sh_temp_index, axis = 0)\n",
    "\n",
    "# 점포상태 : 휴업 => 삭제\n",
    "df_sh_temp_index = df_sh[df_sh[\"상태_명\"] == \"휴업\"].index\n",
    "df_sh = df_sh.drop(index = df_sh_temp_index, axis = 0)\n",
    "\n",
    "# 점포상태 : 정상 or 영업중 => \"영업/정상\"으로 처리\n",
    "df_sh_temp_index = df_sh[df_sh[\"상태_명\"].isin([\"정상\", \"영업중\"])].index\n",
    "df_sh[\"상태_명\"][df_sh_temp_index] = \"영업/정상\"\n",
    "\n",
    "# 점포상태 : \"직권말소\" => \"폐업\"으로 처리\n",
    "df_sh_temp_index = df_sh[df_sh[\"상태_명\"] == \"직권말소\"].index\n",
    "df_sh[\"상태_명\"][df_sh_temp_index] = \"폐업\"\n",
    "\n",
    "# 점포상태 : \"신고취소\", \"지정취소\", \"말소\" => 삭제\n",
    "df_sh_temp_index = df_sh[df_sh[\"상태_명\"].isin([\"신고취소\", \"지정취소\", \"말소\"])].index\n",
    "df_sh = df_sh.drop(index = df_sh_temp_index, axis = 0)\n",
    "\n",
    "# 점포상태 : NaN (결측치) => 삭제 (폐업으로 추측되지만 폐업일을 알 수 없음)\n",
    "df_sh = df_sh.drop(index = 262863, axis = 0)"
   ]
  },
  {
   "cell_type": "code",
   "execution_count": 253,
   "metadata": {},
   "outputs": [],
   "source": [
    "# 상태명 : \"영업/정상\" -> \"영업\" 치환\n",
    "\n",
    "df_sh_temp_index = df_sh[df_sh[\"상태_명\"] == \"영업/정상\"].index\n",
    "df_sh[\"상태_명\"][df_sh_temp_index] = \"영업\""
   ]
  },
  {
   "cell_type": "code",
   "execution_count": 254,
   "metadata": {},
   "outputs": [
    {
     "name": "stdout",
     "output_type": "stream",
     "text": [
      "점포 상태 영업 : 137483\n",
      "그 중 폐업일이 NaN : 137483\n",
      "그 중 폐업일이 있는 것 : 0\n",
      "-------------------\n",
      "점포 상태 폐업 : 125430\n",
      "그 중 폐업일이 NaN : 0\n",
      "그 중 폐업일이 있는 것 : 125430\n",
      "-------------------\n",
      "총 데이터 수 : 262913\n"
     ]
    }
   ],
   "source": [
    "for i in df_sh[\"상태_명\"].unique():\n",
    "  df_sh_status = len(df_sh[df_sh[\"상태_명\"] == i])\n",
    "  print(f\"점포 상태 {i} : {df_sh_status}\")\n",
    "  df_sh_status_open = len(df_sh[(df_sh[\"상태_명\"] == i) & (df_sh[\"폐업_일\"].notnull())])\n",
    "  df_sh_status_closed = len(df_sh[(df_sh[\"상태_명\"] == i) & (df_sh[\"폐업_일\"].isnull())])\n",
    "  print(f\"그 중 폐업일이 NaN : {df_sh_status_closed}\")\n",
    "  print(f\"그 중 폐업일이 있는 것 : {df_sh_status_open}\")\n",
    "  print(\"-------------------\")\n",
    "\n",
    "print(f\"총 데이터 수 : {len(df_sh)}\")"
   ]
  },
  {
   "cell_type": "markdown",
   "metadata": {},
   "source": [
    "## 영업중 점포 : 현재 시각으로 운영 기간 계산 / 폐업 점포 : 운영 기간 계산"
   ]
  },
  {
   "cell_type": "markdown",
   "metadata": {},
   "source": [
    "- 영업운영기간 : 지금 시각을 기준으로 계산\n",
    "- 폐업운영기간 : (폐업일자 - 개업일자)로 계산"
   ]
  },
  {
   "cell_type": "code",
   "execution_count": 255,
   "metadata": {},
   "outputs": [],
   "source": [
    "df_sh[\"영업_운영_기간\"] = (pd.datetime.now() - df_sh[\"개업_일\"]).dt.days\n",
    "df_sh[\"폐업_운영_기간\"] = (df_sh[\"폐업_일\"] - df_sh[\"개업_일\"]).dt.days"
   ]
  },
  {
   "cell_type": "markdown",
   "metadata": {},
   "source": [
    "## 읍면동별 업종별 영업 / 폐업 나눠서 DataFrame 출력하는 함수"
   ]
  },
  {
   "cell_type": "markdown",
   "metadata": {},
   "source": [
    "- 상태명 : '영업', '폐업'\n",
    "- 업종(대분류) : '외식', '서비스', '소매'"
   ]
  },
  {
   "cell_type": "markdown",
   "metadata": {},
   "source": [
    "- 지역구, 읍면동 정보"
   ]
  },
  {
   "cell_type": "code",
   "execution_count": 256,
   "metadata": {},
   "outputs": [
    {
     "name": "stdout",
     "output_type": "stream",
     "text": [
      "- 강서구 : 명지동 강동동 대저2동 대저1동 대항동 천성동 눌차동 성북동 동선동 신호동 범방동 미음동 지사동 생곡동 녹산동 화전동 송정동 봉림동 죽동동 식만동 죽림동 구랑동  \n",
      "- 금정구 : 금성동 회동동 금사동 서동 부곡동 장전동 구서동 오륜동 선동 남산동 청룡동 노포동 두구동  \n",
      "- 사상구 : 괘법동 삼락동 엄궁동 학장동 주례동 감전동 덕포동 모라동  \n",
      "- 동래구 : 명장동 사직동 온천동 명륜동 복천동 수안동 낙민동 칠산동 안락동  \n",
      "- 사하구 : 감천동 구평동 다대동 장림동 신평동 하단동 당리동 괴정동  \n",
      "- 수영구 : 민락동 남천동 광안동 수영동 망미동  \n",
      "- 해운대구 : 송정동 좌동 중동 우동 재송동 반여동 석대동 반송동  \n",
      "- 북구 : 구포동 덕천동 만덕동 화명동 금곡동  \n",
      "- 남구 : 감만동 우암동 문현동 용당동 용호동 대연동  \n",
      "- 부산진구 : 개금동 가야동 당감동 부암동 초읍동 연지동 범전동 범천동 부전동 전포동 양정동  \n",
      "- 영도구 : 동삼동 청학동 봉래동5가 봉래동4가 봉래동2가 봉래동1가 신선동3가 신선동2가 신선동1가 영선동4가 봉래동3가 영선동3가 영선동2가 영선동1가 남항동3가 남항동2가 대교동2가 대교동1가 남항동1가 대평동2가 대평동1가  \n",
      "- 동구 : 범일동 좌천동 수정동 초량동  \n",
      "- 서구 : 암남동 남부민동 충무동2가 충무동1가 충무동3가 초장동 토성동5가 토성동4가 아미동2가 아미동1가 토성동3가 토성동2가 토성동1가 부민동3가 부민동2가 부민동1가 부용동2가 부용동1가 서대신동3가 서대신동2가 동대신동3가 동대신동2가 서대신동1가 동대신동1가  \n",
      "- 중구 : 남포동6가 남포동5가 남포동4가 남포동3가 남포동2가 남포동1가 광복동3가 광복동2가 창선동2가 창선동1가 신창동4가 신창동3가 부평동2가 부평동1가 보수동3가 보수동2가 보수동1가 신창동2가 대청동4가 대청동2가 대청동1가 신창동1가 동광동5가 광복동1가 부평동4가 부평동3가 동광동4가 동광동3가 동광동2가 동광동1가 대청동3가 중앙동6가 중앙동5가 중앙동4가 중앙동7가 중앙동3가 중앙동2가 중앙동1가 대창동2가 대창동1가 영주동  \n",
      "- 기장군 : 철마면 일광면 정관면 장안읍 기장읍  \n",
      "- 연제구 : 연산동 거제동  \n"
     ]
    }
   ],
   "source": [
    "for gu in df_sh[\"지역구\"].unique():\n",
    "  print(f\"- {gu} :\", end = \" \")\n",
    "  for dong in df_sh[df_sh[\"지역구\"] == gu][\"읍면동\"].unique():\n",
    "    print(f\"{dong}\", end = \" \")\n",
    "  print(\" \")"
   ]
  },
  {
   "cell_type": "code",
   "execution_count": 257,
   "metadata": {},
   "outputs": [],
   "source": [
    "def getDFStatusDong(status, gu, dong, upjong):\n",
    "  temp_df = df_sh[(df_sh[\"상태_명\"] == status) & \n",
    "                  (df_sh[\"지역구\"] == gu) & \n",
    "                  (df_sh[\"읍면동\"] == dong) &\n",
    "                  (df_sh[\"대분류\"] == upjong)]\n",
    "  \n",
    "  return temp_df"
   ]
  },
  {
   "cell_type": "code",
   "execution_count": null,
   "metadata": {},
   "outputs": [],
   "source": []
  },
  {
   "cell_type": "code",
   "execution_count": 219,
   "metadata": {},
   "outputs": [
    {
     "data": {
      "text/html": [
       "<div>\n",
       "<style scoped>\n",
       "    .dataframe tbody tr th:only-of-type {\n",
       "        vertical-align: middle;\n",
       "    }\n",
       "\n",
       "    .dataframe tbody tr th {\n",
       "        vertical-align: top;\n",
       "    }\n",
       "\n",
       "    .dataframe thead th {\n",
       "        text-align: right;\n",
       "    }\n",
       "</style>\n",
       "<table border=\"1\" class=\"dataframe\">\n",
       "  <thead>\n",
       "    <tr style=\"text-align: right;\">\n",
       "      <th></th>\n",
       "      <th>상태_명</th>\n",
       "      <th>상점_명</th>\n",
       "      <th>대분류</th>\n",
       "      <th>중분류</th>\n",
       "      <th>업종_명(소분류)</th>\n",
       "      <th>주소</th>\n",
       "      <th>개업_일</th>\n",
       "      <th>폐업_일</th>\n",
       "      <th>좌표</th>\n",
       "      <th>지역구</th>\n",
       "      <th>읍면동</th>\n",
       "      <th>영업_운영_기간</th>\n",
       "      <th>폐업_운영_기간</th>\n",
       "    </tr>\n",
       "  </thead>\n",
       "  <tbody>\n",
       "    <tr>\n",
       "      <th>43953</th>\n",
       "      <td>영업</td>\n",
       "      <td>통통연어</td>\n",
       "      <td>외식</td>\n",
       "      <td>일식음식점</td>\n",
       "      <td>일식 음식점업</td>\n",
       "      <td>부산광역시 남구 수영로298번길 21, 도네누 2층 일부호 (대연동)</td>\n",
       "      <td>2020-12-09</td>\n",
       "      <td>NaT</td>\n",
       "      <td>POINT(129.09956706082 35.1359004211359)</td>\n",
       "      <td>남구</td>\n",
       "      <td>대연동</td>\n",
       "      <td>628.0</td>\n",
       "      <td>NaN</td>\n",
       "    </tr>\n",
       "    <tr>\n",
       "      <th>43954</th>\n",
       "      <td>영업</td>\n",
       "      <td>고은족발</td>\n",
       "      <td>외식</td>\n",
       "      <td>한식음식점</td>\n",
       "      <td>한식 일반 음식점업</td>\n",
       "      <td>부산광역시 남구 못골로53번길 8, 1층 일부호 (대연동)</td>\n",
       "      <td>2021-02-01</td>\n",
       "      <td>NaT</td>\n",
       "      <td>POINT(129.088341483819 35.136173153275)</td>\n",
       "      <td>남구</td>\n",
       "      <td>대연동</td>\n",
       "      <td>574.0</td>\n",
       "      <td>NaN</td>\n",
       "    </tr>\n",
       "    <tr>\n",
       "      <th>43955</th>\n",
       "      <td>영업</td>\n",
       "      <td>달달반찬</td>\n",
       "      <td>외식</td>\n",
       "      <td>한식음식점</td>\n",
       "      <td>한식 일반 음식점업</td>\n",
       "      <td>부산광역시 남구 수영로 345, 301(상가)동 1층 107-1호 (대연동, 대연힐...</td>\n",
       "      <td>2021-01-13</td>\n",
       "      <td>NaT</td>\n",
       "      <td>POINT(129.101053855029 35.141942228079)</td>\n",
       "      <td>남구</td>\n",
       "      <td>대연동</td>\n",
       "      <td>593.0</td>\n",
       "      <td>NaN</td>\n",
       "    </tr>\n",
       "    <tr>\n",
       "      <th>43956</th>\n",
       "      <td>영업</td>\n",
       "      <td>푸드연구소</td>\n",
       "      <td>외식</td>\n",
       "      <td>분식전문점</td>\n",
       "      <td>기타 간이 음식점업</td>\n",
       "      <td>부산광역시 남구 진남로46번길 20, 나동 1층 102호 일부호 (대연동, 청명베스...</td>\n",
       "      <td>2021-01-13</td>\n",
       "      <td>NaT</td>\n",
       "      <td>POINT(129.090462520794 35.1389383090984)</td>\n",
       "      <td>남구</td>\n",
       "      <td>대연동</td>\n",
       "      <td>593.0</td>\n",
       "      <td>NaN</td>\n",
       "    </tr>\n",
       "    <tr>\n",
       "      <th>43957</th>\n",
       "      <td>영업</td>\n",
       "      <td>이든</td>\n",
       "      <td>외식</td>\n",
       "      <td>일식음식점</td>\n",
       "      <td>일식 음식점업</td>\n",
       "      <td>부산광역시 남구 석포로 74, 1(일부)층 (대연동)</td>\n",
       "      <td>2021-02-04</td>\n",
       "      <td>NaT</td>\n",
       "      <td>POINT(129.088541959485 35.124323797765)</td>\n",
       "      <td>남구</td>\n",
       "      <td>대연동</td>\n",
       "      <td>571.0</td>\n",
       "      <td>NaN</td>\n",
       "    </tr>\n",
       "    <tr>\n",
       "      <th>...</th>\n",
       "      <td>...</td>\n",
       "      <td>...</td>\n",
       "      <td>...</td>\n",
       "      <td>...</td>\n",
       "      <td>...</td>\n",
       "      <td>...</td>\n",
       "      <td>...</td>\n",
       "      <td>...</td>\n",
       "      <td>...</td>\n",
       "      <td>...</td>\n",
       "      <td>...</td>\n",
       "      <td>...</td>\n",
       "      <td>...</td>\n",
       "    </tr>\n",
       "    <tr>\n",
       "      <th>245205</th>\n",
       "      <td>영업</td>\n",
       "      <td>아지트</td>\n",
       "      <td>외식</td>\n",
       "      <td>커피·음료</td>\n",
       "      <td>비알콜 음료점업</td>\n",
       "      <td>부산광역시 남구 신선로447번길 25 (대연동)</td>\n",
       "      <td>2012-08-22</td>\n",
       "      <td>NaT</td>\n",
       "      <td>POINT(129.098560803458 35.124956323844)</td>\n",
       "      <td>남구</td>\n",
       "      <td>대연동</td>\n",
       "      <td>3659.0</td>\n",
       "      <td>NaN</td>\n",
       "    </tr>\n",
       "    <tr>\n",
       "      <th>245206</th>\n",
       "      <td>영업</td>\n",
       "      <td>꿀연구소카페</td>\n",
       "      <td>외식</td>\n",
       "      <td>커피·음료</td>\n",
       "      <td>비알콜 음료점업</td>\n",
       "      <td>부산광역시 남구 용소로8번길 58-2, 지상1층 (대연동)</td>\n",
       "      <td>2013-04-23</td>\n",
       "      <td>NaT</td>\n",
       "      <td>POINT(129.097572353204 35.1354649457675)</td>\n",
       "      <td>남구</td>\n",
       "      <td>대연동</td>\n",
       "      <td>3415.0</td>\n",
       "      <td>NaN</td>\n",
       "    </tr>\n",
       "    <tr>\n",
       "      <th>245207</th>\n",
       "      <td>영업</td>\n",
       "      <td>은하수</td>\n",
       "      <td>외식</td>\n",
       "      <td>커피·음료</td>\n",
       "      <td>비알콜 음료점업</td>\n",
       "      <td>부산광역시 남구 용소로21번길 59, 1층 (대연동)</td>\n",
       "      <td>2011-07-01</td>\n",
       "      <td>NaT</td>\n",
       "      <td>POINT(129.103660314969 35.135855457868)</td>\n",
       "      <td>남구</td>\n",
       "      <td>대연동</td>\n",
       "      <td>4077.0</td>\n",
       "      <td>NaN</td>\n",
       "    </tr>\n",
       "    <tr>\n",
       "      <th>245208</th>\n",
       "      <td>영업</td>\n",
       "      <td>숲</td>\n",
       "      <td>외식</td>\n",
       "      <td>커피·음료</td>\n",
       "      <td>비알콜 음료점업</td>\n",
       "      <td>부산광역시 남구 유엔평화로70번길 12 (대연동)</td>\n",
       "      <td>2015-03-26</td>\n",
       "      <td>NaT</td>\n",
       "      <td>POINT(129.092725488362 35.1284741920828)</td>\n",
       "      <td>남구</td>\n",
       "      <td>대연동</td>\n",
       "      <td>2713.0</td>\n",
       "      <td>NaN</td>\n",
       "    </tr>\n",
       "    <tr>\n",
       "      <th>246980</th>\n",
       "      <td>영업</td>\n",
       "      <td>시키</td>\n",
       "      <td>외식</td>\n",
       "      <td>한식음식점</td>\n",
       "      <td>한식 일반 음식점업</td>\n",
       "      <td>부산광역시 남구 못골로 81 (대연동)</td>\n",
       "      <td>2017-12-15</td>\n",
       "      <td>NaT</td>\n",
       "      <td>POINT(129.091409279948 35.1361545914013)</td>\n",
       "      <td>남구</td>\n",
       "      <td>대연동</td>\n",
       "      <td>1718.0</td>\n",
       "      <td>NaN</td>\n",
       "    </tr>\n",
       "  </tbody>\n",
       "</table>\n",
       "<p>1891 rows × 13 columns</p>\n",
       "</div>"
      ],
      "text/plain": [
       "       상태_명    상점_명 대분류    중분류   업종_명(소분류)  \\\n",
       "43953    영업    통통연어  외식  일식음식점     일식 음식점업   \n",
       "43954    영업    고은족발  외식  한식음식점  한식 일반 음식점업   \n",
       "43955    영업    달달반찬  외식  한식음식점  한식 일반 음식점업   \n",
       "43956    영업   푸드연구소  외식  분식전문점  기타 간이 음식점업   \n",
       "43957    영업      이든  외식  일식음식점     일식 음식점업   \n",
       "...     ...     ...  ..    ...         ...   \n",
       "245205   영업     아지트  외식  커피·음료    비알콜 음료점업   \n",
       "245206   영업  꿀연구소카페  외식  커피·음료    비알콜 음료점업   \n",
       "245207   영업     은하수  외식  커피·음료    비알콜 음료점업   \n",
       "245208   영업       숲  외식  커피·음료    비알콜 음료점업   \n",
       "246980   영업      시키  외식  한식음식점  한식 일반 음식점업   \n",
       "\n",
       "                                                       주소       개업_일 폐업_일  \\\n",
       "43953              부산광역시 남구 수영로298번길 21, 도네누 2층 일부호 (대연동) 2020-12-09  NaT   \n",
       "43954                    부산광역시 남구 못골로53번길 8, 1층 일부호 (대연동) 2021-02-01  NaT   \n",
       "43955   부산광역시 남구 수영로 345, 301(상가)동 1층 107-1호 (대연동, 대연힐... 2021-01-13  NaT   \n",
       "43956   부산광역시 남구 진남로46번길 20, 나동 1층 102호 일부호 (대연동, 청명베스... 2021-01-13  NaT   \n",
       "43957                       부산광역시 남구 석포로 74, 1(일부)층 (대연동) 2021-02-04  NaT   \n",
       "...                                                   ...        ...  ...   \n",
       "245205                         부산광역시 남구 신선로447번길 25 (대연동) 2012-08-22  NaT   \n",
       "245206                   부산광역시 남구 용소로8번길 58-2, 지상1층 (대연동) 2013-04-23  NaT   \n",
       "245207                      부산광역시 남구 용소로21번길 59, 1층 (대연동) 2011-07-01  NaT   \n",
       "245208                        부산광역시 남구 유엔평화로70번길 12 (대연동) 2015-03-26  NaT   \n",
       "246980                              부산광역시 남구 못골로 81 (대연동) 2017-12-15  NaT   \n",
       "\n",
       "                                              좌표 지역구  읍면동  영업_운영_기간  폐업_운영_기간  \n",
       "43953    POINT(129.09956706082 35.1359004211359)  남구  대연동     628.0       NaN  \n",
       "43954    POINT(129.088341483819 35.136173153275)  남구  대연동     574.0       NaN  \n",
       "43955    POINT(129.101053855029 35.141942228079)  남구  대연동     593.0       NaN  \n",
       "43956   POINT(129.090462520794 35.1389383090984)  남구  대연동     593.0       NaN  \n",
       "43957    POINT(129.088541959485 35.124323797765)  남구  대연동     571.0       NaN  \n",
       "...                                          ...  ..  ...       ...       ...  \n",
       "245205   POINT(129.098560803458 35.124956323844)  남구  대연동    3659.0       NaN  \n",
       "245206  POINT(129.097572353204 35.1354649457675)  남구  대연동    3415.0       NaN  \n",
       "245207   POINT(129.103660314969 35.135855457868)  남구  대연동    4077.0       NaN  \n",
       "245208  POINT(129.092725488362 35.1284741920828)  남구  대연동    2713.0       NaN  \n",
       "246980  POINT(129.091409279948 35.1361545914013)  남구  대연동    1718.0       NaN  \n",
       "\n",
       "[1891 rows x 13 columns]"
      ]
     },
     "execution_count": 219,
     "metadata": {},
     "output_type": "execute_result"
    }
   ],
   "source": [
    "df_sh_daeyeon = getDFStatusDong(status = \"영업\", gu = \"남구\", dong = \"대연동\", upjong = \"외식\")\n",
    "df_sh_daeyeon"
   ]
  },
  {
   "cell_type": "markdown",
   "metadata": {},
   "source": [
    "---"
   ]
  },
  {
   "cell_type": "markdown",
   "metadata": {},
   "source": [
    "## 시각화 이전에 영업/폐업 운영 기간(개월)을 구간별로 나눔"
   ]
  },
  {
   "cell_type": "markdown",
   "metadata": {},
   "source": [
    "- 그 전에 영업/폐업 운영 기간을 개월별로 나눠야 함\n",
    "  - 3개월 이하 : 90일 이하\n",
    "  - 3개월 이상 6개월 이하 : 90일 초과 180일 이하\n",
    "  - 6개월 이상 1년 이하 : 180일 초과 365일 이하\n",
    "  - 1년 이상 3년 이하 : 365일 초과 1095일 이하\n",
    "  - 3년 이상 : 1095일 초과"
   ]
  },
  {
   "cell_type": "code",
   "execution_count": 220,
   "metadata": {},
   "outputs": [],
   "source": [
    "# 영업 or 폐업, getDFStatusDong() 를 입력하면 시각화가 가능한 DF가 출력\n",
    "\n",
    "def getDFPeriodSection(status, df):\n",
    "  period = status + \"_운영_기간\"\n",
    "  period_month = status + \"_운영_기간(개월)\"\n",
    "  section = status + \"_운영_기간_구분\"\n",
    "\n",
    "  temp_df = pd.DataFrame(df[period].map(lambda x : round(x / 30, 1)))\n",
    "  temp_df = temp_df.rename(columns = {period : period_month})\n",
    "  temp_df[section] = np.NaN\n",
    "\n",
    "  temp_df_u3_index = temp_df[temp_df[period_month] <= 3].index\n",
    "  temp_df_o3u6_index = temp_df[(temp_df[period_month] > 3) & (temp_df[period_month] <= 6)].index\n",
    "  temp_df_o6u12_index = temp_df[(temp_df[period_month] > 6) & (temp_df[period_month] <= 12)].index\n",
    "  temp_df_o12u36_index = temp_df[(temp_df[period_month] > 12) & (temp_df[period_month] <= 36)].index\n",
    "  temp_df_o36_index = temp_df[temp_df[period_month] > 36].index\n",
    "\n",
    "  temp_df[section][temp_df_u3_index] = \"3개월 이하\"\n",
    "  temp_df[section][temp_df_o3u6_index] = \"3개월 ~ 6개월\"\n",
    "  temp_df[section][temp_df_o6u12_index] = \"6개월 ~ 1년\"\n",
    "  temp_df[section][temp_df_o12u36_index] = \"1년 ~ 3년\"\n",
    "  temp_df[section][temp_df_o36_index] = \"3년 이상\"\n",
    "\n",
    "  return temp_df"
   ]
  },
  {
   "cell_type": "code",
   "execution_count": 221,
   "metadata": {},
   "outputs": [
    {
     "data": {
      "text/html": [
       "<div>\n",
       "<style scoped>\n",
       "    .dataframe tbody tr th:only-of-type {\n",
       "        vertical-align: middle;\n",
       "    }\n",
       "\n",
       "    .dataframe tbody tr th {\n",
       "        vertical-align: top;\n",
       "    }\n",
       "\n",
       "    .dataframe thead th {\n",
       "        text-align: right;\n",
       "    }\n",
       "</style>\n",
       "<table border=\"1\" class=\"dataframe\">\n",
       "  <thead>\n",
       "    <tr style=\"text-align: right;\">\n",
       "      <th></th>\n",
       "      <th>영업_운영_기간(개월)</th>\n",
       "      <th>영업_운영_기간_구분</th>\n",
       "    </tr>\n",
       "  </thead>\n",
       "  <tbody>\n",
       "    <tr>\n",
       "      <th>43953</th>\n",
       "      <td>20.9</td>\n",
       "      <td>1년 ~ 3년</td>\n",
       "    </tr>\n",
       "    <tr>\n",
       "      <th>43954</th>\n",
       "      <td>19.1</td>\n",
       "      <td>1년 ~ 3년</td>\n",
       "    </tr>\n",
       "    <tr>\n",
       "      <th>43955</th>\n",
       "      <td>19.8</td>\n",
       "      <td>1년 ~ 3년</td>\n",
       "    </tr>\n",
       "    <tr>\n",
       "      <th>43956</th>\n",
       "      <td>19.8</td>\n",
       "      <td>1년 ~ 3년</td>\n",
       "    </tr>\n",
       "    <tr>\n",
       "      <th>43957</th>\n",
       "      <td>19.0</td>\n",
       "      <td>1년 ~ 3년</td>\n",
       "    </tr>\n",
       "    <tr>\n",
       "      <th>...</th>\n",
       "      <td>...</td>\n",
       "      <td>...</td>\n",
       "    </tr>\n",
       "    <tr>\n",
       "      <th>245205</th>\n",
       "      <td>122.0</td>\n",
       "      <td>3년 이상</td>\n",
       "    </tr>\n",
       "    <tr>\n",
       "      <th>245206</th>\n",
       "      <td>113.8</td>\n",
       "      <td>3년 이상</td>\n",
       "    </tr>\n",
       "    <tr>\n",
       "      <th>245207</th>\n",
       "      <td>135.9</td>\n",
       "      <td>3년 이상</td>\n",
       "    </tr>\n",
       "    <tr>\n",
       "      <th>245208</th>\n",
       "      <td>90.4</td>\n",
       "      <td>3년 이상</td>\n",
       "    </tr>\n",
       "    <tr>\n",
       "      <th>246980</th>\n",
       "      <td>57.3</td>\n",
       "      <td>3년 이상</td>\n",
       "    </tr>\n",
       "  </tbody>\n",
       "</table>\n",
       "<p>1891 rows × 2 columns</p>\n",
       "</div>"
      ],
      "text/plain": [
       "        영업_운영_기간(개월) 영업_운영_기간_구분\n",
       "43953           20.9     1년 ~ 3년\n",
       "43954           19.1     1년 ~ 3년\n",
       "43955           19.8     1년 ~ 3년\n",
       "43956           19.8     1년 ~ 3년\n",
       "43957           19.0     1년 ~ 3년\n",
       "...              ...         ...\n",
       "245205         122.0       3년 이상\n",
       "245206         113.8       3년 이상\n",
       "245207         135.9       3년 이상\n",
       "245208          90.4       3년 이상\n",
       "246980          57.3       3년 이상\n",
       "\n",
       "[1891 rows x 2 columns]"
      ]
     },
     "execution_count": 221,
     "metadata": {},
     "output_type": "execute_result"
    }
   ],
   "source": [
    "df_sh_daeyeon_section = getDFPeriodSection(status = \"영업\", df = df_sh_daeyeon)\n",
    "df_sh_daeyeon_section"
   ]
  },
  {
   "cell_type": "markdown",
   "metadata": {},
   "source": [
    "- 강서구 : 명지동 강동동 대저2동 대저1동 대항동 천성동 눌차동 성북동 동선동 신호동 범방동 미음동 지사동 생곡동 녹산동 화전동 송정동 봉림동 죽동동 식만동 죽림동 구랑동  \n",
    "- 금정구 : 금성동 회동동 금사동 서동 부곡동 장전동 구서동 오륜동 선동 남산동 청룡동 노포동 두구동  \n",
    "- 사상구 : 괘법동 삼락동 엄궁동 학장동 주례동 감전동 덕포동 모라동  \n",
    "- 동래구 : 명장동 사직동 온천동 명륜동 복천동 수안동 낙민동 칠산동 안락동  \n",
    "- 사하구 : 감천동 구평동 다대동 장림동 신평동 하단동 당리동 괴정동  \n",
    "- 수영구 : 민락동 남천동 광안동 수영동 망미동  \n",
    "- 해운대구 : 송정동 좌동 중동 우동 재송동 반여동 석대동 반송동  \n",
    "- 북구 : 구포동 덕천동 만덕동 화명동 금곡동  \n",
    "- 남구 : 감만동 우암동 문현동 용당동 용호동 대연동  \n",
    "- 부산진구 : 개금동 가야동 당감동 부암동 초읍동 연지동 범전동 범천동 부전동 전포동 양정동  \n",
    "- 영도구 : 동삼동 청학동 봉래동5가 봉래동4가 봉래동2가 봉래동1가 신선동3가 신선동2가 신선동1가 영선동4가 봉래동3가 영선동3가 영선동2가 영선동1가 남항동3가 남항동2가 대교동2가 대교동1가 남항동1가 대평동2가 대평동1가  \n",
    "- 동구 : 범일동 좌천동 수정동 초량동  \n",
    "- 서구 : 암남동 남부민동 충무동2가 충무동1가 충무동3가 초장동 토성동5가 토성동4가 아미동2가 아미동1가 토성동3가 토성동2가 토성동1가 부민동3가 부민동2가 부민동1가 부용동2가 부용동1가 서대신동3가 서대신동2가 동대신동3가 동대신동2가 서대신동1가 동대신동1가  \n",
    "- 중구 : 남포동6가 남포동5가 남포동4가 남포동3가 남포동2가 남포동1가 광복동3가 광복동2가 창선동2가 창선동1가 신창동4가 신창동3가 부평동2가 부평동1가 보수동3가 보수동2가 보수동1가 신창동2가 대청동4가 대청동2가 대청동1가 신창동1가 동광동5가 광복동1가 부평동4가 부평동3가 동광동4가 동광동3가 동광동2가 동광동1가 대청동3가 중앙동6가 중앙동5가 중앙동4가 중앙동7가 중앙동3가 중앙동2가 중앙동1가 대창동2가 대창동1가 영주동  \n",
    "- 기장군 : 철마면 일광면 정관면 장안읍 기장읍  \n",
    "- 연제구 : 연산동 거제동  "
   ]
  },
  {
   "cell_type": "code",
   "execution_count": 222,
   "metadata": {},
   "outputs": [
    {
     "data": {
      "text/plain": [
       "영업_운영_기간_구분\n",
       "1년 ~ 3년     21\n",
       "3년 이상      240\n",
       "Name: 영업_운영_기간(개월), dtype: int64"
      ]
     },
     "execution_count": 222,
     "metadata": {},
     "output_type": "execute_result"
    }
   ],
   "source": [
    "df_sh_bupyeong2ga = getDFStatusDong(status = \"영업\", gu = \"중구\", dong = \"부평동2가\", upjong = \"외식\")\n",
    "df_sh_bupyeong2ga_section = getDFPeriodSection(status = \"영업\", df = df_sh_bupyeong2ga)\n",
    "\n",
    "df_sh_bupyeong2ga_section.groupby([\"영업_운영_기간_구분\"])[\"영업_운영_기간(개월)\"].count()"
   ]
  },
  {
   "cell_type": "code",
   "execution_count": 223,
   "metadata": {},
   "outputs": [],
   "source": [
    "def getDFPeriodSection_New(status, df):\n",
    "  period = status + \"_운영_기간\"\n",
    "  period_month = status + \"_운영_기간(개월)\"\n",
    "  section = status + \"_운영_기간_구분\"\n",
    "\n",
    "  temp_df = pd.DataFrame(df[period].map(lambda x : round(x / 30, 1)))\n",
    "  temp_df = temp_df.rename(columns = {period : period_month})\n",
    "  temp_df[section] = np.NaN\n",
    "\n",
    "  temp_df_u1_index = temp_df[temp_df[period_month] <= 12].index\n",
    "  temp_df_o1u3_index = temp_df[(temp_df[period_month] > 12) & (temp_df[period_month] <= 36)].index\n",
    "  temp_df_o3u5_index = temp_df[(temp_df[period_month] > 36) & (temp_df[period_month] <= 60)].index\n",
    "  temp_df_o5u7_index = temp_df[(temp_df[period_month] > 60) & (temp_df[period_month] <= 72)].index\n",
    "  temp_df_u7_index = temp_df[temp_df[period_month] > 72].index\n",
    "\n",
    "\n",
    "  temp_df[section][temp_df_u1_index] = \"1년 이하\"\n",
    "  temp_df[section][temp_df_o1u3_index] = \"1년 ~ 3년\"\n",
    "  temp_df[section][temp_df_o3u5_index] = \"3년 ~ 5년\"\n",
    "  temp_df[section][temp_df_o5u7_index] = \"5년 ~ 7년\"\n",
    "  temp_df[section][temp_df_u7_index] = \"7년 이상\"\n",
    "\n",
    "  return temp_df"
   ]
  },
  {
   "cell_type": "code",
   "execution_count": 234,
   "metadata": {},
   "outputs": [
    {
     "data": {
      "text/plain": [
       "영업_운영_기간_구분\n",
       "7년 이상      204\n",
       "5년 ~ 7년      8\n",
       "3년 ~ 5년     28\n",
       "1년 ~ 3년     21\n",
       "Name: 영업_운영_기간(개월), dtype: int64"
      ]
     },
     "execution_count": 234,
     "metadata": {},
     "output_type": "execute_result"
    }
   ],
   "source": [
    "df_sh_bupyeong2ga_opened = getDFStatusDong(status = \"영업\", gu = \"중구\", dong = \"부평동2가\", upjong = \"외식\")\n",
    "df_sh_bupyeong2ga_opened_section = getDFPeriodSection_New(status = \"영업\", df = df_sh_bupyeong2ga_opened)\n",
    "\n",
    "df_bupyeong2ga_opened_for_viz = df_sh_bupyeong2ga_opened_section.groupby([\"영업_운영_기간_구분\"])[\"영업_운영_기간(개월)\"].count()\n",
    "df_bupyeong2ga_opened_for_viz = df_bupyeong2ga_opened_for_viz.reindex(index = [\"7년 이상\", \"5년 ~ 7년\", \"3년 ~ 5년\", \"1년 ~ 3년\"])\n",
    "df_bupyeong2ga_opened_for_viz"
   ]
  },
  {
   "cell_type": "markdown",
   "metadata": {},
   "source": [
    "## 시각화\n",
    "  - 예시 : 부산광역시 중구 부평동2가의 외식 업종 분석 "
   ]
  },
  {
   "cell_type": "markdown",
   "metadata": {},
   "source": [
    "- 운영 기간"
   ]
  },
  {
   "cell_type": "code",
   "execution_count": 225,
   "metadata": {},
   "outputs": [],
   "source": [
    "# 한글 폰트 설정\n",
    "import matplotlib\n",
    "import matplotlib.pyplot as plt\n",
    "\n",
    "from matplotlib import font_manager, rc\n",
    "font_name = font_manager.FontProperties(fname = 'C:\\windows/fonts/malgun.ttf').get_name()\n",
    "\n",
    "rc('font',family = font_name)"
   ]
  },
  {
   "cell_type": "code",
   "execution_count": 235,
   "metadata": {},
   "outputs": [
    {
     "data": {
      "image/png": "[encoded data removed]",
      "text/plain": [
       "<Figure size 432x288 with 1 Axes>"
      ]
     },
     "metadata": {
      "needs_background": "light"
     },
     "output_type": "display_data"
    }
   ],
   "source": [
    "# Pie Chart\n",
    "\n",
    "labels = df_bupyeong2ga_opened_for_viz.index\n",
    "sizes = df_bupyeong2ga_opened_for_viz.values\n",
    "colors = [\"#1e641e\", \"#509650\", \"#82c882\",\"#b4fab4\"]\n",
    "\n",
    "plt.pie(sizes, labels = labels, colors = colors, autopct = '%1.1f%%', startangle = 90,frame = True, pctdistance = 0.75)\n",
    "\n",
    "centre_circle = plt.Circle((0,0),0.50,fc='white')\n",
    "fig = plt.gcf()\n",
    "fig.gca().add_artist(centre_circle)\n",
    "\n",
    "plt.title(\"부산광역시 중구 부평동2가의 외식 업종 분석 결과 - 운영 기간\")\n",
    "plt.axis('equal')\n",
    "plt.tight_layout()\n",
    "plt.show()"
   ]
  },
  {
   "cell_type": "code",
   "execution_count": 227,
   "metadata": {},
   "outputs": [
    {
     "data": {
      "text/plain": [
       "폐업_운영_기간_구분\n",
       "7년 이상      104\n",
       "5년 ~ 7년     11\n",
       "3년 ~ 5년     28\n",
       "1년 ~ 3년     32\n",
       "1년 이하       24\n",
       "Name: 폐업_운영_기간(개월), dtype: int64"
      ]
     },
     "execution_count": 227,
     "metadata": {},
     "output_type": "execute_result"
    }
   ],
   "source": [
    "df_sh_bupyeong2ga_closed = getDFStatusDong(status = \"폐업\", gu = \"중구\", dong = \"부평동2가\", upjong = \"외식\")\n",
    "df_sh_bupyeong2ga_closed_section = getDFPeriodSection_New(status = \"폐업\", df = df_sh_bupyeong2ga_closed)\n",
    "\n",
    "df_bupyeong2ga_closed_for_viz = df_sh_bupyeong2ga_closed_section.groupby([\"폐업_운영_기간_구분\"])[\"폐업_운영_기간(개월)\"].count()\n",
    "df_bupyeong2ga_closed_for_viz = df_bupyeong2ga_closed_for_viz.reindex(index = [\"7년 이상\", \"5년 ~ 7년\", \"3년 ~ 5년\", \"1년 ~ 3년\", \"1년 이하\"])\n",
    "df_bupyeong2ga_closed_for_viz"
   ]
  },
  {
   "cell_type": "code",
   "execution_count": 228,
   "metadata": {},
   "outputs": [
    {
     "data": {
      "image/png": "[encoded data removed]",
      "text/plain": [
       "<Figure size 432x288 with 1 Axes>"
      ]
     },
     "metadata": {
      "needs_background": "light"
     },
     "output_type": "display_data"
    }
   ],
   "source": [
    "# Pie Chart\n",
    "\n",
    "labels = df_bupyeong2ga_closed_for_viz.index\n",
    "sizes = df_bupyeong2ga_closed_for_viz.values\n",
    "colors = [\"#1e1e50\", \"#464678\", \"#6e6ea0\", \"#9696c8\", \"#bebef0\"]\n",
    "\n",
    "plt.pie(sizes, labels = labels, colors = colors, autopct = '%1.1f%%', startangle = 90,frame = True, pctdistance = 0.75)\n",
    "\n",
    "centre_circle = plt.Circle((0,0),0.50,fc='white')\n",
    "fig = plt.gcf()\n",
    "fig.gca().add_artist(centre_circle)\n",
    "\n",
    "plt.title(\"부산광역시 중구 부평동2가의 외식 업종 분석 결과 - 폐업 기간\", fontsize = 20)\n",
    "plt.axis('equal')\n",
    "plt.tight_layout()\n",
    "plt.show()"
   ]
  },
  {
   "cell_type": "markdown",
   "metadata": {},
   "source": [
    "## 평균 운영기간 / 평균 폐업기간"
   ]
  },
  {
   "cell_type": "code",
   "execution_count": 229,
   "metadata": {},
   "outputs": [
    {
     "name": "stdout",
     "output_type": "stream",
     "text": [
      "부산광역시 중구 부평동2가의 평균 운영 기간은 7.3년입니다. \n",
      "부산광역시 중구 부평동2가의 평균 폐업 기간은 4.0년입니다. \n"
     ]
    }
   ],
   "source": [
    "bupyeong2ga_avg_open = df_sh_bupyeong2ga_opened_section[\"영업_운영_기간(개월)\"].mean() / 30\n",
    "bupyeong2ga_avg_closed = df_sh_bupyeong2ga_closed_section[\"폐업_운영_기간(개월)\"].mean() / 30\n",
    "\n",
    "print(f\"부산광역시 중구 부평동2가의 평균 운영 기간은 {round(bupyeong2ga_avg_open, 1)}년입니다. \")\n",
    "print(f\"부산광역시 중구 부평동2가의 평균 폐업 기간은 {round(bupyeong2ga_avg_closed, 1)}년입니다. \")"
   ]
  },
  {
   "cell_type": "markdown",
   "metadata": {},
   "source": [
    "---\n",
    "# 상권변화지표 지도로 분석"
   ]
  },
  {
   "cell_type": "markdown",
   "metadata": {},
   "source": [
    "---"
   ]
  },
  {
   "cell_type": "code",
   "execution_count": 230,
   "metadata": {},
   "outputs": [],
   "source": [
    "df_ci2 = pd.read_csv('./data2/부산광역시_상권_변화지표정보_지역구.csv')"
   ]
  },
  {
   "cell_type": "code",
   "execution_count": 139,
   "metadata": {},
   "outputs": [
    {
     "data": {
      "text/html": [
       "<div>\n",
       "<style scoped>\n",
       "    .dataframe tbody tr th:only-of-type {\n",
       "        vertical-align: middle;\n",
       "    }\n",
       "\n",
       "    .dataframe tbody tr th {\n",
       "        vertical-align: top;\n",
       "    }\n",
       "\n",
       "    .dataframe thead th {\n",
       "        text-align: right;\n",
       "    }\n",
       "</style>\n",
       "<table border=\"1\" class=\"dataframe\">\n",
       "  <thead>\n",
       "    <tr style=\"text-align: right;\">\n",
       "      <th></th>\n",
       "      <th>상권_변화_지표_명</th>\n",
       "      <th>상권_코드_명</th>\n",
       "      <th>상권_구분_코드_명</th>\n",
       "      <th>운영_영업_개월_평균</th>\n",
       "      <th>폐업_영업_개월_평균</th>\n",
       "      <th>부산_운영_영업_개월_평균</th>\n",
       "      <th>부산_폐업_영업_개월_평균</th>\n",
       "      <th>지역구</th>\n",
       "    </tr>\n",
       "  </thead>\n",
       "  <tbody>\n",
       "    <tr>\n",
       "      <th>0</th>\n",
       "      <td>전통상권</td>\n",
       "      <td>해운대시장</td>\n",
       "      <td>상권확장</td>\n",
       "      <td>0</td>\n",
       "      <td>120</td>\n",
       "      <td>50</td>\n",
       "      <td>44</td>\n",
       "      <td>해운대구</td>\n",
       "    </tr>\n",
       "    <tr>\n",
       "      <th>1</th>\n",
       "      <td>전통상권</td>\n",
       "      <td>학장반도보라상가</td>\n",
       "      <td>다이나믹</td>\n",
       "      <td>30</td>\n",
       "      <td>1</td>\n",
       "      <td>50</td>\n",
       "      <td>44</td>\n",
       "      <td>사상구</td>\n",
       "    </tr>\n",
       "    <tr>\n",
       "      <th>2</th>\n",
       "      <td>전통상권</td>\n",
       "      <td>하이타운상가백화점</td>\n",
       "      <td>다이나믹</td>\n",
       "      <td>26</td>\n",
       "      <td>36</td>\n",
       "      <td>50</td>\n",
       "      <td>44</td>\n",
       "      <td>남구</td>\n",
       "    </tr>\n",
       "    <tr>\n",
       "      <th>3</th>\n",
       "      <td>전통상권</td>\n",
       "      <td>하단시장</td>\n",
       "      <td>상권축소</td>\n",
       "      <td>57</td>\n",
       "      <td>21</td>\n",
       "      <td>50</td>\n",
       "      <td>44</td>\n",
       "      <td>사하구</td>\n",
       "    </tr>\n",
       "    <tr>\n",
       "      <th>4</th>\n",
       "      <td>전통상권</td>\n",
       "      <td>충렬상가시장</td>\n",
       "      <td>상권축소</td>\n",
       "      <td>80</td>\n",
       "      <td>0</td>\n",
       "      <td>50</td>\n",
       "      <td>44</td>\n",
       "      <td>동래구</td>\n",
       "    </tr>\n",
       "    <tr>\n",
       "      <th>...</th>\n",
       "      <td>...</td>\n",
       "      <td>...</td>\n",
       "      <td>...</td>\n",
       "      <td>...</td>\n",
       "      <td>...</td>\n",
       "      <td>...</td>\n",
       "      <td>...</td>\n",
       "      <td>...</td>\n",
       "    </tr>\n",
       "    <tr>\n",
       "      <th>472</th>\n",
       "      <td>발달상권</td>\n",
       "      <td>기장역</td>\n",
       "      <td>다이나믹</td>\n",
       "      <td>63</td>\n",
       "      <td>44</td>\n",
       "      <td>50</td>\n",
       "      <td>44</td>\n",
       "      <td>기장군</td>\n",
       "    </tr>\n",
       "    <tr>\n",
       "      <th>473</th>\n",
       "      <td>발달상권</td>\n",
       "      <td>광안리</td>\n",
       "      <td>상권확장</td>\n",
       "      <td>49</td>\n",
       "      <td>47</td>\n",
       "      <td>50</td>\n",
       "      <td>44</td>\n",
       "      <td>수영구</td>\n",
       "    </tr>\n",
       "    <tr>\n",
       "      <th>474</th>\n",
       "      <td>발달상권</td>\n",
       "      <td>경성대부경대역_3</td>\n",
       "      <td>다이나믹</td>\n",
       "      <td>31</td>\n",
       "      <td>31</td>\n",
       "      <td>50</td>\n",
       "      <td>44</td>\n",
       "      <td>남구</td>\n",
       "    </tr>\n",
       "    <tr>\n",
       "      <th>475</th>\n",
       "      <td>발달상권</td>\n",
       "      <td>경성대부경대역_2</td>\n",
       "      <td>다이나믹</td>\n",
       "      <td>50</td>\n",
       "      <td>35</td>\n",
       "      <td>50</td>\n",
       "      <td>44</td>\n",
       "      <td>남구</td>\n",
       "    </tr>\n",
       "    <tr>\n",
       "      <th>476</th>\n",
       "      <td>발달상권</td>\n",
       "      <td>경성대부경대역_1</td>\n",
       "      <td>다이나믹</td>\n",
       "      <td>45</td>\n",
       "      <td>44</td>\n",
       "      <td>50</td>\n",
       "      <td>44</td>\n",
       "      <td>남구</td>\n",
       "    </tr>\n",
       "  </tbody>\n",
       "</table>\n",
       "<p>477 rows × 8 columns</p>\n",
       "</div>"
      ],
      "text/plain": [
       "    상권_변화_지표_명    상권_코드_명 상권_구분_코드_명  운영_영업_개월_평균  폐업_영업_개월_평균  \\\n",
       "0         전통상권      해운대시장       상권확장            0          120   \n",
       "1         전통상권   학장반도보라상가       다이나믹           30            1   \n",
       "2         전통상권  하이타운상가백화점       다이나믹           26           36   \n",
       "3         전통상권       하단시장       상권축소           57           21   \n",
       "4         전통상권     충렬상가시장       상권축소           80            0   \n",
       "..         ...        ...        ...          ...          ...   \n",
       "472       발달상권        기장역       다이나믹           63           44   \n",
       "473       발달상권        광안리       상권확장           49           47   \n",
       "474       발달상권  경성대부경대역_3       다이나믹           31           31   \n",
       "475       발달상권  경성대부경대역_2       다이나믹           50           35   \n",
       "476       발달상권  경성대부경대역_1       다이나믹           45           44   \n",
       "\n",
       "     부산_운영_영업_개월_평균  부산_폐업_영업_개월_평균   지역구  \n",
       "0                50              44  해운대구  \n",
       "1                50              44   사상구  \n",
       "2                50              44    남구  \n",
       "3                50              44   사하구  \n",
       "4                50              44   동래구  \n",
       "..              ...             ...   ...  \n",
       "472              50              44   기장군  \n",
       "473              50              44   수영구  \n",
       "474              50              44    남구  \n",
       "475              50              44    남구  \n",
       "476              50              44    남구  \n",
       "\n",
       "[477 rows x 8 columns]"
      ]
     },
     "execution_count": 139,
     "metadata": {},
     "output_type": "execute_result"
    }
   ],
   "source": [
    "df_ci2"
   ]
  },
  {
   "cell_type": "code",
   "execution_count": 477,
   "metadata": {},
   "outputs": [],
   "source": [
    "df_ci_gu = pd.crosstab(\n",
    "  index = df_ci2.지역구,\n",
    "  columns = df_ci2.상권_구분_코드_명,\n",
    "  values = df_ci2.상권_구분_코드_명,\n",
    "  aggfunc = 'count',\n",
    ").fillna(0).apply(lambda x: x.astype('int64'))\n",
    "df_ci_gu = df_ci_gu[['다이나믹', '상권확장', '상권축소', '정체']]\n",
    "\n",
    "df_ci_gu = df_ci_gu.reset_index()\n",
    "df_ci_gu['상권구분'] = df_ci_gu[df_ci_gu.columns[1:]].apply(lambda x: x.index[x.argmax()], axis = 1)\n",
    "df_ci_gu['score'] = df_ci_gu['상권구분'].map({'다이나믹' : 4, '상권확장' : 3, '상권축소' : 2, '정체' : 1})\n",
    "\n",
    "df_ci_gu_for_viz = pd.DataFrame(index = df_ci_gu['지역구'], columns = ['상권구분', 'score'], data = df_ci_gu[['상권구분','score']].values)"
   ]
  },
  {
   "cell_type": "code",
   "execution_count": 478,
   "metadata": {},
   "outputs": [
    {
     "data": {
      "text/html": [
       "<div>\n",
       "<style scoped>\n",
       "    .dataframe tbody tr th:only-of-type {\n",
       "        vertical-align: middle;\n",
       "    }\n",
       "\n",
       "    .dataframe tbody tr th {\n",
       "        vertical-align: top;\n",
       "    }\n",
       "\n",
       "    .dataframe thead th {\n",
       "        text-align: right;\n",
       "    }\n",
       "</style>\n",
       "<table border=\"1\" class=\"dataframe\">\n",
       "  <thead>\n",
       "    <tr style=\"text-align: right;\">\n",
       "      <th></th>\n",
       "      <th>상권구분</th>\n",
       "      <th>score</th>\n",
       "    </tr>\n",
       "    <tr>\n",
       "      <th>지역구</th>\n",
       "      <th></th>\n",
       "      <th></th>\n",
       "    </tr>\n",
       "  </thead>\n",
       "  <tbody>\n",
       "    <tr>\n",
       "      <th>강서구</th>\n",
       "      <td>다이나믹</td>\n",
       "      <td>4</td>\n",
       "    </tr>\n",
       "    <tr>\n",
       "      <th>금정구</th>\n",
       "      <td>다이나믹</td>\n",
       "      <td>4</td>\n",
       "    </tr>\n",
       "    <tr>\n",
       "      <th>기장군</th>\n",
       "      <td>다이나믹</td>\n",
       "      <td>4</td>\n",
       "    </tr>\n",
       "    <tr>\n",
       "      <th>남구</th>\n",
       "      <td>상권축소</td>\n",
       "      <td>2</td>\n",
       "    </tr>\n",
       "    <tr>\n",
       "      <th>동구</th>\n",
       "      <td>정체</td>\n",
       "      <td>1</td>\n",
       "    </tr>\n",
       "    <tr>\n",
       "      <th>동래구</th>\n",
       "      <td>상권축소</td>\n",
       "      <td>2</td>\n",
       "    </tr>\n",
       "    <tr>\n",
       "      <th>부산진구</th>\n",
       "      <td>다이나믹</td>\n",
       "      <td>4</td>\n",
       "    </tr>\n",
       "    <tr>\n",
       "      <th>북구</th>\n",
       "      <td>상권축소</td>\n",
       "      <td>2</td>\n",
       "    </tr>\n",
       "    <tr>\n",
       "      <th>사상구</th>\n",
       "      <td>상권축소</td>\n",
       "      <td>2</td>\n",
       "    </tr>\n",
       "    <tr>\n",
       "      <th>사하구</th>\n",
       "      <td>상권축소</td>\n",
       "      <td>2</td>\n",
       "    </tr>\n",
       "    <tr>\n",
       "      <th>서구</th>\n",
       "      <td>상권축소</td>\n",
       "      <td>2</td>\n",
       "    </tr>\n",
       "    <tr>\n",
       "      <th>수영구</th>\n",
       "      <td>상권축소</td>\n",
       "      <td>2</td>\n",
       "    </tr>\n",
       "    <tr>\n",
       "      <th>연제구</th>\n",
       "      <td>상권축소</td>\n",
       "      <td>2</td>\n",
       "    </tr>\n",
       "    <tr>\n",
       "      <th>영도구</th>\n",
       "      <td>정체</td>\n",
       "      <td>1</td>\n",
       "    </tr>\n",
       "    <tr>\n",
       "      <th>중구</th>\n",
       "      <td>상권축소</td>\n",
       "      <td>2</td>\n",
       "    </tr>\n",
       "    <tr>\n",
       "      <th>해운대구</th>\n",
       "      <td>다이나믹</td>\n",
       "      <td>4</td>\n",
       "    </tr>\n",
       "  </tbody>\n",
       "</table>\n",
       "</div>"
      ],
      "text/plain": [
       "      상권구분 score\n",
       "지역구             \n",
       "강서구   다이나믹     4\n",
       "금정구   다이나믹     4\n",
       "기장군   다이나믹     4\n",
       "남구    상권축소     2\n",
       "동구      정체     1\n",
       "동래구   상권축소     2\n",
       "부산진구  다이나믹     4\n",
       "북구    상권축소     2\n",
       "사상구   상권축소     2\n",
       "사하구   상권축소     2\n",
       "서구    상권축소     2\n",
       "수영구   상권축소     2\n",
       "연제구   상권축소     2\n",
       "영도구     정체     1\n",
       "중구    상권축소     2\n",
       "해운대구  다이나믹     4"
      ]
     },
     "execution_count": 478,
     "metadata": {},
     "output_type": "execute_result"
    }
   ],
   "source": [
    "df_ci_gu_for_viz"
   ]
  },
  {
   "cell_type": "code",
   "execution_count": 473,
   "metadata": {},
   "outputs": [],
   "source": [
    "geo_path = './data2/busan_gu.json'\n",
    "geo_str = json.load(open(geo_path, encoding='utf-8'))"
   ]
  },
  {
   "cell_type": "code",
   "execution_count": 474,
   "metadata": {},
   "outputs": [
    {
     "data": {
      "text/html": [
       "<div style=\"width:100%;\"><div style=\"position:relative;width:100%;height:0;padding-bottom:60%;\"><span style=\"color:#565656\">Make this Notebook Trusted to load map: File -> Trust Notebook</span><iframe srcdoc=\"&lt;!DOCTYPE html&gt;\n",
       "&lt;head&gt;    \n",
       "    &lt;meta http-equiv=&quot;content-type&quot; content=&quot;text/html; charset=UTF-8&quot; /&gt;\n",
       "    \n",
       "        &lt;script&gt;\n",
       "            L_NO_TOUCH = false;\n",
       "            L_DISABLE_3D = false;\n",
       "        &lt;/script&gt;\n",
       "    \n",
       "    &lt;style&gt;html, body {width: 100%;height: 100%;margin: 0;padding: 0;}&lt;/style&gt;\n",
       "    &lt;style&gt;#map {position:absolute;top:0;bottom:0;right:0;left:0;}&lt;/style&gt;\n",
       "    &lt;script src=&quot;https://cdn.jsdelivr.net/npm/leaflet@1.6.0/dist/leaflet.js&quot;&gt;&lt;/script&gt;\n",
       "    &lt;script src=&quot;https://code.jquery.com/jquery-1.12.4.min.js&quot;&gt;&lt;/script&gt;\n",
       "    &lt;script src=&quot;https://maxcdn.bootstrapcdn.com/bootstrap/3.2.0/js/bootstrap.min.js&quot;&gt;&lt;/script&gt;\n",
       "    &lt;script src=&quot;https://cdnjs.cloudflare.com/ajax/libs/Leaflet.awesome-markers/2.0.2/leaflet.awesome-markers.js&quot;&gt;&lt;/script&gt;\n",
       "    &lt;link rel=&quot;stylesheet&quot; href=&quot;https://cdn.jsdelivr.net/npm/leaflet@1.6.0/dist/leaflet.css&quot;/&gt;\n",
       "    &lt;link rel=&quot;stylesheet&quot; href=&quot;https://maxcdn.bootstrapcdn.com/bootstrap/3.2.0/css/bootstrap.min.css&quot;/&gt;\n",
       "    &lt;link rel=&quot;stylesheet&quot; href=&quot;https://maxcdn.bootstrapcdn.com/bootstrap/3.2.0/css/bootstrap-theme.min.css&quot;/&gt;\n",
       "    &lt;link rel=&quot;stylesheet&quot; href=&quot;https://maxcdn.bootstrapcdn.com/font-awesome/4.6.3/css/font-awesome.min.css&quot;/&gt;\n",
       "    &lt;link rel=&quot;stylesheet&quot; href=&quot;https://cdnjs.cloudflare.com/ajax/libs/Leaflet.awesome-markers/2.0.2/leaflet.awesome-markers.css&quot;/&gt;\n",
       "    &lt;link rel=&quot;stylesheet&quot; href=&quot;https://cdn.jsdelivr.net/gh/python-visualization/folium/folium/templates/leaflet.awesome.rotate.min.css&quot;/&gt;\n",
       "    \n",
       "            &lt;meta name=&quot;viewport&quot; content=&quot;width=device-width,\n",
       "                initial-scale=1.0, maximum-scale=1.0, user-scalable=no&quot; /&gt;\n",
       "            &lt;style&gt;\n",
       "                #map_c257c8d512ee34ba45760c98d5429fbe {\n",
       "                    position: relative;\n",
       "                    width: 100.0%;\n",
       "                    height: 100.0%;\n",
       "                    left: 0.0%;\n",
       "                    top: 0.0%;\n",
       "                }\n",
       "            &lt;/style&gt;\n",
       "        \n",
       "    &lt;script src=&quot;https://cdnjs.cloudflare.com/ajax/libs/d3/3.5.5/d3.min.js&quot;&gt;&lt;/script&gt;\n",
       "&lt;/head&gt;\n",
       "&lt;body&gt;    \n",
       "    \n",
       "            &lt;div class=&quot;folium-map&quot; id=&quot;map_c257c8d512ee34ba45760c98d5429fbe&quot; &gt;&lt;/div&gt;\n",
       "        \n",
       "&lt;/body&gt;\n",
       "&lt;script&gt;    \n",
       "    \n",
       "            var map_c257c8d512ee34ba45760c98d5429fbe = L.map(\n",
       "                &quot;map_c257c8d512ee34ba45760c98d5429fbe&quot;,\n",
       "                {\n",
       "                    center: [35.1856505, 129.1],\n",
       "                    crs: L.CRS.EPSG3857,\n",
       "                    zoom: 11,\n",
       "                    zoomControl: true,\n",
       "                    preferCanvas: false,\n",
       "                }\n",
       "            );\n",
       "\n",
       "            \n",
       "\n",
       "        \n",
       "    \n",
       "            var tile_layer_6735aaba9e8ab19da503ee2083463697 = L.tileLayer(\n",
       "                &quot;https://{s}.tile.openstreetmap.org/{z}/{x}/{y}.png&quot;,\n",
       "                {&quot;attribution&quot;: &quot;Data by \\u0026copy; \\u003ca href=\\&quot;http://openstreetmap.org\\&quot;\\u003eOpenStreetMap\\u003c/a\\u003e, under \\u003ca href=\\&quot;http://www.openstreetmap.org/copyright\\&quot;\\u003eODbL\\u003c/a\\u003e.&quot;, &quot;detectRetina&quot;: false, &quot;maxNativeZoom&quot;: 18, &quot;maxZoom&quot;: 18, &quot;minZoom&quot;: 0, &quot;noWrap&quot;: false, &quot;opacity&quot;: 1, &quot;subdomains&quot;: &quot;abc&quot;, &quot;tms&quot;: false}\n",
       "            ).addTo(map_c257c8d512ee34ba45760c98d5429fbe);\n",
       "        \n",
       "    \n",
       "            var choropleth_3e24e58badf7402470efbb6927266bc5 = L.featureGroup(\n",
       "                {}\n",
       "            ).addTo(map_c257c8d512ee34ba45760c98d5429fbe);\n",
       "        \n",
       "    \n",
       "        function geo_json_96be75ab6edf4c6ba03bfd29598075b5_styler(feature) {\n",
       "            switch(feature.id) {\n",
       "                case &quot;\\ub3d9\\uad6c&quot;: case &quot;\\uc601\\ub3c4\\uad6c&quot;: \n",
       "                    return {&quot;color&quot;: &quot;black&quot;, &quot;fillColor&quot;: &quot;#f1eef6&quot;, &quot;fillOpacity&quot;: 0.6, &quot;opacity&quot;: 1, &quot;weight&quot;: 1};\n",
       "                case &quot;\\ubd80\\uc0b0\\uc9c4\\uad6c&quot;: case &quot;\\ud574\\uc6b4\\ub300\\uad6c&quot;: case &quot;\\uae08\\uc815\\uad6c&quot;: case &quot;\\uac15\\uc11c\\uad6c&quot;: case &quot;\\uae30\\uc7a5\\uad70&quot;: \n",
       "                    return {&quot;color&quot;: &quot;black&quot;, &quot;fillColor&quot;: &quot;#980043&quot;, &quot;fillOpacity&quot;: 0.6, &quot;opacity&quot;: 1, &quot;weight&quot;: 1};\n",
       "                default:\n",
       "                    return {&quot;color&quot;: &quot;black&quot;, &quot;fillColor&quot;: &quot;#c994c7&quot;, &quot;fillOpacity&quot;: 0.6, &quot;opacity&quot;: 1, &quot;weight&quot;: 1};\n",
       "            }\n",
       "        }\n",
       "\n",
       "        function geo_json_96be75ab6edf4c6ba03bfd29598075b5_onEachFeature(feature, layer) {\n",
       "            layer.on({\n",
       "            });\n",
       "        };\n",
       "        var geo_json_96be75ab6edf4c6ba03bfd29598075b5 = L.geoJson(null, {\n",
       "                onEachFeature: geo_json_96be75ab6edf4c6ba03bfd29598075b5_onEachFeature,\n",
       "            \n",
       "                style: geo_json_96be75ab6edf4c6ba03bfd29598075b5_styler,\n",
       "        });\n",
       "\n",
       "        function geo_json_96be75ab6edf4c6ba03bfd29598075b5_add (data) {\n",
       "            geo_json_96be75ab6edf4c6ba03bfd29598075b5\n",
       "                .addData(data)\n",
       "                .addTo(choropleth_3e24e58badf7402470efbb6927266bc5);\n",
       "        }\n",
       "            geo_json_96be75ab6edf4c6ba03bfd29598075b5_add({&quot;features&quot;: [{&quot;geometry&quot;: {&quot;coordinates&quot;: [[[129.032, 35.116], [129.038, 35.112], [129.042, 35.111], [129.041, 35.108], [129.038, 35.104], [129.038, 35.098], [129.037, 35.097], [129.029, 35.096], [129.026, 35.096], [129.024, 35.1], [129.022, 35.102], [129.021, 35.106], [129.023, 35.109], [129.024, 35.109], [129.026, 35.111], [129.028, 35.11], [129.028, 35.115], [129.032, 35.116]]], &quot;type&quot;: &quot;Polygon&quot;}, &quot;id&quot;: &quot;\\uc911\\uad6c&quot;, &quot;properties&quot;: {&quot;base_year&quot;: &quot;2013&quot;, &quot;code&quot;: &quot;21010&quot;, &quot;name&quot;: &quot;\\uc911\\uad6c&quot;, &quot;name_eng&quot;: &quot;Jung-gu&quot;}, &quot;type&quot;: &quot;Feature&quot;}, {&quot;geometry&quot;: {&quot;coordinates&quot;: [[[129.023, 35.076], [129.021, 35.078], [129.018, 35.077], [129.017, 35.074], [129.019, 35.07], [129.021, 35.07], [129.021, 35.066], [129.02, 35.065], [129.022, 35.062], [129.019, 35.059], [129.018, 35.058], [129.016, 35.057], [129.015, 35.053], [129.012, 35.052], [129.008, 35.063], [129.011, 35.063], [129.012, 35.065], [129.009, 35.066], [129.006, 35.071], [129.004, 35.078], [129.008, 35.079], [129.011, 35.077], [129.012, 35.08], [129.011, 35.083], [129.012, 35.084], [129.014, 35.091], [129.014, 35.094], [129.01, 35.099], [129.007, 35.1], [129.007, 35.101], [129.01, 35.106], [129.006, 35.109], [129.004, 35.111], [129.004, 35.113], [129.002, 35.114], [129.003, 35.117], [128.999, 35.119], [129, 35.124], [129.003, 35.125], [129.003, 35.131], [129.003, 35.134], [129.004, 35.136], [128.996, 35.14], [128.998, 35.141], [129.002, 35.141], [129.004, 35.139], [129.008, 35.14], [129.011, 35.139], [129.013, 35.137], [129.016, 35.136], [129.022, 35.137], [129.026, 35.136], [129.026, 35.133], [129.026, 35.126], [129.026, 35.125], [129.025, 35.122], [129.025, 35.118], [129.027, 35.116], [129.028, 35.112], [129.024, 35.109], [129.023, 35.109], [129.021, 35.106], [129.022, 35.102], [129.024, 35.1], [129.026, 35.096], [129.025, 35.094], [129.027, 35.085], [129.024, 35.076], [129.023, 35.076]]], &quot;type&quot;: &quot;Polygon&quot;}, &quot;id&quot;: &quot;\\uc11c\\uad6c&quot;, &quot;properties&quot;: {&quot;base_year&quot;: &quot;2013&quot;, &quot;code&quot;: &quot;21020&quot;, &quot;name&quot;: &quot;\\uc11c\\uad6c&quot;, &quot;name_eng&quot;: &quot;Seo-gu&quot;}, &quot;type&quot;: &quot;Feature&quot;}, {&quot;geometry&quot;: {&quot;coordinates&quot;: [[[129.043, 35.146], [129.046, 35.146], [129.048, 35.144], [129.052, 35.142], [129.059, 35.141], [129.065, 35.141], [129.066, 35.139], [129.065, 35.135], [129.066, 35.13], [129.065, 35.127], [129.056, 35.118], [129.053, 35.12], [129.055, 35.122], [129.056, 35.125], [129.055, 35.126], [129.05, 35.124], [129.049, 35.12], [129.054, 35.117], [129.053, 35.116], [129.048, 35.119], [129.047, 35.117], [129.051, 35.114], [129.05, 35.113], [129.045, 35.116], [129.042, 35.11], [129.038, 35.112], [129.032, 35.117], [129.027, 35.116], [129.024, 35.119], [129.026, 35.125], [129.026, 35.126], [129.026, 35.133], [129.026, 35.136], [129.032, 35.138], [129.035, 35.138], [129.039, 35.14], [129.039, 35.144], [129.041, 35.146], [129.043, 35.146]]], &quot;type&quot;: &quot;Polygon&quot;}, &quot;id&quot;: &quot;\\ub3d9\\uad6c&quot;, &quot;properties&quot;: {&quot;base_year&quot;: &quot;2013&quot;, &quot;code&quot;: &quot;21030&quot;, &quot;name&quot;: &quot;\\ub3d9\\uad6c&quot;, &quot;name_eng&quot;: &quot;Dong-gu&quot;}, &quot;type&quot;: &quot;Feature&quot;}, {&quot;geometry&quot;: {&quot;coordinates&quot;: [[[129.071, 35.059], [129.069, 35.061], [129.065, 35.061], [129.065, 35.062], [129.066, 35.066], [129.065, 35.069], [129.063, 35.07], [129.057, 35.071], [129.053, 35.072], [129.047, 35.076], [129.045, 35.078], [129.041, 35.081], [129.04, 35.081], [129.034, 35.085], [129.034, 35.089], [129.031, 35.092], [129.032, 35.094], [129.037, 35.092], [129.036, 35.095], [129.045, 35.097], [129.047, 35.096], [129.051, 35.1], [129.055, 35.101], [129.059, 35.101], [129.068, 35.096], [129.071, 35.094], [129.079, 35.085], [129.079, 35.082], [129.084, 35.074], [129.087, 35.077], [129.093, 35.08], [129.096, 35.08], [129.095, 35.077], [129.092, 35.076], [129.091, 35.074], [129.087, 35.073], [129.086, 35.074], [129.08, 35.071], [129.082, 35.07], [129.085, 35.07], [129.085, 35.066], [129.088, 35.063], [129.091, 35.061], [129.096, 35.06], [129.095, 35.057], [129.092, 35.054], [129.092, 35.051], [129.086, 35.049], [129.083, 35.05], [129.081, 35.053], [129.082, 35.056], [129.079, 35.059], [129.077, 35.061], [129.075, 35.061], [129.071, 35.059]]], &quot;type&quot;: &quot;Polygon&quot;}, &quot;id&quot;: &quot;\\uc601\\ub3c4\\uad6c&quot;, &quot;properties&quot;: {&quot;base_year&quot;: &quot;2013&quot;, &quot;code&quot;: &quot;21040&quot;, &quot;name&quot;: &quot;\\uc601\\ub3c4\\uad6c&quot;, &quot;name_eng&quot;: &quot;Youngdo-gu&quot;}, &quot;type&quot;: &quot;Feature&quot;}, {&quot;geometry&quot;: {&quot;coordinates&quot;: [[[129.065, 35.177], [129.067, 35.176], [129.07, 35.176], [129.073, 35.179], [129.075, 35.179], [129.076, 35.176], [129.079, 35.175], [129.079, 35.173], [129.082, 35.171], [129.081, 35.168], [129.079, 35.167], [129.078, 35.164], [129.081, 35.16], [129.083, 35.158], [129.082, 35.155], [129.08, 35.154], [129.079, 35.151], [129.075, 35.151], [129.067, 35.148], [129.066, 35.149], [129.063, 35.149], [129.063, 35.144], [129.065, 35.141], [129.059, 35.141], [129.052, 35.142], [129.048, 35.144], [129.046, 35.146], [129.041, 35.146], [129.039, 35.144], [129.039, 35.14], [129.035, 35.138], [129.032, 35.138], [129.026, 35.136], [129.022, 35.137], [129.016, 35.136], [129.012, 35.137], [129.016, 35.143], [129.014, 35.146], [129.016, 35.147], [129.016, 35.155], [129.011, 35.159], [129.011, 35.163], [129.013, 35.166], [129.013, 35.169], [129.011, 35.171], [129.011, 35.173], [129.013, 35.176], [129.014, 35.177], [129.017, 35.18], [129.02, 35.181], [129.021, 35.182], [129.021, 35.187], [129.026, 35.192], [129.026, 35.194], [129.029, 35.194], [129.032, 35.196], [129.034, 35.198], [129.04, 35.199], [129.044, 35.199], [129.048, 35.195], [129.048, 35.19], [129.051, 35.187], [129.051, 35.185], [129.055, 35.184], [129.06, 35.184], [129.062, 35.183], [129.062, 35.18], [129.063, 35.177], [129.065, 35.177]]], &quot;type&quot;: &quot;Polygon&quot;}, &quot;id&quot;: &quot;\\ubd80\\uc0b0\\uc9c4\\uad6c&quot;, &quot;properties&quot;: {&quot;base_year&quot;: &quot;2013&quot;, &quot;code&quot;: &quot;21050&quot;, &quot;name&quot;: &quot;\\ubd80\\uc0b0\\uc9c4\\uad6c&quot;, &quot;name_eng&quot;: &quot;Busanjin-gu&quot;}, &quot;type&quot;: &quot;Feature&quot;}, {&quot;geometry&quot;: {&quot;coordinates&quot;: [[[129.083, 35.224], [129.085, 35.222], [129.087, 35.222], [129.086, 35.219], [129.088, 35.218], [129.094, 35.215], [129.095, 35.215], [129.101, 35.213], [129.102, 35.211], [129.106, 35.21], [129.107, 35.211], [129.11, 35.21], [129.111, 35.204], [129.116, 35.201], [129.115, 35.198], [129.114, 35.194], [129.115, 35.188], [129.115, 35.187], [129.115, 35.184], [129.114, 35.184], [129.112, 35.189], [129.108, 35.19], [129.106, 35.19], [129.1, 35.191], [129.097, 35.193], [129.093, 35.193], [129.087, 35.194], [129.084, 35.195], [129.082, 35.198], [129.078, 35.199], [129.074, 35.198], [129.072, 35.195], [129.064, 35.194], [129.062, 35.192], [129.057, 35.193], [129.056, 35.192], [129.053, 35.192], [129.048, 35.195], [129.044, 35.199], [129.044, 35.202], [129.047, 35.202], [129.047, 35.204], [129.05, 35.207], [129.051, 35.209], [129.051, 35.213], [129.053, 35.216], [129.056, 35.218], [129.059, 35.225], [129.062, 35.226], [129.068, 35.225], [129.074, 35.225], [129.078, 35.226], [129.081, 35.223], [129.083, 35.224]]], &quot;type&quot;: &quot;Polygon&quot;}, &quot;id&quot;: &quot;\\ub3d9\\ub798\\uad6c&quot;, &quot;properties&quot;: {&quot;base_year&quot;: &quot;2013&quot;, &quot;code&quot;: &quot;21060&quot;, &quot;name&quot;: &quot;\\ub3d9\\ub798\\uad6c&quot;, &quot;name_eng&quot;: &quot;Dongnae-gu&quot;}, &quot;type&quot;: &quot;Feature&quot;}, {&quot;geometry&quot;: {&quot;coordinates&quot;: [[[129.111, 35.136], [129.11, 35.134], [129.113, 35.133], [129.116, 35.133], [129.115, 35.131], [129.117, 35.13], [129.121, 35.134], [129.122, 35.132], [129.121, 35.13], [129.123, 35.126], [129.128, 35.119], [129.127, 35.113], [129.128, 35.111], [129.125, 35.106], [129.124, 35.102], [129.123, 35.099], [129.119, 35.099], [129.116, 35.1], [129.113, 35.103], [129.11, 35.101], [129.107, 35.103], [129.105, 35.099], [129.1, 35.099], [129.099, 35.097], [129.096, 35.097], [129.095, 35.099], [129.094, 35.107], [129.093, 35.109], [129.09, 35.109], [129.09, 35.104], [129.075, 35.104], [129.067, 35.108], [129.07, 35.111], [129.068, 35.112], [129.072, 35.116], [129.074, 35.117], [129.072, 35.119], [129.073, 35.122], [129.07, 35.123], [129.069, 35.122], [129.066, 35.123], [129.067, 35.126], [129.066, 35.14], [129.063, 35.143], [129.063, 35.149], [129.066, 35.149], [129.067, 35.148], [129.075, 35.151], [129.079, 35.151], [129.08, 35.154], [129.082, 35.155], [129.082, 35.157], [129.089, 35.161], [129.093, 35.16], [129.095, 35.161], [129.099, 35.155], [129.101, 35.152], [129.102, 35.149], [129.103, 35.144], [129.102, 35.143], [129.106, 35.139], [129.111, 35.136]]], &quot;type&quot;: &quot;Polygon&quot;}, &quot;id&quot;: &quot;\\ub0a8\\uad6c&quot;, &quot;properties&quot;: {&quot;base_year&quot;: &quot;2013&quot;, &quot;code&quot;: &quot;21070&quot;, &quot;name&quot;: &quot;\\ub0a8\\uad6c&quot;, &quot;name_eng&quot;: &quot;Nam-gu&quot;}, &quot;type&quot;: &quot;Feature&quot;}, {&quot;geometry&quot;: {&quot;coordinates&quot;: [[[129.047, 35.274], [129.046, 35.271], [129.044, 35.27], [129.042, 35.263], [129.038, 35.262], [129.037, 35.261], [129.04, 35.259], [129.042, 35.257], [129.047, 35.257], [129.049, 35.255], [129.045, 35.251], [129.046, 35.249], [129.046, 35.247], [129.048, 35.246], [129.049, 35.245], [129.05, 35.241], [129.049, 35.239], [129.047, 35.238], [129.047, 35.235], [129.044, 35.233], [129.044, 35.231], [129.047, 35.23], [129.049, 35.229], [129.056, 35.228], [129.06, 35.23], [129.062, 35.226], [129.059, 35.225], [129.056, 35.218], [129.053, 35.216], [129.051, 35.213], [129.051, 35.209], [129.05, 35.207], [129.047, 35.204], [129.047, 35.202], [129.044, 35.202], [129.044, 35.199], [129.04, 35.199], [129.034, 35.198], [129.032, 35.196], [129.029, 35.194], [129.026, 35.194], [129.026, 35.192], [129.021, 35.188], [129.017, 35.189], [129.011, 35.189], [129.008, 35.188], [129.004, 35.19], [129, 35.19], [129, 35.192], [128.991, 35.196], [128.988, 35.196], [128.989, 35.2], [128.987, 35.202], [128.991, 35.204], [128.994, 35.208], [128.995, 35.213], [128.997, 35.225], [128.998, 35.233], [128.997, 35.236], [128.999, 35.238], [129.002, 35.245], [129.006, 35.252], [129.012, 35.263], [129.015, 35.271], [129.013, 35.274], [129.017, 35.275], [129.027, 35.277], [129.031, 35.277], [129.035, 35.276], [129.036, 35.275], [129.047, 35.274]]], &quot;type&quot;: &quot;Polygon&quot;}, &quot;id&quot;: &quot;\\ubd81\\uad6c&quot;, &quot;properties&quot;: {&quot;base_year&quot;: &quot;2013&quot;, &quot;code&quot;: &quot;21080&quot;, &quot;name&quot;: &quot;\\ubd81\\uad6c&quot;, &quot;name_eng&quot;: &quot;Buk-gu&quot;}, &quot;type&quot;: &quot;Feature&quot;}, {&quot;geometry&quot;: {&quot;coordinates&quot;: [[[129.127, 35.166], [129.125, 35.167], [129.125, 35.168], [129.124, 35.17], [129.123, 35.171], [129.123, 35.172], [129.121, 35.173], [129.121, 35.174], [129.118, 35.18], [129.118, 35.181], [129.115, 35.187], [129.115, 35.188], [129.114, 35.194], [129.115, 35.198], [129.116, 35.201], [129.111, 35.204], [129.11, 35.21], [129.112, 35.213], [129.116, 35.213], [129.119, 35.216], [129.117, 35.222], [129.118, 35.224], [129.121, 35.226], [129.127, 35.227], [129.13, 35.231], [129.13, 35.233], [129.131, 35.235], [129.137, 35.238], [129.142, 35.242], [129.141, 35.244], [129.144, 35.247], [129.145, 35.251], [129.149, 35.247], [129.149, 35.246], [129.156, 35.244], [129.157, 35.243], [129.155, 35.239], [129.155, 35.236], [129.161, 35.234], [129.164, 35.231], [129.167, 35.23], [129.169, 35.228], [129.169, 35.225], [129.165, 35.22], [129.165, 35.215], [129.16, 35.212], [129.16, 35.21], [129.16, 35.206], [129.163, 35.206], [129.165, 35.203], [129.17, 35.201], [129.172, 35.202], [129.176, 35.201], [129.179, 35.198], [129.183, 35.198], [129.185, 35.195], [129.183, 35.191], [129.185, 35.19], [129.188, 35.189], [129.191, 35.192], [129.193, 35.194], [129.195, 35.199], [129.199, 35.2], [129.207, 35.197], [129.207, 35.195], [129.206, 35.191], [129.207, 35.185], [129.208, 35.183], [129.205, 35.181], [129.201, 35.18], [129.197, 35.176], [129.198, 35.173], [129.196, 35.164], [129.194, 35.161], [129.187, 35.159], [129.183, 35.156], [129.181, 35.155], [129.177, 35.155], [129.174, 35.157], [129.17, 35.159], [129.166, 35.16], [129.159, 35.159], [129.155, 35.157], [129.153, 35.152], [129.15, 35.153], [129.151, 35.156], [129.149, 35.157], [129.146, 35.153], [129.143, 35.154], [129.141, 35.157], [129.142, 35.159], [129.139, 35.161], [129.137, 35.16], [129.134, 35.162], [129.128, 35.166], [129.127, 35.166]]], &quot;type&quot;: &quot;Polygon&quot;}, &quot;id&quot;: &quot;\\ud574\\uc6b4\\ub300\\uad6c&quot;, &quot;properties&quot;: {&quot;base_year&quot;: &quot;2013&quot;, &quot;code&quot;: &quot;21090&quot;, &quot;name&quot;: &quot;\\ud574\\uc6b4\\ub300\\uad6c&quot;, &quot;name_eng&quot;: &quot;Haeundae-gu&quot;}, &quot;type&quot;: &quot;Feature&quot;}, {&quot;geometry&quot;: {&quot;coordinates&quot;: [[[128.959, 35.118], [128.962, 35.12], [128.964, 35.122], [128.972, 35.119], [128.976, 35.117], [128.98, 35.117], [128.982, 35.12], [128.987, 35.124], [128.99, 35.125], [129, 35.123], [128.999, 35.119], [129.003, 35.117], [129.002, 35.114], [129.004, 35.113], [129.004, 35.111], [129.006, 35.109], [129.01, 35.106], [129.007, 35.101], [129.007, 35.1], [129.01, 35.099], [129.014, 35.094], [129.014, 35.091], [129.012, 35.084], [129.011, 35.083], [129.012, 35.08], [129.011, 35.077], [129.008, 35.079], [129.004, 35.078], [129.004, 35.081], [129.005, 35.084], [129.003, 35.085], [128.997, 35.083], [128.993, 35.084], [128.993, 35.08], [128.995, 35.076], [128.994, 35.074], [128.995, 35.071], [128.995, 35.063], [129.001, 35.048], [128.995, 35.045], [128.992, 35.045], [128.993, 35.049], [128.988, 35.058], [128.985, 35.06], [128.978, 35.057], [128.977, 35.056], [128.975, 35.057], [128.973, 35.057], [128.972, 35.054], [128.976, 35.053], [128.98, 35.053], [128.983, 35.052], [128.982, 35.049], [128.976, 35.048], [128.972, 35.049], [128.97, 35.047], [128.969, 35.045], [128.974, 35.042], [128.969, 35.037], [128.968, 35.037], [128.966, 35.034], [128.964, 35.034], [128.964, 35.037], [128.967, 35.04], [128.968, 35.043], [128.969, 35.045], [128.967, 35.048], [128.958, 35.051], [128.958, 35.053], [128.951, 35.08], [128.951, 35.082], [128.951, 35.085], [128.955, 35.092], [128.955, 35.095], [128.956, 35.106], [128.956, 35.107], [128.951, 35.107], [128.949, 35.107], [128.947, 35.102], [128.947, 35.099], [128.944, 35.088], [128.938, 35.089], [128.936, 35.086], [128.934, 35.087], [128.934, 35.093], [128.935, 35.097], [128.937, 35.101], [128.936, 35.105], [128.939, 35.109], [128.935, 35.11], [128.935, 35.112], [128.938, 35.114], [128.942, 35.119], [128.945, 35.121], [128.948, 35.123], [128.951, 35.129], [128.957, 35.135], [128.959, 35.137], [128.962, 35.135], [128.961, 35.131], [128.959, 35.128], [128.957, 35.124], [128.958, 35.119], [128.959, 35.118]]], &quot;type&quot;: &quot;Polygon&quot;}, &quot;id&quot;: &quot;\\uc0ac\\ud558\\uad6c&quot;, &quot;properties&quot;: {&quot;base_year&quot;: &quot;2013&quot;, &quot;code&quot;: &quot;21100&quot;, &quot;name&quot;: &quot;\\uc0ac\\ud558\\uad6c&quot;, &quot;name_eng&quot;: &quot;Saha-gu&quot;}, &quot;type&quot;: &quot;Feature&quot;}, {&quot;geometry&quot;: {&quot;coordinates&quot;: [[[129.109, 35.305], [129.114, 35.303], [129.116, 35.302], [129.121, 35.302], [129.123, 35.301], [129.13, 35.298], [129.131, 35.293], [129.132, 35.292], [129.128, 35.289], [129.126, 35.283], [129.124, 35.281], [129.126, 35.278], [129.125, 35.274], [129.122, 35.271], [129.121, 35.267], [129.121, 35.264], [129.123, 35.262], [129.126, 35.262], [129.129, 35.26], [129.133, 35.261], [129.134, 35.259], [129.138, 35.261], [129.14, 35.26], [129.138, 35.254], [129.142, 35.251], [129.145, 35.251], [129.144, 35.247], [129.141, 35.244], [129.142, 35.242], [129.137, 35.238], [129.131, 35.235], [129.13, 35.233], [129.13, 35.231], [129.127, 35.227], [129.121, 35.226], [129.118, 35.224], [129.117, 35.222], [129.119, 35.216], [129.116, 35.213], [129.112, 35.213], [129.11, 35.21], [129.107, 35.211], [129.106, 35.21], [129.102, 35.211], [129.101, 35.213], [129.095, 35.215], [129.094, 35.215], [129.088, 35.218], [129.086, 35.219], [129.087, 35.222], [129.085, 35.222], [129.083, 35.224], [129.081, 35.223], [129.078, 35.226], [129.074, 35.225], [129.068, 35.225], [129.062, 35.226], [129.06, 35.23], [129.056, 35.228], [129.049, 35.229], [129.047, 35.23], [129.044, 35.231], [129.044, 35.233], [129.047, 35.235], [129.047, 35.238], [129.049, 35.239], [129.05, 35.241], [129.049, 35.245], [129.048, 35.246], [129.046, 35.247], [129.046, 35.249], [129.045, 35.251], [129.049, 35.255], [129.047, 35.257], [129.042, 35.257], [129.04, 35.259], [129.037, 35.261], [129.038, 35.262], [129.042, 35.263], [129.044, 35.27], [129.046, 35.271], [129.047, 35.274], [129.047, 35.276], [129.051, 35.28], [129.053, 35.281], [129.054, 35.283], [129.052, 35.286], [129.053, 35.289], [129.056, 35.292], [129.058, 35.295], [129.059, 35.295], [129.071, 35.295], [129.074, 35.291], [129.075, 35.291], [129.081, 35.296], [129.085, 35.3], [129.086, 35.302], [129.091, 35.303], [129.093, 35.303], [129.099, 35.304], [129.106, 35.306], [129.109, 35.305]]], &quot;type&quot;: &quot;Polygon&quot;}, &quot;id&quot;: &quot;\\uae08\\uc815\\uad6c&quot;, &quot;properties&quot;: {&quot;base_year&quot;: &quot;2013&quot;, &quot;code&quot;: &quot;21110&quot;, &quot;name&quot;: &quot;\\uae08\\uc815\\uad6c&quot;, &quot;name_eng&quot;: &quot;Geumjeong-gu&quot;}, &quot;type&quot;: &quot;Feature&quot;}, {&quot;geometry&quot;: {&quot;coordinates&quot;: [[[128.829, 35.09], [128.832, 35.087], [128.835, 35.086], [128.835, 35.063], [128.833, 35.061], [128.833, 35.058], [128.834, 35.056], [128.838, 35.053], [128.842, 35.054], [128.846, 35.056], [128.851, 35.05], [128.85, 35.047], [128.85, 35.043], [128.851, 35.042], [128.849, 35.037], [128.848, 35.036], [128.844, 35.033], [128.842, 35.029], [128.843, 35.028], [128.843, 35.024], [128.838, 35.02], [128.835, 35.016], [128.834, 35.012], [128.837, 35.009], [128.84, 35.008], [128.841, 35.005], [128.839, 35.003], [128.837, 35], [128.839, 34.998], [128.836, 34.997], [128.833, 34.993], [128.829, 34.989], [128.828, 34.99], [128.83, 34.993], [128.83, 34.996], [128.825, 34.996], [128.824, 34.995], [128.822, 34.997], [128.822, 35.002], [128.82, 35.002], [128.82, 35.004], [128.823, 35.005], [128.824, 35.007], [128.821, 35.009], [128.827, 35.011], [128.827, 35.014], [128.824, 35.017], [128.821, 35.017], [128.817, 35.019], [128.813, 35.02], [128.811, 35.022], [128.806, 35.021], [128.808, 35.024], [128.812, 35.023], [128.815, 35.025], [128.816, 35.028], [128.813, 35.03], [128.81, 35.03], [128.808, 35.031], [128.809, 35.034], [128.811, 35.033], [128.813, 35.038], [128.812, 35.041], [128.807, 35.044], [128.805, 35.048], [128.8, 35.048], [128.798, 35.051], [128.797, 35.054], [128.801, 35.055], [128.805, 35.056], [128.808, 35.059], [128.812, 35.06], [128.819, 35.06], [128.822, 35.061], [128.824, 35.064], [128.821, 35.064], [128.806, 35.061], [128.805, 35.067], [128.832, 35.071], [128.832, 35.075], [128.835, 35.075], [128.835, 35.078], [128.812, 35.078], [128.812, 35.083], [128.819, 35.083], [128.819, 35.084], [128.822, 35.084], [128.822, 35.086], [128.826, 35.086], [128.826, 35.088], [128.829, 35.09], [128.836, 35.103], [128.838, 35.104], [128.842, 35.106], [128.843, 35.109], [128.843, 35.113], [128.842, 35.115], [128.838, 35.115], [128.837, 35.118], [128.836, 35.12], [128.838, 35.123], [128.835, 35.126], [128.835, 35.129], [128.833, 35.13], [128.83, 35.128], [128.827, 35.128], [128.827, 35.13], [128.818, 35.132], [128.815, 35.133], [128.811, 35.137], [128.807, 35.139], [128.807, 35.142], [128.802, 35.142], [128.802, 35.146], [128.798, 35.151], [128.794, 35.154], [128.795, 35.159], [128.797, 35.159], [128.801, 35.158], [128.802, 35.159], [128.806, 35.16], [128.809, 35.159], [128.812, 35.16], [128.813, 35.159], [128.816, 35.16], [128.822, 35.157], [128.823, 35.156], [128.828, 35.156], [128.828, 35.157], [128.834, 35.157], [128.836, 35.159], [128.841, 35.159], [128.843, 35.158], [128.844, 35.16], [128.844, 35.162], [128.846, 35.165], [128.852, 35.166], [128.858, 35.167], [128.86, 35.168], [128.865, 35.167], [128.867, 35.168], [128.872, 35.165], [128.872, 35.163], [128.87, 35.159], [128.867, 35.16], [128.865, 35.158], [128.872, 35.15], [128.877, 35.151], [128.875, 35.154], [128.875, 35.157], [128.875, 35.159], [128.881, 35.16], [128.882, 35.162], [128.879, 35.162], [128.878, 35.164], [128.876, 35.166], [128.877, 35.17], [128.872, 35.172], [128.873, 35.174], [128.88, 35.172], [128.88, 35.18], [128.881, 35.183], [128.876, 35.188], [128.876, 35.193], [128.87, 35.202], [128.874, 35.204], [128.879, 35.21], [128.882, 35.21], [128.886, 35.214], [128.889, 35.215], [128.897, 35.213], [128.905, 35.215], [128.91, 35.215], [128.905, 35.22], [128.909, 35.223], [128.913, 35.223], [128.917, 35.217], [128.92, 35.216], [128.929, 35.22], [128.935, 35.224], [128.937, 35.225], [128.94, 35.227], [128.944, 35.228], [128.949, 35.225], [128.957, 35.225], [128.967, 35.227], [128.974, 35.227], [128.984, 35.23], [128.99, 35.232], [128.994, 35.234], [128.997, 35.236], [128.998, 35.233], [128.997, 35.225], [128.995, 35.213], [128.994, 35.208], [128.991, 35.204], [128.982, 35.197], [128.977, 35.193], [128.97, 35.191], [128.966, 35.188], [128.963, 35.184], [128.963, 35.164], [128.961, 35.154], [128.96, 35.146], [128.96, 35.14], [128.96, 35.137], [128.957, 35.135], [128.951, 35.129], [128.948, 35.123], [128.945, 35.121], [128.942, 35.119], [128.938, 35.114], [128.933, 35.111], [128.933, 35.108], [128.931, 35.105], [128.93, 35.102], [128.931, 35.098], [128.93, 35.095], [128.926, 35.095], [128.926, 35.093], [128.916, 35.089], [128.912, 35.086], [128.912, 35.08], [128.911, 35.079], [128.895, 35.079], [128.895, 35.086], [128.898, 35.095], [128.9, 35.104], [128.901, 35.111], [128.902, 35.114], [128.905, 35.116], [128.906, 35.118], [128.898, 35.12], [128.894, 35.115], [128.893, 35.112], [128.889, 35.108], [128.888, 35.09], [128.883, 35.082], [128.884, 35.08], [128.88, 35.08], [128.87, 35.081], [128.868, 35.083], [128.838, 35.083], [128.835, 35.088], [128.832, 35.088], [128.825, 35.095], [128.825, 35.096], [128.822, 35.098], [128.823, 35.102], [128.825, 35.102], [128.832, 35.103], [128.834, 35.102], [128.836, 35.103]]], &quot;type&quot;: &quot;Polygon&quot;}, &quot;id&quot;: &quot;\\uac15\\uc11c\\uad6c&quot;, &quot;properties&quot;: {&quot;base_year&quot;: &quot;2013&quot;, &quot;code&quot;: &quot;21120&quot;, &quot;name&quot;: &quot;\\uac15\\uc11c\\uad6c&quot;, &quot;name_eng&quot;: &quot;Gangseo-gu&quot;}, &quot;type&quot;: &quot;Feature&quot;}, {&quot;geometry&quot;: {&quot;coordinates&quot;: [[[129.067, 35.176], [129.065, 35.177], [129.063, 35.177], [129.062, 35.18], [129.062, 35.183], [129.06, 35.184], [129.055, 35.184], [129.051, 35.185], [129.051, 35.187], [129.048, 35.19], [129.048, 35.195], [129.053, 35.192], [129.056, 35.192], [129.057, 35.193], [129.062, 35.192], [129.064, 35.194], [129.072, 35.195], [129.074, 35.198], [129.078, 35.199], [129.082, 35.198], [129.084, 35.195], [129.087, 35.194], [129.093, 35.193], [129.097, 35.193], [129.1, 35.191], [129.106, 35.19], [129.108, 35.19], [129.112, 35.189], [129.114, 35.184], [129.115, 35.184], [129.111, 35.176], [129.107, 35.178], [129.106, 35.18], [129.104, 35.181], [129.102, 35.18], [129.097, 35.179], [129.097, 35.177], [129.096, 35.173], [129.097, 35.172], [129.095, 35.168], [129.092, 35.165], [129.094, 35.162], [129.093, 35.16], [129.089, 35.161], [129.086, 35.159], [129.083, 35.158], [129.081, 35.16], [129.078, 35.164], [129.079, 35.167], [129.081, 35.168], [129.082, 35.171], [129.079, 35.173], [129.079, 35.175], [129.076, 35.176], [129.075, 35.179], [129.073, 35.179], [129.07, 35.176], [129.067, 35.176]]], &quot;type&quot;: &quot;Polygon&quot;}, &quot;id&quot;: &quot;\\uc5f0\\uc81c\\uad6c&quot;, &quot;properties&quot;: {&quot;base_year&quot;: &quot;2013&quot;, &quot;code&quot;: &quot;21130&quot;, &quot;name&quot;: &quot;\\uc5f0\\uc81c\\uad6c&quot;, &quot;name_eng&quot;: &quot;Yoenje-gu&quot;}, &quot;type&quot;: &quot;Feature&quot;}, {&quot;geometry&quot;: {&quot;coordinates&quot;: [[[129.121, 35.174], [129.121, 35.173], [129.123, 35.172], [129.123, 35.171], [129.124, 35.17], [129.125, 35.168], [129.125, 35.167], [129.127, 35.166], [129.129, 35.164], [129.135, 35.157], [129.134, 35.155], [129.124, 35.153], [129.124, 35.156], [129.12, 35.154], [129.114, 35.147], [129.118, 35.146], [129.118, 35.14], [129.116, 35.139], [129.111, 35.136], [129.106, 35.139], [129.102, 35.143], [129.103, 35.144], [129.102, 35.149], [129.101, 35.152], [129.099, 35.155], [129.095, 35.161], [129.094, 35.162], [129.092, 35.165], [129.095, 35.168], [129.097, 35.172], [129.096, 35.173], [129.097, 35.177], [129.097, 35.179], [129.102, 35.18], [129.104, 35.181], [129.106, 35.18], [129.107, 35.178], [129.111, 35.176], [129.115, 35.184], [129.115, 35.187], [129.118, 35.181], [129.118, 35.18], [129.121, 35.174]]], &quot;type&quot;: &quot;Polygon&quot;}, &quot;id&quot;: &quot;\\uc218\\uc601\\uad6c&quot;, &quot;properties&quot;: {&quot;base_year&quot;: &quot;2013&quot;, &quot;code&quot;: &quot;21140&quot;, &quot;name&quot;: &quot;\\uc218\\uc601\\uad6c&quot;, &quot;name_eng&quot;: &quot;Suyeong-gu&quot;}, &quot;type&quot;: &quot;Feature&quot;}, {&quot;geometry&quot;: {&quot;coordinates&quot;: [[[128.991, 35.194], [128.995, 35.194], [129, 35.192], [129, 35.19], [129.004, 35.19], [129.008, 35.188], [129.011, 35.189], [129.017, 35.189], [129.021, 35.188], [129.021, 35.182], [129.02, 35.181], [129.017, 35.18], [129.014, 35.177], [129.013, 35.176], [129.011, 35.173], [129.011, 35.171], [129.013, 35.169], [129.013, 35.166], [129.011, 35.163], [129.011, 35.159], [129.016, 35.155], [129.016, 35.147], [129.014, 35.146], [129.016, 35.143], [129.012, 35.137], [129.011, 35.139], [129.008, 35.14], [129.004, 35.139], [129.002, 35.141], [128.998, 35.141], [128.996, 35.14], [129.004, 35.136], [129.003, 35.134], [129.003, 35.131], [129.003, 35.125], [129, 35.123], [128.99, 35.125], [128.987, 35.124], [128.982, 35.12], [128.98, 35.117], [128.976, 35.117], [128.972, 35.119], [128.964, 35.122], [128.962, 35.12], [128.958, 35.119], [128.957, 35.124], [128.959, 35.128], [128.961, 35.131], [128.962, 35.135], [128.96, 35.137], [128.96, 35.14], [128.96, 35.146], [128.961, 35.154], [128.963, 35.164], [128.963, 35.184], [128.966, 35.188], [128.97, 35.191], [128.977, 35.193], [128.982, 35.197], [128.988, 35.201], [128.989, 35.2], [128.988, 35.196], [128.991, 35.196], [128.991, 35.194]]], &quot;type&quot;: &quot;Polygon&quot;}, &quot;id&quot;: &quot;\\uc0ac\\uc0c1\\uad6c&quot;, &quot;properties&quot;: {&quot;base_year&quot;: &quot;2013&quot;, &quot;code&quot;: &quot;21150&quot;, &quot;name&quot;: &quot;\\uc0ac\\uc0c1\\uad6c&quot;, &quot;name_eng&quot;: &quot;Sasang-gu&quot;}, &quot;type&quot;: &quot;Feature&quot;}, {&quot;geometry&quot;: {&quot;coordinates&quot;: [[[129.288, 35.321], [129.288, 35.323], [129.285, 35.324], [129.285, 35.326], [129.282, 35.327], [129.278, 35.326], [129.274, 35.323], [129.268, 35.322], [129.264, 35.319], [129.262, 35.315], [129.262, 35.314], [129.261, 35.31], [129.258, 35.306], [129.261, 35.297], [129.261, 35.294], [129.26, 35.291], [129.257, 35.289], [129.259, 35.287], [129.26, 35.283], [129.257, 35.282], [129.256, 35.281], [129.255, 35.275], [129.253, 35.272], [129.247, 35.272], [129.246, 35.272], [129.244, 35.27], [129.244, 35.268], [129.243, 35.266], [129.24, 35.265], [129.236, 35.265], [129.234, 35.263], [129.234, 35.261], [129.235, 35.258], [129.239, 35.257], [129.242, 35.259], [129.245, 35.26], [129.245, 35.258], [129.249, 35.26], [129.252, 35.259], [129.251, 35.256], [129.252, 35.252], [129.252, 35.251], [129.253, 35.247], [129.25, 35.244], [129.248, 35.246], [129.245, 35.244], [129.247, 35.242], [129.248, 35.239], [129.243, 35.237], [129.245, 35.234], [129.244, 35.232], [129.242, 35.229], [129.241, 35.229], [129.24, 35.227], [129.24, 35.225], [129.239, 35.223], [129.236, 35.22], [129.231, 35.22], [129.23, 35.224], [129.227, 35.223], [129.229, 35.218], [129.225, 35.216], [129.225, 35.215], [129.222, 35.213], [129.223, 35.21], [129.226, 35.207], [129.229, 35.204], [129.23, 35.201], [129.23, 35.198], [129.227, 35.196], [129.226, 35.197], [129.225, 35.193], [129.223, 35.19], [129.224, 35.186], [129.219, 35.184], [129.217, 35.187], [129.213, 35.186], [129.212, 35.183], [129.208, 35.183], [129.207, 35.185], [129.206, 35.191], [129.207, 35.195], [129.207, 35.197], [129.199, 35.2], [129.195, 35.199], [129.193, 35.194], [129.191, 35.192], [129.188, 35.189], [129.185, 35.19], [129.183, 35.191], [129.185, 35.195], [129.183, 35.198], [129.179, 35.198], [129.176, 35.201], [129.172, 35.202], [129.17, 35.201], [129.165, 35.203], [129.163, 35.206], [129.16, 35.206], [129.16, 35.21], [129.16, 35.212], [129.165, 35.215], [129.165, 35.22], [129.169, 35.225], [129.169, 35.228], [129.167, 35.23], [129.164, 35.231], [129.161, 35.234], [129.155, 35.236], [129.155, 35.239], [129.157, 35.243], [129.156, 35.244], [129.149, 35.246], [129.147, 35.249], [129.142, 35.251], [129.138, 35.254], [129.14, 35.26], [129.138, 35.261], [129.134, 35.259], [129.133, 35.261], [129.129, 35.26], [129.126, 35.262], [129.123, 35.262], [129.121, 35.264], [129.121, 35.267], [129.122, 35.271], [129.125, 35.274], [129.126, 35.278], [129.124, 35.281], [129.126, 35.283], [129.128, 35.289], [129.132, 35.292], [129.131, 35.293], [129.13, 35.298], [129.123, 35.301], [129.121, 35.302], [129.116, 35.302], [129.114, 35.303], [129.109, 35.305], [129.111, 35.308], [129.112, 35.31], [129.112, 35.315], [129.112, 35.317], [129.114, 35.32], [129.119, 35.323], [129.121, 35.329], [129.125, 35.331], [129.126, 35.333], [129.124, 35.338], [129.126, 35.34], [129.127, 35.342], [129.128, 35.344], [129.127, 35.346], [129.131, 35.349], [129.134, 35.35], [129.135, 35.353], [129.133, 35.356], [129.131, 35.359], [129.129, 35.36], [129.127, 35.362], [129.123, 35.363], [129.122, 35.364], [129.121, 35.367], [129.124, 35.368], [129.128, 35.368], [129.131, 35.366], [129.134, 35.366], [129.139, 35.366], [129.14, 35.365], [129.149, 35.364], [129.159, 35.36], [129.163, 35.357], [129.166, 35.355], [129.169, 35.354], [129.17, 35.354], [129.174, 35.352], [129.178, 35.352], [129.182, 35.355], [129.186, 35.359], [129.19, 35.36], [129.193, 35.361], [129.194, 35.363], [129.199, 35.366], [129.198, 35.371], [129.199, 35.376], [129.197, 35.378], [129.194, 35.382], [129.199, 35.389], [129.204, 35.386], [129.205, 35.384], [129.212, 35.381], [129.215, 35.38], [129.219, 35.379], [129.225, 35.38], [129.23, 35.381], [129.235, 35.38], [129.237, 35.384], [129.24, 35.384], [129.242, 35.383], [129.245, 35.384], [129.247, 35.383], [129.251, 35.385], [129.251, 35.387], [129.253, 35.387], [129.256, 35.385], [129.258, 35.384], [129.263, 35.386], [129.266, 35.387], [129.266, 35.384], [129.268, 35.381], [129.272, 35.377], [129.273, 35.375], [129.277, 35.371], [129.279, 35.366], [129.283, 35.365], [129.282, 35.364], [129.281, 35.356], [129.284, 35.353], [129.285, 35.351], [129.283, 35.349], [129.284, 35.346], [129.28, 35.341], [129.286, 35.339], [129.289, 35.34], [129.291, 35.338], [129.294, 35.338], [129.296, 35.336], [129.304, 35.336], [129.302, 35.334], [129.305, 35.33], [129.306, 35.325], [129.304, 35.322], [129.3, 35.322], [129.299, 35.319], [129.289, 35.319], [129.288, 35.321]]], &quot;type&quot;: &quot;Polygon&quot;}, &quot;id&quot;: &quot;\\uae30\\uc7a5\\uad70&quot;, &quot;properties&quot;: {&quot;base_year&quot;: &quot;2013&quot;, &quot;code&quot;: &quot;21310&quot;, &quot;name&quot;: &quot;\\uae30\\uc7a5\\uad70&quot;, &quot;name_eng&quot;: &quot;Gijang-gun&quot;}, &quot;type&quot;: &quot;Feature&quot;}], &quot;type&quot;: &quot;FeatureCollection&quot;});\n",
       "\n",
       "        \n",
       "    \n",
       "    var color_map_a29646e7c4665fb004b22cdb862a4510 = {};\n",
       "\n",
       "    \n",
       "    color_map_a29646e7c4665fb004b22cdb862a4510.color = d3.scale.threshold()\n",
       "              .domain([1.0, 1.006012024048096, 1.0120240480961924, 1.0180360721442885, 1.0240480961923848, 1.0300601202404809, 1.0360721442885772, 1.0420841683366733, 1.0480961923847696, 1.0541082164328657, 1.060120240480962, 1.066132264529058, 1.0721442885771544, 1.0781563126252505, 1.0841683366733468, 1.0901803607214429, 1.0961923847695392, 1.1022044088176353, 1.1082164328657313, 1.1142284569138277, 1.1202404809619237, 1.12625250501002, 1.1322645290581161, 1.1382765531062125, 1.1442885771543085, 1.1503006012024048, 1.156312625250501, 1.1623246492985972, 1.1683366733466933, 1.1743486973947896, 1.1803607214428857, 1.186372745490982, 1.1923847695390781, 1.1983967935871744, 1.2044088176352705, 1.2104208416833666, 1.216432865731463, 1.2224448897795592, 1.2284569138276553, 1.2344689378757514, 1.2404809619238477, 1.2464929859719438, 1.25250501002004, 1.2585170340681362, 1.2645290581162325, 1.2705410821643286, 1.276553106212425, 1.282565130260521, 1.2885771543086173, 1.2945891783567134, 1.3006012024048097, 1.3066132264529058, 1.3126252505010019, 1.3186372745490982, 1.3246492985971945, 1.3306613226452906, 1.3366733466933867, 1.342685370741483, 1.3486973947895793, 1.3547094188376754, 1.3607214428857715, 1.3667334669338678, 1.3727454909819639, 1.3787575150300602, 1.3847695390781563, 1.3907815631262526, 1.3967935871743486, 1.402805611222445, 1.408817635270541, 1.4148296593186374, 1.4208416833667334, 1.4268537074148298, 1.4328657314629258, 1.438877755511022, 1.4448897795591182, 1.4509018036072145, 1.4569138276553106, 1.4629258517034067, 1.468937875751503, 1.4749498997995991, 1.4809619238476954, 1.4869739478957915, 1.4929859719438878, 1.498997995991984, 1.5050100200400802, 1.5110220440881763, 1.5170340681362724, 1.5230460921843687, 1.529058116232465, 1.535070140280561, 1.5410821643286572, 1.5470941883767535, 1.5531062124248498, 1.559118236472946, 1.565130260521042, 1.5711422845691383, 1.5771543086172346, 1.5831663326653307, 1.5891783567134268, 1.595190380761523, 1.6012024048096194, 1.6072144288577155, 1.6132264529058116, 1.6192384769539077, 1.625250501002004, 1.6312625250501003, 1.6372745490981964, 1.6432865731462925, 1.6492985971943888, 1.655310621242485, 1.6613226452905812, 1.6673346693386772, 1.6733466933867736, 1.6793587174348699, 1.685370741482966, 1.691382765531062, 1.6973947895791583, 1.7034068136272547, 1.7094188376753507, 1.7154308617234468, 1.7214428857715431, 1.7274549098196392, 1.7334669338677355, 1.7394789579158316, 1.7454909819639277, 1.751503006012024, 1.7575150300601203, 1.7635270541082164, 1.7695390781563125, 1.7755511022044088, 1.7815631262525051, 1.7875751503006012, 1.7935871743486973, 1.7995991983967936, 1.80561122244489, 1.811623246492986, 1.817635270541082, 1.8236472945891784, 1.8296593186372747, 1.8356713426853708, 1.8416833667334669, 1.847695390781563, 1.8537074148296593, 1.8597194388777556, 1.8657314629258517, 1.8717434869739478, 1.877755511022044, 1.8837675350701404, 1.8897795591182365, 1.8957915831663326, 1.9018036072144289, 1.9078156312625252, 1.9138276553106213, 1.9198396793587174, 1.9258517034068137, 1.93186372745491, 1.937875751503006, 1.9438877755511021, 1.9498997995991982, 1.9559118236472945, 1.9619238476953909, 1.967935871743487, 1.973947895791583, 1.9799599198396793, 1.9859719438877756, 1.9919839679358717, 1.9979959919839678, 2.0040080160320644, 2.0100200400801604, 2.0160320641282565, 2.0220440881763526, 2.0280561122244487, 2.034068136272545, 2.0400801603206413, 2.0460921843687374, 2.052104208416834, 2.05811623246493, 2.064128256513026, 2.070140280561122, 2.0761523046092183, 2.0821643286573144, 2.088176352705411, 2.094188376753507, 2.1002004008016035, 2.1062124248496996, 2.1122244488977957, 2.118236472945892, 2.124248496993988, 2.130260521042084, 2.13627254509018, 2.1422845691382766, 2.1482965931863727, 2.154308617234469, 2.1603206412825653, 2.1663326653306614, 2.1723446893787575, 2.1783567134268536, 2.1843687374749496, 2.190380761523046, 2.1963927855711423, 2.202404809619239, 2.208416833667335, 2.214428857715431, 2.220440881763527, 2.226452905811623, 2.2324649298597192, 2.2384769539078153, 2.244488977955912, 2.250501002004008, 2.2565130260521045, 2.2625250501002006, 2.2685370741482966, 2.2745490981963927, 2.280561122244489, 2.286573146292585, 2.2925851703406814, 2.2985971943887775, 2.304609218436874, 2.31062124248497, 2.3166332665330662, 2.3226452905811623, 2.3286573146292584, 2.3346693386773545, 2.3406813627254506, 2.346693386773547, 2.352705410821643, 2.3587174348697397, 2.364729458917836, 2.370741482965932, 2.376753507014028, 2.382765531062124, 2.38877755511022, 2.3947895791583167, 2.400801603206413, 2.4068136272545093, 2.4128256513026054, 2.4188376753507015, 2.4248496993987976, 2.4308617234468937, 2.4368737474949898, 2.4428857715430863, 2.4488977955911824, 2.4549098196392785, 2.460921843687375, 2.466933867735471, 2.472945891783567, 2.4789579158316633, 2.4849699398797593, 2.4909819639278554, 2.496993987975952, 2.503006012024048, 2.5090180360721446, 2.5150300601202407, 2.5210420841683367, 2.527054108216433, 2.533066132264529, 2.539078156312625, 2.5450901803607215, 2.5511022044088176, 2.5571142284569137, 2.5631262525050102, 2.5691382765531063, 2.5751503006012024, 2.5811623246492985, 2.5871743486973946, 2.5931863727454907, 2.599198396793587, 2.6052104208416833, 2.61122244488978, 2.617234468937876, 2.623246492985972, 2.629258517034068, 2.635270541082164, 2.6412825651302603, 2.647294589178357, 2.653306613226453, 2.6593186372745494, 2.6653306613226455, 2.6713426853707416, 2.6773547094188377, 2.6833667334669338, 2.68937875751503, 2.695390781563126, 2.7014028056112225, 2.7074148296593186, 2.713426853707415, 2.719438877755511, 2.7254509018036073, 2.7314629258517034, 2.7374749498997994, 2.7434869739478955, 2.749498997995992, 2.755511022044088, 2.7615230460921847, 2.7675350701402808, 2.773547094188377, 2.779559118236473, 2.785571142284569, 2.791583166332665, 2.797595190380761, 2.8036072144288577, 2.809619238476954, 2.8156312625250504, 2.8216432865731464, 2.8276553106212425, 2.8336673346693386, 2.8396793587174347, 2.845691382765531, 2.8517034068136273, 2.8577154308617234, 2.86372745490982, 2.869739478957916, 2.875751503006012, 2.881763527054108, 2.8877755511022043, 2.8937875751503004, 2.8997995991983965, 2.905811623246493, 2.911823647294589, 2.9178356713426856, 2.9238476953907817, 2.929859719438878, 2.935871743486974, 2.94188376753507, 2.947895791583166, 2.9539078156312626, 2.9599198396793587, 2.965931863727455, 2.9719438877755513, 2.9779559118236474, 2.9839679358717435, 2.9899799599198396, 2.9959919839679356, 3.002004008016032, 3.0080160320641283, 3.0140280561122244, 3.0200400801603204, 3.026052104208417, 3.032064128256513, 3.038076152304609, 3.0440881763527052, 3.0501002004008018, 3.056112224448898, 3.062124248496994, 3.06813627254509, 3.0741482965931866, 3.0801603206412826, 3.0861723446893787, 3.092184368737475, 3.0981963927855714, 3.1042084168336674, 3.1102204408817635, 3.1162324649298596, 3.1222444889779557, 3.1282565130260522, 3.1342685370741483, 3.1402805611222444, 3.1462925851703405, 3.152304609218437, 3.158316633266533, 3.164328657314629, 3.1703406813627253, 3.176352705410822, 3.182364729458918, 3.188376753507014, 3.19438877755511, 3.2004008016032066, 3.2064128256513027, 3.212424849699399, 3.218436873747495, 3.224448897795591, 3.2304609218436875, 3.2364729458917836, 3.2424849699398797, 3.2484969939879758, 3.2545090180360723, 3.2605210420841684, 3.2665330661322645, 3.2725450901803605, 3.278557114228457, 3.284569138276553, 3.2905811623246493, 3.2965931863727453, 3.302605210420842, 3.308617234468938, 3.314629258517034, 3.32064128256513, 3.3266533066132267, 3.3326653306613228, 3.338677354709419, 3.344689378757515, 3.350701402805611, 3.3567134268537075, 3.3627254509018036, 3.3687374749498997, 3.374749498997996, 3.3807615230460923, 3.3867735470941884, 3.3927855711422845, 3.3987975951903806, 3.404809619238477, 3.4108216432865732, 3.4168336673346693, 3.4228456913827654, 3.428857715430862, 3.434869739478958, 3.440881763527054, 3.44689378757515, 3.4529058116232463, 3.458917835671343, 3.464929859719439, 3.470941883767535, 3.476953907815631, 3.4829659318637276, 3.4889779559118237, 3.49498997995992, 3.501002004008016, 3.5070140280561124, 3.5130260521042085, 3.5190380761523046, 3.5250501002004007, 3.531062124248497, 3.5370741482965933, 3.5430861723446894, 3.5490981963927855, 3.555110220440882, 3.561122244488978, 3.567134268537074, 3.5731462925851702, 3.5791583166332663, 3.585170340681363, 3.591182364729459, 3.597194388777555, 3.603206412825651, 3.6092184368737477, 3.6152304609218437, 3.62124248496994, 3.627254509018036, 3.6332665330661325, 3.6392785571142285, 3.6452905811623246, 3.6513026052104207, 3.6573146292585172, 3.6633266533066133, 3.6693386773547094, 3.6753507014028055, 3.6813627254509016, 3.687374749498998, 3.693386773547094, 3.6993987975951903, 3.7054108216432864, 3.711422845691383, 3.717434869739479, 3.723446893787575, 3.729458917835671, 3.7354709418837677, 3.741482965931864, 3.74749498997996, 3.753507014028056, 3.7595190380761525, 3.7655310621242486, 3.7715430861723447, 3.7775551102204408, 3.783567134268537, 3.7895791583166334, 3.7955911823647295, 3.8016032064128256, 3.8076152304609217, 3.813627254509018, 3.8196392785571143, 3.8256513026052104, 3.8316633266533064, 3.837675350701403, 3.843687374749499, 3.849699398797595, 3.8557114228456912, 3.8617234468937878, 3.867735470941884, 3.87374749498998, 3.879759519038076, 3.8857715430861726, 3.8917835671342687, 3.8977955911823647, 3.903807615230461, 3.909819639278557, 3.9158316633266534, 3.9218436873747495, 3.9278557114228456, 3.9338677354709417, 3.9398797595190382, 3.9458917835671343, 3.9519038076152304, 3.9579158316633265, 3.963927855711423, 3.969939879759519, 3.975951903807615, 3.9819639278557113, 3.987975951903808, 3.993987975951904, 4.0])\n",
       "              .range([&#x27;#f1eef6ff&#x27;, &#x27;#f1eef6ff&#x27;, &#x27;#f1eef6ff&#x27;, &#x27;#f1eef6ff&#x27;, &#x27;#f1eef6ff&#x27;, &#x27;#f1eef6ff&#x27;, &#x27;#f1eef6ff&#x27;, &#x27;#f1eef6ff&#x27;, &#x27;#f1eef6ff&#x27;, &#x27;#f1eef6ff&#x27;, &#x27;#f1eef6ff&#x27;, &#x27;#f1eef6ff&#x27;, &#x27;#f1eef6ff&#x27;, &#x27;#f1eef6ff&#x27;, &#x27;#f1eef6ff&#x27;, &#x27;#f1eef6ff&#x27;, &#x27;#f1eef6ff&#x27;, &#x27;#f1eef6ff&#x27;, &#x27;#f1eef6ff&#x27;, &#x27;#f1eef6ff&#x27;, &#x27;#f1eef6ff&#x27;, &#x27;#f1eef6ff&#x27;, &#x27;#f1eef6ff&#x27;, &#x27;#f1eef6ff&#x27;, &#x27;#f1eef6ff&#x27;, &#x27;#f1eef6ff&#x27;, &#x27;#f1eef6ff&#x27;, &#x27;#f1eef6ff&#x27;, &#x27;#f1eef6ff&#x27;, &#x27;#f1eef6ff&#x27;, &#x27;#f1eef6ff&#x27;, &#x27;#f1eef6ff&#x27;, &#x27;#f1eef6ff&#x27;, &#x27;#f1eef6ff&#x27;, &#x27;#f1eef6ff&#x27;, &#x27;#f1eef6ff&#x27;, &#x27;#f1eef6ff&#x27;, &#x27;#f1eef6ff&#x27;, &#x27;#f1eef6ff&#x27;, &#x27;#f1eef6ff&#x27;, &#x27;#f1eef6ff&#x27;, &#x27;#f1eef6ff&#x27;, &#x27;#f1eef6ff&#x27;, &#x27;#f1eef6ff&#x27;, &#x27;#f1eef6ff&#x27;, &#x27;#f1eef6ff&#x27;, &#x27;#f1eef6ff&#x27;, &#x27;#f1eef6ff&#x27;, &#x27;#f1eef6ff&#x27;, &#x27;#f1eef6ff&#x27;, &#x27;#f1eef6ff&#x27;, &#x27;#f1eef6ff&#x27;, &#x27;#f1eef6ff&#x27;, &#x27;#f1eef6ff&#x27;, &#x27;#f1eef6ff&#x27;, &#x27;#f1eef6ff&#x27;, &#x27;#f1eef6ff&#x27;, &#x27;#f1eef6ff&#x27;, &#x27;#f1eef6ff&#x27;, &#x27;#f1eef6ff&#x27;, &#x27;#f1eef6ff&#x27;, &#x27;#f1eef6ff&#x27;, &#x27;#f1eef6ff&#x27;, &#x27;#f1eef6ff&#x27;, &#x27;#f1eef6ff&#x27;, &#x27;#f1eef6ff&#x27;, &#x27;#f1eef6ff&#x27;, &#x27;#f1eef6ff&#x27;, &#x27;#f1eef6ff&#x27;, &#x27;#f1eef6ff&#x27;, &#x27;#f1eef6ff&#x27;, &#x27;#f1eef6ff&#x27;, &#x27;#f1eef6ff&#x27;, &#x27;#f1eef6ff&#x27;, &#x27;#f1eef6ff&#x27;, &#x27;#f1eef6ff&#x27;, &#x27;#f1eef6ff&#x27;, &#x27;#f1eef6ff&#x27;, &#x27;#f1eef6ff&#x27;, &#x27;#f1eef6ff&#x27;, &#x27;#f1eef6ff&#x27;, &#x27;#f1eef6ff&#x27;, &#x27;#f1eef6ff&#x27;, &#x27;#f1eef6ff&#x27;, &#x27;#d4b9daff&#x27;, &#x27;#d4b9daff&#x27;, &#x27;#d4b9daff&#x27;, &#x27;#d4b9daff&#x27;, &#x27;#d4b9daff&#x27;, &#x27;#d4b9daff&#x27;, &#x27;#d4b9daff&#x27;, &#x27;#d4b9daff&#x27;, &#x27;#d4b9daff&#x27;, &#x27;#d4b9daff&#x27;, &#x27;#d4b9daff&#x27;, &#x27;#d4b9daff&#x27;, &#x27;#d4b9daff&#x27;, &#x27;#d4b9daff&#x27;, &#x27;#d4b9daff&#x27;, &#x27;#d4b9daff&#x27;, &#x27;#d4b9daff&#x27;, &#x27;#d4b9daff&#x27;, &#x27;#d4b9daff&#x27;, &#x27;#d4b9daff&#x27;, &#x27;#d4b9daff&#x27;, &#x27;#d4b9daff&#x27;, &#x27;#d4b9daff&#x27;, &#x27;#d4b9daff&#x27;, &#x27;#d4b9daff&#x27;, &#x27;#d4b9daff&#x27;, &#x27;#d4b9daff&#x27;, &#x27;#d4b9daff&#x27;, &#x27;#d4b9daff&#x27;, &#x27;#d4b9daff&#x27;, &#x27;#d4b9daff&#x27;, &#x27;#d4b9daff&#x27;, &#x27;#d4b9daff&#x27;, &#x27;#d4b9daff&#x27;, &#x27;#d4b9daff&#x27;, &#x27;#d4b9daff&#x27;, &#x27;#d4b9daff&#x27;, &#x27;#d4b9daff&#x27;, &#x27;#d4b9daff&#x27;, &#x27;#d4b9daff&#x27;, &#x27;#d4b9daff&#x27;, &#x27;#d4b9daff&#x27;, &#x27;#d4b9daff&#x27;, &#x27;#d4b9daff&#x27;, &#x27;#d4b9daff&#x27;, &#x27;#d4b9daff&#x27;, &#x27;#d4b9daff&#x27;, &#x27;#d4b9daff&#x27;, &#x27;#d4b9daff&#x27;, &#x27;#d4b9daff&#x27;, &#x27;#d4b9daff&#x27;, &#x27;#d4b9daff&#x27;, &#x27;#d4b9daff&#x27;, &#x27;#d4b9daff&#x27;, &#x27;#d4b9daff&#x27;, &#x27;#d4b9daff&#x27;, &#x27;#d4b9daff&#x27;, &#x27;#d4b9daff&#x27;, &#x27;#d4b9daff&#x27;, &#x27;#d4b9daff&#x27;, &#x27;#d4b9daff&#x27;, &#x27;#d4b9daff&#x27;, &#x27;#d4b9daff&#x27;, &#x27;#d4b9daff&#x27;, &#x27;#d4b9daff&#x27;, &#x27;#d4b9daff&#x27;, &#x27;#d4b9daff&#x27;, &#x27;#d4b9daff&#x27;, &#x27;#d4b9daff&#x27;, &#x27;#d4b9daff&#x27;, &#x27;#d4b9daff&#x27;, &#x27;#d4b9daff&#x27;, &#x27;#d4b9daff&#x27;, &#x27;#d4b9daff&#x27;, &#x27;#d4b9daff&#x27;, &#x27;#d4b9daff&#x27;, &#x27;#d4b9daff&#x27;, &#x27;#d4b9daff&#x27;, &#x27;#d4b9daff&#x27;, &#x27;#d4b9daff&#x27;, &#x27;#d4b9daff&#x27;, &#x27;#d4b9daff&#x27;, &#x27;#d4b9daff&#x27;, &#x27;#c994c7ff&#x27;, &#x27;#c994c7ff&#x27;, &#x27;#c994c7ff&#x27;, &#x27;#c994c7ff&#x27;, &#x27;#c994c7ff&#x27;, &#x27;#c994c7ff&#x27;, &#x27;#c994c7ff&#x27;, &#x27;#c994c7ff&#x27;, &#x27;#c994c7ff&#x27;, &#x27;#c994c7ff&#x27;, &#x27;#c994c7ff&#x27;, &#x27;#c994c7ff&#x27;, &#x27;#c994c7ff&#x27;, &#x27;#c994c7ff&#x27;, &#x27;#c994c7ff&#x27;, &#x27;#c994c7ff&#x27;, &#x27;#c994c7ff&#x27;, &#x27;#c994c7ff&#x27;, &#x27;#c994c7ff&#x27;, &#x27;#c994c7ff&#x27;, &#x27;#c994c7ff&#x27;, &#x27;#c994c7ff&#x27;, &#x27;#c994c7ff&#x27;, &#x27;#c994c7ff&#x27;, &#x27;#c994c7ff&#x27;, &#x27;#c994c7ff&#x27;, &#x27;#c994c7ff&#x27;, &#x27;#c994c7ff&#x27;, &#x27;#c994c7ff&#x27;, &#x27;#c994c7ff&#x27;, &#x27;#c994c7ff&#x27;, &#x27;#c994c7ff&#x27;, &#x27;#c994c7ff&#x27;, &#x27;#c994c7ff&#x27;, &#x27;#c994c7ff&#x27;, &#x27;#c994c7ff&#x27;, &#x27;#c994c7ff&#x27;, &#x27;#c994c7ff&#x27;, &#x27;#c994c7ff&#x27;, &#x27;#c994c7ff&#x27;, &#x27;#c994c7ff&#x27;, &#x27;#c994c7ff&#x27;, &#x27;#c994c7ff&#x27;, &#x27;#c994c7ff&#x27;, &#x27;#c994c7ff&#x27;, &#x27;#c994c7ff&#x27;, &#x27;#c994c7ff&#x27;, &#x27;#c994c7ff&#x27;, &#x27;#c994c7ff&#x27;, &#x27;#c994c7ff&#x27;, &#x27;#c994c7ff&#x27;, &#x27;#c994c7ff&#x27;, &#x27;#c994c7ff&#x27;, &#x27;#c994c7ff&#x27;, &#x27;#c994c7ff&#x27;, &#x27;#c994c7ff&#x27;, &#x27;#c994c7ff&#x27;, &#x27;#c994c7ff&#x27;, &#x27;#c994c7ff&#x27;, &#x27;#c994c7ff&#x27;, &#x27;#c994c7ff&#x27;, &#x27;#c994c7ff&#x27;, &#x27;#c994c7ff&#x27;, &#x27;#c994c7ff&#x27;, &#x27;#c994c7ff&#x27;, &#x27;#c994c7ff&#x27;, &#x27;#c994c7ff&#x27;, &#x27;#c994c7ff&#x27;, &#x27;#c994c7ff&#x27;, &#x27;#c994c7ff&#x27;, &#x27;#c994c7ff&#x27;, &#x27;#c994c7ff&#x27;, &#x27;#c994c7ff&#x27;, &#x27;#c994c7ff&#x27;, &#x27;#c994c7ff&#x27;, &#x27;#c994c7ff&#x27;, &#x27;#c994c7ff&#x27;, &#x27;#c994c7ff&#x27;, &#x27;#c994c7ff&#x27;, &#x27;#c994c7ff&#x27;, &#x27;#c994c7ff&#x27;, &#x27;#c994c7ff&#x27;, &#x27;#c994c7ff&#x27;, &#x27;#df65b0ff&#x27;, &#x27;#df65b0ff&#x27;, &#x27;#df65b0ff&#x27;, &#x27;#df65b0ff&#x27;, &#x27;#df65b0ff&#x27;, &#x27;#df65b0ff&#x27;, &#x27;#df65b0ff&#x27;, &#x27;#df65b0ff&#x27;, &#x27;#df65b0ff&#x27;, &#x27;#df65b0ff&#x27;, &#x27;#df65b0ff&#x27;, &#x27;#df65b0ff&#x27;, &#x27;#df65b0ff&#x27;, &#x27;#df65b0ff&#x27;, &#x27;#df65b0ff&#x27;, &#x27;#df65b0ff&#x27;, &#x27;#df65b0ff&#x27;, &#x27;#df65b0ff&#x27;, &#x27;#df65b0ff&#x27;, &#x27;#df65b0ff&#x27;, &#x27;#df65b0ff&#x27;, &#x27;#df65b0ff&#x27;, &#x27;#df65b0ff&#x27;, &#x27;#df65b0ff&#x27;, &#x27;#df65b0ff&#x27;, &#x27;#df65b0ff&#x27;, &#x27;#df65b0ff&#x27;, &#x27;#df65b0ff&#x27;, &#x27;#df65b0ff&#x27;, &#x27;#df65b0ff&#x27;, &#x27;#df65b0ff&#x27;, &#x27;#df65b0ff&#x27;, &#x27;#df65b0ff&#x27;, &#x27;#df65b0ff&#x27;, &#x27;#df65b0ff&#x27;, &#x27;#df65b0ff&#x27;, &#x27;#df65b0ff&#x27;, &#x27;#df65b0ff&#x27;, &#x27;#df65b0ff&#x27;, &#x27;#df65b0ff&#x27;, &#x27;#df65b0ff&#x27;, &#x27;#df65b0ff&#x27;, &#x27;#df65b0ff&#x27;, &#x27;#df65b0ff&#x27;, &#x27;#df65b0ff&#x27;, &#x27;#df65b0ff&#x27;, &#x27;#df65b0ff&#x27;, &#x27;#df65b0ff&#x27;, &#x27;#df65b0ff&#x27;, &#x27;#df65b0ff&#x27;, &#x27;#df65b0ff&#x27;, &#x27;#df65b0ff&#x27;, &#x27;#df65b0ff&#x27;, &#x27;#df65b0ff&#x27;, &#x27;#df65b0ff&#x27;, &#x27;#df65b0ff&#x27;, &#x27;#df65b0ff&#x27;, &#x27;#df65b0ff&#x27;, &#x27;#df65b0ff&#x27;, &#x27;#df65b0ff&#x27;, &#x27;#df65b0ff&#x27;, &#x27;#df65b0ff&#x27;, &#x27;#df65b0ff&#x27;, &#x27;#df65b0ff&#x27;, &#x27;#df65b0ff&#x27;, &#x27;#df65b0ff&#x27;, &#x27;#df65b0ff&#x27;, &#x27;#df65b0ff&#x27;, &#x27;#df65b0ff&#x27;, &#x27;#df65b0ff&#x27;, &#x27;#df65b0ff&#x27;, &#x27;#df65b0ff&#x27;, &#x27;#df65b0ff&#x27;, &#x27;#df65b0ff&#x27;, &#x27;#df65b0ff&#x27;, &#x27;#df65b0ff&#x27;, &#x27;#df65b0ff&#x27;, &#x27;#df65b0ff&#x27;, &#x27;#df65b0ff&#x27;, &#x27;#df65b0ff&#x27;, &#x27;#df65b0ff&#x27;, &#x27;#df65b0ff&#x27;, &#x27;#df65b0ff&#x27;, &#x27;#dd1c77ff&#x27;, &#x27;#dd1c77ff&#x27;, &#x27;#dd1c77ff&#x27;, &#x27;#dd1c77ff&#x27;, &#x27;#dd1c77ff&#x27;, &#x27;#dd1c77ff&#x27;, &#x27;#dd1c77ff&#x27;, &#x27;#dd1c77ff&#x27;, &#x27;#dd1c77ff&#x27;, &#x27;#dd1c77ff&#x27;, &#x27;#dd1c77ff&#x27;, &#x27;#dd1c77ff&#x27;, &#x27;#dd1c77ff&#x27;, &#x27;#dd1c77ff&#x27;, &#x27;#dd1c77ff&#x27;, &#x27;#dd1c77ff&#x27;, &#x27;#dd1c77ff&#x27;, &#x27;#dd1c77ff&#x27;, &#x27;#dd1c77ff&#x27;, &#x27;#dd1c77ff&#x27;, &#x27;#dd1c77ff&#x27;, &#x27;#dd1c77ff&#x27;, &#x27;#dd1c77ff&#x27;, &#x27;#dd1c77ff&#x27;, &#x27;#dd1c77ff&#x27;, &#x27;#dd1c77ff&#x27;, &#x27;#dd1c77ff&#x27;, &#x27;#dd1c77ff&#x27;, &#x27;#dd1c77ff&#x27;, &#x27;#dd1c77ff&#x27;, &#x27;#dd1c77ff&#x27;, &#x27;#dd1c77ff&#x27;, &#x27;#dd1c77ff&#x27;, &#x27;#dd1c77ff&#x27;, &#x27;#dd1c77ff&#x27;, &#x27;#dd1c77ff&#x27;, &#x27;#dd1c77ff&#x27;, &#x27;#dd1c77ff&#x27;, &#x27;#dd1c77ff&#x27;, &#x27;#dd1c77ff&#x27;, &#x27;#dd1c77ff&#x27;, &#x27;#dd1c77ff&#x27;, &#x27;#dd1c77ff&#x27;, &#x27;#dd1c77ff&#x27;, &#x27;#dd1c77ff&#x27;, &#x27;#dd1c77ff&#x27;, &#x27;#dd1c77ff&#x27;, &#x27;#dd1c77ff&#x27;, &#x27;#dd1c77ff&#x27;, &#x27;#dd1c77ff&#x27;, &#x27;#dd1c77ff&#x27;, &#x27;#dd1c77ff&#x27;, &#x27;#dd1c77ff&#x27;, &#x27;#dd1c77ff&#x27;, &#x27;#dd1c77ff&#x27;, &#x27;#dd1c77ff&#x27;, &#x27;#dd1c77ff&#x27;, &#x27;#dd1c77ff&#x27;, &#x27;#dd1c77ff&#x27;, &#x27;#dd1c77ff&#x27;, &#x27;#dd1c77ff&#x27;, &#x27;#dd1c77ff&#x27;, &#x27;#dd1c77ff&#x27;, &#x27;#dd1c77ff&#x27;, &#x27;#dd1c77ff&#x27;, &#x27;#dd1c77ff&#x27;, &#x27;#dd1c77ff&#x27;, &#x27;#dd1c77ff&#x27;, &#x27;#dd1c77ff&#x27;, &#x27;#dd1c77ff&#x27;, &#x27;#dd1c77ff&#x27;, &#x27;#dd1c77ff&#x27;, &#x27;#dd1c77ff&#x27;, &#x27;#dd1c77ff&#x27;, &#x27;#dd1c77ff&#x27;, &#x27;#dd1c77ff&#x27;, &#x27;#dd1c77ff&#x27;, &#x27;#dd1c77ff&#x27;, &#x27;#dd1c77ff&#x27;, &#x27;#dd1c77ff&#x27;, &#x27;#dd1c77ff&#x27;, &#x27;#dd1c77ff&#x27;, &#x27;#dd1c77ff&#x27;, &#x27;#980043ff&#x27;, &#x27;#980043ff&#x27;, &#x27;#980043ff&#x27;, &#x27;#980043ff&#x27;, &#x27;#980043ff&#x27;, &#x27;#980043ff&#x27;, &#x27;#980043ff&#x27;, &#x27;#980043ff&#x27;, &#x27;#980043ff&#x27;, &#x27;#980043ff&#x27;, &#x27;#980043ff&#x27;, &#x27;#980043ff&#x27;, &#x27;#980043ff&#x27;, &#x27;#980043ff&#x27;, &#x27;#980043ff&#x27;, &#x27;#980043ff&#x27;, &#x27;#980043ff&#x27;, &#x27;#980043ff&#x27;, &#x27;#980043ff&#x27;, &#x27;#980043ff&#x27;, &#x27;#980043ff&#x27;, &#x27;#980043ff&#x27;, &#x27;#980043ff&#x27;, &#x27;#980043ff&#x27;, &#x27;#980043ff&#x27;, &#x27;#980043ff&#x27;, &#x27;#980043ff&#x27;, &#x27;#980043ff&#x27;, &#x27;#980043ff&#x27;, &#x27;#980043ff&#x27;, &#x27;#980043ff&#x27;, &#x27;#980043ff&#x27;, &#x27;#980043ff&#x27;, &#x27;#980043ff&#x27;, &#x27;#980043ff&#x27;, &#x27;#980043ff&#x27;, &#x27;#980043ff&#x27;, &#x27;#980043ff&#x27;, &#x27;#980043ff&#x27;, &#x27;#980043ff&#x27;, &#x27;#980043ff&#x27;, &#x27;#980043ff&#x27;, &#x27;#980043ff&#x27;, &#x27;#980043ff&#x27;, &#x27;#980043ff&#x27;, &#x27;#980043ff&#x27;, &#x27;#980043ff&#x27;, &#x27;#980043ff&#x27;, &#x27;#980043ff&#x27;, &#x27;#980043ff&#x27;, &#x27;#980043ff&#x27;, &#x27;#980043ff&#x27;, &#x27;#980043ff&#x27;, &#x27;#980043ff&#x27;, &#x27;#980043ff&#x27;, &#x27;#980043ff&#x27;, &#x27;#980043ff&#x27;, &#x27;#980043ff&#x27;, &#x27;#980043ff&#x27;, &#x27;#980043ff&#x27;, &#x27;#980043ff&#x27;, &#x27;#980043ff&#x27;, &#x27;#980043ff&#x27;, &#x27;#980043ff&#x27;, &#x27;#980043ff&#x27;, &#x27;#980043ff&#x27;, &#x27;#980043ff&#x27;, &#x27;#980043ff&#x27;, &#x27;#980043ff&#x27;, &#x27;#980043ff&#x27;, &#x27;#980043ff&#x27;, &#x27;#980043ff&#x27;, &#x27;#980043ff&#x27;, &#x27;#980043ff&#x27;, &#x27;#980043ff&#x27;, &#x27;#980043ff&#x27;, &#x27;#980043ff&#x27;, &#x27;#980043ff&#x27;, &#x27;#980043ff&#x27;, &#x27;#980043ff&#x27;, &#x27;#980043ff&#x27;, &#x27;#980043ff&#x27;, &#x27;#980043ff&#x27;, &#x27;#980043ff&#x27;]);\n",
       "    \n",
       "\n",
       "    color_map_a29646e7c4665fb004b22cdb862a4510.x = d3.scale.linear()\n",
       "              .domain([1.0, 4.0])\n",
       "              .range([0, 400]);\n",
       "\n",
       "    color_map_a29646e7c4665fb004b22cdb862a4510.legend = L.control({position: &#x27;topright&#x27;});\n",
       "    color_map_a29646e7c4665fb004b22cdb862a4510.legend.onAdd = function (map) {var div = L.DomUtil.create(&#x27;div&#x27;, &#x27;legend&#x27;); return div};\n",
       "    color_map_a29646e7c4665fb004b22cdb862a4510.legend.addTo(map_c257c8d512ee34ba45760c98d5429fbe);\n",
       "\n",
       "    color_map_a29646e7c4665fb004b22cdb862a4510.xAxis = d3.svg.axis()\n",
       "        .scale(color_map_a29646e7c4665fb004b22cdb862a4510.x)\n",
       "        .orient(&quot;top&quot;)\n",
       "        .tickSize(1)\n",
       "        .tickValues([1.0, 1.5, 2.0, 2.5, 3.0, 3.5, 4.0]);\n",
       "\n",
       "    color_map_a29646e7c4665fb004b22cdb862a4510.svg = d3.select(&quot;.legend.leaflet-control&quot;).append(&quot;svg&quot;)\n",
       "        .attr(&quot;id&quot;, &#x27;legend&#x27;)\n",
       "        .attr(&quot;width&quot;, 450)\n",
       "        .attr(&quot;height&quot;, 40);\n",
       "\n",
       "    color_map_a29646e7c4665fb004b22cdb862a4510.g = color_map_a29646e7c4665fb004b22cdb862a4510.svg.append(&quot;g&quot;)\n",
       "        .attr(&quot;class&quot;, &quot;key&quot;)\n",
       "        .attr(&quot;transform&quot;, &quot;translate(25,16)&quot;);\n",
       "\n",
       "    color_map_a29646e7c4665fb004b22cdb862a4510.g.selectAll(&quot;rect&quot;)\n",
       "        .data(color_map_a29646e7c4665fb004b22cdb862a4510.color.range().map(function(d, i) {\n",
       "          return {\n",
       "            x0: i ? color_map_a29646e7c4665fb004b22cdb862a4510.x(color_map_a29646e7c4665fb004b22cdb862a4510.color.domain()[i - 1]) : color_map_a29646e7c4665fb004b22cdb862a4510.x.range()[0],\n",
       "            x1: i &lt; color_map_a29646e7c4665fb004b22cdb862a4510.color.domain().length ? color_map_a29646e7c4665fb004b22cdb862a4510.x(color_map_a29646e7c4665fb004b22cdb862a4510.color.domain()[i]) : color_map_a29646e7c4665fb004b22cdb862a4510.x.range()[1],\n",
       "            z: d\n",
       "          };\n",
       "        }))\n",
       "      .enter().append(&quot;rect&quot;)\n",
       "        .attr(&quot;height&quot;, 10)\n",
       "        .attr(&quot;x&quot;, function(d) { return d.x0; })\n",
       "        .attr(&quot;width&quot;, function(d) { return d.x1 - d.x0; })\n",
       "        .style(&quot;fill&quot;, function(d) { return d.z; });\n",
       "\n",
       "    color_map_a29646e7c4665fb004b22cdb862a4510.g.call(color_map_a29646e7c4665fb004b22cdb862a4510.xAxis).append(&quot;text&quot;)\n",
       "        .attr(&quot;class&quot;, &quot;caption&quot;)\n",
       "        .attr(&quot;y&quot;, 21)\n",
       "        .text(&#x27;&#x27;);\n",
       "&lt;/script&gt;\" style=\"position:absolute;width:100%;height:100%;left:0;top:0;border:none !important;\" allowfullscreen webkitallowfullscreen mozallowfullscreen></iframe></div></div>"
      ],
      "text/plain": [
       "<folium.folium.Map at 0x1fd2554a040>"
      ]
     },
     "execution_count": 474,
     "metadata": {},
     "output_type": "execute_result"
    }
   ],
   "source": [
    "map = folium.Map(location = [35.1856505,129.1], zoom_start=11)\n",
    "map.choropleth(geo_data = geo_str,\n",
    "               data = df_ci_gu_for_viz['score'],\n",
    "               columns = [df_ci_gu_for_viz.index, df_ci_gu_for_viz['score']],\n",
    "               fill_color = \"PuRd\",\n",
    "               key_on = \"feature.id\")\n",
    "map"
   ]
  },
  {
   "cell_type": "markdown",
   "metadata": {},
   "source": [
    "<img src=\"./img/change_index_folium_visualization2.PNG\" width=\"100%\">"
   ]
  },
  {
   "cell_type": "markdown",
   "metadata": {},
   "source": [
    "<!-- <img src=\"./img/change_index_folium_visualization.PNG\" width=100%> -->"
   ]
  },
  {
   "cell_type": "markdown",
   "metadata": {},
   "source": [
    "---\n",
    "# 지역별 집객시설"
   ]
  },
  {
   "cell_type": "markdown",
   "metadata": {},
   "source": [
    "---"
   ]
  },
  {
   "cell_type": "code",
   "execution_count": 528,
   "metadata": {},
   "outputs": [],
   "source": [
    "df_af2 = df_af.copy()"
   ]
  },
  {
   "cell_type": "code",
   "execution_count": 531,
   "metadata": {},
   "outputs": [
    {
     "data": {
      "text/html": [
       "<div>\n",
       "<style scoped>\n",
       "    .dataframe tbody tr th:only-of-type {\n",
       "        vertical-align: middle;\n",
       "    }\n",
       "\n",
       "    .dataframe tbody tr th {\n",
       "        vertical-align: top;\n",
       "    }\n",
       "\n",
       "    .dataframe thead th {\n",
       "        text-align: right;\n",
       "    }\n",
       "</style>\n",
       "<table border=\"1\" class=\"dataframe\">\n",
       "  <thead>\n",
       "    <tr style=\"text-align: right;\">\n",
       "      <th></th>\n",
       "      <th>상권_변화_지표_명</th>\n",
       "      <th>상권_코드_명</th>\n",
       "      <th>집객_시설_수</th>\n",
       "      <th>관공서_수</th>\n",
       "      <th>학교_시설_수</th>\n",
       "      <th>병원_시설_수_1</th>\n",
       "      <th>교통_시설_수</th>\n",
       "      <th>지하철_수</th>\n",
       "      <th>병원_시설_수_2</th>\n",
       "      <th>쇼핑_시설_수</th>\n",
       "    </tr>\n",
       "  </thead>\n",
       "  <tbody>\n",
       "    <tr>\n",
       "      <th>0</th>\n",
       "      <td>골목상권</td>\n",
       "      <td>황령대로489번길</td>\n",
       "      <td>6</td>\n",
       "      <td>0</td>\n",
       "      <td>0</td>\n",
       "      <td>4</td>\n",
       "      <td>2</td>\n",
       "      <td>0</td>\n",
       "      <td>0</td>\n",
       "      <td>0</td>\n",
       "    </tr>\n",
       "    <tr>\n",
       "      <th>1</th>\n",
       "      <td>골목상권</td>\n",
       "      <td>황령대로319번가길</td>\n",
       "      <td>21</td>\n",
       "      <td>1</td>\n",
       "      <td>0</td>\n",
       "      <td>5</td>\n",
       "      <td>15</td>\n",
       "      <td>0</td>\n",
       "      <td>0</td>\n",
       "      <td>0</td>\n",
       "    </tr>\n",
       "    <tr>\n",
       "      <th>2</th>\n",
       "      <td>골목상권</td>\n",
       "      <td>해운대로81번길</td>\n",
       "      <td>3</td>\n",
       "      <td>1</td>\n",
       "      <td>1</td>\n",
       "      <td>1</td>\n",
       "      <td>0</td>\n",
       "      <td>0</td>\n",
       "      <td>0</td>\n",
       "      <td>0</td>\n",
       "    </tr>\n",
       "    <tr>\n",
       "      <th>3</th>\n",
       "      <td>골목상권</td>\n",
       "      <td>해운대로76번길</td>\n",
       "      <td>10</td>\n",
       "      <td>1</td>\n",
       "      <td>0</td>\n",
       "      <td>5</td>\n",
       "      <td>4</td>\n",
       "      <td>0</td>\n",
       "      <td>0</td>\n",
       "      <td>0</td>\n",
       "    </tr>\n",
       "    <tr>\n",
       "      <th>4</th>\n",
       "      <td>골목상권</td>\n",
       "      <td>해운대로483번길</td>\n",
       "      <td>2</td>\n",
       "      <td>0</td>\n",
       "      <td>0</td>\n",
       "      <td>2</td>\n",
       "      <td>0</td>\n",
       "      <td>0</td>\n",
       "      <td>0</td>\n",
       "      <td>0</td>\n",
       "    </tr>\n",
       "    <tr>\n",
       "      <th>...</th>\n",
       "      <td>...</td>\n",
       "      <td>...</td>\n",
       "      <td>...</td>\n",
       "      <td>...</td>\n",
       "      <td>...</td>\n",
       "      <td>...</td>\n",
       "      <td>...</td>\n",
       "      <td>...</td>\n",
       "      <td>...</td>\n",
       "      <td>...</td>\n",
       "    </tr>\n",
       "    <tr>\n",
       "      <th>379</th>\n",
       "      <td>전통시장</td>\n",
       "      <td>감전제일상가</td>\n",
       "      <td>1</td>\n",
       "      <td>0</td>\n",
       "      <td>0</td>\n",
       "      <td>0</td>\n",
       "      <td>0</td>\n",
       "      <td>0</td>\n",
       "      <td>0</td>\n",
       "      <td>1</td>\n",
       "    </tr>\n",
       "    <tr>\n",
       "      <th>380</th>\n",
       "      <td>전통시장</td>\n",
       "      <td>감만시장</td>\n",
       "      <td>1</td>\n",
       "      <td>0</td>\n",
       "      <td>0</td>\n",
       "      <td>1</td>\n",
       "      <td>0</td>\n",
       "      <td>0</td>\n",
       "      <td>0</td>\n",
       "      <td>0</td>\n",
       "    </tr>\n",
       "    <tr>\n",
       "      <th>381</th>\n",
       "      <td>전통시장</td>\n",
       "      <td>가락타운상가시장</td>\n",
       "      <td>8</td>\n",
       "      <td>0</td>\n",
       "      <td>0</td>\n",
       "      <td>1</td>\n",
       "      <td>6</td>\n",
       "      <td>0</td>\n",
       "      <td>0</td>\n",
       "      <td>1</td>\n",
       "    </tr>\n",
       "    <tr>\n",
       "      <th>382</th>\n",
       "      <td>전통시장</td>\n",
       "      <td>가남종합시장</td>\n",
       "      <td>1</td>\n",
       "      <td>0</td>\n",
       "      <td>0</td>\n",
       "      <td>0</td>\n",
       "      <td>0</td>\n",
       "      <td>0</td>\n",
       "      <td>0</td>\n",
       "      <td>1</td>\n",
       "    </tr>\n",
       "    <tr>\n",
       "      <th>383</th>\n",
       "      <td>전통시장</td>\n",
       "      <td>㈜르네시떼</td>\n",
       "      <td>4</td>\n",
       "      <td>0</td>\n",
       "      <td>0</td>\n",
       "      <td>0</td>\n",
       "      <td>2</td>\n",
       "      <td>0</td>\n",
       "      <td>0</td>\n",
       "      <td>2</td>\n",
       "    </tr>\n",
       "  </tbody>\n",
       "</table>\n",
       "<p>384 rows × 10 columns</p>\n",
       "</div>"
      ],
      "text/plain": [
       "    상권_변화_지표_명     상권_코드_명  집객_시설_수  관공서_수  학교_시설_수  병원_시설_수_1  교통_시설_수  \\\n",
       "0         골목상권   황령대로489번길        6      0        0          4        2   \n",
       "1         골목상권  황령대로319번가길       21      1        0          5       15   \n",
       "2         골목상권    해운대로81번길        3      1        1          1        0   \n",
       "3         골목상권    해운대로76번길       10      1        0          5        4   \n",
       "4         골목상권   해운대로483번길        2      0        0          2        0   \n",
       "..         ...         ...      ...    ...      ...        ...      ...   \n",
       "379       전통시장      감전제일상가        1      0        0          0        0   \n",
       "380       전통시장        감만시장        1      0        0          1        0   \n",
       "381       전통시장    가락타운상가시장        8      0        0          1        6   \n",
       "382       전통시장      가남종합시장        1      0        0          0        0   \n",
       "383       전통시장       ㈜르네시떼        4      0        0          0        2   \n",
       "\n",
       "     지하철_수  병원_시설_수_2  쇼핑_시설_수  \n",
       "0        0          0        0  \n",
       "1        0          0        0  \n",
       "2        0          0        0  \n",
       "3        0          0        0  \n",
       "4        0          0        0  \n",
       "..     ...        ...      ...  \n",
       "379      0          0        1  \n",
       "380      0          0        0  \n",
       "381      0          0        1  \n",
       "382      0          0        1  \n",
       "383      0          0        2  \n",
       "\n",
       "[384 rows x 10 columns]"
      ]
     },
     "execution_count": 531,
     "metadata": {},
     "output_type": "execute_result"
    }
   ],
   "source": [
    "df_af2"
   ]
  },
  {
   "cell_type": "code",
   "execution_count": 536,
   "metadata": {},
   "outputs": [],
   "source": [
    "df_af2 = df_af.copy()\n",
    "\n",
    "df_af2['병원_시설_수'] = df_af2[['병원_시설_수_1', '병원_시설_수_2']].sum(axis = 1)\n",
    "df_af2 = df_af2[['상권_코드_명', '집객_시설_수', '관공서_수', '학교_시설_수', '병원_시설_수', '교통_시설_수', '쇼핑_시설_수']]"
   ]
  },
  {
   "cell_type": "code",
   "execution_count": 537,
   "metadata": {},
   "outputs": [
    {
     "data": {
      "text/html": [
       "<div>\n",
       "<style scoped>\n",
       "    .dataframe tbody tr th:only-of-type {\n",
       "        vertical-align: middle;\n",
       "    }\n",
       "\n",
       "    .dataframe tbody tr th {\n",
       "        vertical-align: top;\n",
       "    }\n",
       "\n",
       "    .dataframe thead th {\n",
       "        text-align: right;\n",
       "    }\n",
       "</style>\n",
       "<table border=\"1\" class=\"dataframe\">\n",
       "  <thead>\n",
       "    <tr style=\"text-align: right;\">\n",
       "      <th></th>\n",
       "      <th>상권_코드_명</th>\n",
       "      <th>집객_시설_수</th>\n",
       "      <th>관공서_수</th>\n",
       "      <th>학교_시설_수</th>\n",
       "      <th>병원_시설_수</th>\n",
       "      <th>교통_시설_수</th>\n",
       "      <th>쇼핑_시설_수</th>\n",
       "    </tr>\n",
       "  </thead>\n",
       "  <tbody>\n",
       "    <tr>\n",
       "      <th>0</th>\n",
       "      <td>황령대로489번길</td>\n",
       "      <td>6</td>\n",
       "      <td>0</td>\n",
       "      <td>0</td>\n",
       "      <td>4</td>\n",
       "      <td>2</td>\n",
       "      <td>0</td>\n",
       "    </tr>\n",
       "    <tr>\n",
       "      <th>1</th>\n",
       "      <td>황령대로319번가길</td>\n",
       "      <td>21</td>\n",
       "      <td>1</td>\n",
       "      <td>0</td>\n",
       "      <td>5</td>\n",
       "      <td>15</td>\n",
       "      <td>0</td>\n",
       "    </tr>\n",
       "    <tr>\n",
       "      <th>2</th>\n",
       "      <td>해운대로81번길</td>\n",
       "      <td>3</td>\n",
       "      <td>1</td>\n",
       "      <td>1</td>\n",
       "      <td>1</td>\n",
       "      <td>0</td>\n",
       "      <td>0</td>\n",
       "    </tr>\n",
       "    <tr>\n",
       "      <th>3</th>\n",
       "      <td>해운대로76번길</td>\n",
       "      <td>10</td>\n",
       "      <td>1</td>\n",
       "      <td>0</td>\n",
       "      <td>5</td>\n",
       "      <td>4</td>\n",
       "      <td>0</td>\n",
       "    </tr>\n",
       "    <tr>\n",
       "      <th>4</th>\n",
       "      <td>해운대로483번길</td>\n",
       "      <td>2</td>\n",
       "      <td>0</td>\n",
       "      <td>0</td>\n",
       "      <td>2</td>\n",
       "      <td>0</td>\n",
       "      <td>0</td>\n",
       "    </tr>\n",
       "    <tr>\n",
       "      <th>...</th>\n",
       "      <td>...</td>\n",
       "      <td>...</td>\n",
       "      <td>...</td>\n",
       "      <td>...</td>\n",
       "      <td>...</td>\n",
       "      <td>...</td>\n",
       "      <td>...</td>\n",
       "    </tr>\n",
       "    <tr>\n",
       "      <th>379</th>\n",
       "      <td>감전제일상가</td>\n",
       "      <td>1</td>\n",
       "      <td>0</td>\n",
       "      <td>0</td>\n",
       "      <td>0</td>\n",
       "      <td>0</td>\n",
       "      <td>1</td>\n",
       "    </tr>\n",
       "    <tr>\n",
       "      <th>380</th>\n",
       "      <td>감만시장</td>\n",
       "      <td>1</td>\n",
       "      <td>0</td>\n",
       "      <td>0</td>\n",
       "      <td>1</td>\n",
       "      <td>0</td>\n",
       "      <td>0</td>\n",
       "    </tr>\n",
       "    <tr>\n",
       "      <th>381</th>\n",
       "      <td>가락타운상가시장</td>\n",
       "      <td>8</td>\n",
       "      <td>0</td>\n",
       "      <td>0</td>\n",
       "      <td>1</td>\n",
       "      <td>6</td>\n",
       "      <td>1</td>\n",
       "    </tr>\n",
       "    <tr>\n",
       "      <th>382</th>\n",
       "      <td>가남종합시장</td>\n",
       "      <td>1</td>\n",
       "      <td>0</td>\n",
       "      <td>0</td>\n",
       "      <td>0</td>\n",
       "      <td>0</td>\n",
       "      <td>1</td>\n",
       "    </tr>\n",
       "    <tr>\n",
       "      <th>383</th>\n",
       "      <td>㈜르네시떼</td>\n",
       "      <td>4</td>\n",
       "      <td>0</td>\n",
       "      <td>0</td>\n",
       "      <td>0</td>\n",
       "      <td>2</td>\n",
       "      <td>2</td>\n",
       "    </tr>\n",
       "  </tbody>\n",
       "</table>\n",
       "<p>384 rows × 7 columns</p>\n",
       "</div>"
      ],
      "text/plain": [
       "        상권_코드_명  집객_시설_수  관공서_수  학교_시설_수  병원_시설_수  교통_시설_수  쇼핑_시설_수\n",
       "0     황령대로489번길        6      0        0        4        2        0\n",
       "1    황령대로319번가길       21      1        0        5       15        0\n",
       "2      해운대로81번길        3      1        1        1        0        0\n",
       "3      해운대로76번길       10      1        0        5        4        0\n",
       "4     해운대로483번길        2      0        0        2        0        0\n",
       "..          ...      ...    ...      ...      ...      ...      ...\n",
       "379      감전제일상가        1      0        0        0        0        1\n",
       "380        감만시장        1      0        0        1        0        0\n",
       "381    가락타운상가시장        8      0        0        1        6        1\n",
       "382      가남종합시장        1      0        0        0        0        1\n",
       "383       ㈜르네시떼        4      0        0        0        2        2\n",
       "\n",
       "[384 rows x 7 columns]"
      ]
     },
     "execution_count": 537,
     "metadata": {},
     "output_type": "execute_result"
    }
   ],
   "source": [
    "df_af2"
   ]
  },
  {
   "cell_type": "markdown",
   "metadata": {},
   "source": [
    "## 비율로 표현하기"
   ]
  },
  {
   "cell_type": "code",
   "execution_count": 563,
   "metadata": {},
   "outputs": [
    {
     "data": {
      "text/html": [
       "<div>\n",
       "<style scoped>\n",
       "    .dataframe tbody tr th:only-of-type {\n",
       "        vertical-align: middle;\n",
       "    }\n",
       "\n",
       "    .dataframe tbody tr th {\n",
       "        vertical-align: top;\n",
       "    }\n",
       "\n",
       "    .dataframe thead th {\n",
       "        text-align: right;\n",
       "    }\n",
       "</style>\n",
       "<table border=\"1\" class=\"dataframe\">\n",
       "  <thead>\n",
       "    <tr style=\"text-align: right;\">\n",
       "      <th></th>\n",
       "      <th>상권_코드_명</th>\n",
       "      <th>집객_시설_수</th>\n",
       "      <th>관공서_수</th>\n",
       "      <th>학교_시설_수</th>\n",
       "      <th>병원_시설_수</th>\n",
       "      <th>교통_시설_수</th>\n",
       "      <th>쇼핑_시설_수</th>\n",
       "    </tr>\n",
       "  </thead>\n",
       "  <tbody>\n",
       "    <tr>\n",
       "      <th>0</th>\n",
       "      <td>황령대로489번길</td>\n",
       "      <td>6</td>\n",
       "      <td>0.0</td>\n",
       "      <td>0.0</td>\n",
       "      <td>1.24</td>\n",
       "      <td>1.87</td>\n",
       "      <td>0.00</td>\n",
       "    </tr>\n",
       "    <tr>\n",
       "      <th>1</th>\n",
       "      <td>황령대로319번가길</td>\n",
       "      <td>21</td>\n",
       "      <td>20.0</td>\n",
       "      <td>0.0</td>\n",
       "      <td>1.55</td>\n",
       "      <td>14.02</td>\n",
       "      <td>0.00</td>\n",
       "    </tr>\n",
       "    <tr>\n",
       "      <th>2</th>\n",
       "      <td>해운대로81번길</td>\n",
       "      <td>3</td>\n",
       "      <td>20.0</td>\n",
       "      <td>50.0</td>\n",
       "      <td>0.31</td>\n",
       "      <td>0.00</td>\n",
       "      <td>0.00</td>\n",
       "    </tr>\n",
       "    <tr>\n",
       "      <th>3</th>\n",
       "      <td>해운대로76번길</td>\n",
       "      <td>10</td>\n",
       "      <td>20.0</td>\n",
       "      <td>0.0</td>\n",
       "      <td>1.55</td>\n",
       "      <td>3.74</td>\n",
       "      <td>0.00</td>\n",
       "    </tr>\n",
       "    <tr>\n",
       "      <th>4</th>\n",
       "      <td>해운대로483번길</td>\n",
       "      <td>2</td>\n",
       "      <td>0.0</td>\n",
       "      <td>0.0</td>\n",
       "      <td>0.62</td>\n",
       "      <td>0.00</td>\n",
       "      <td>0.00</td>\n",
       "    </tr>\n",
       "    <tr>\n",
       "      <th>...</th>\n",
       "      <td>...</td>\n",
       "      <td>...</td>\n",
       "      <td>...</td>\n",
       "      <td>...</td>\n",
       "      <td>...</td>\n",
       "      <td>...</td>\n",
       "      <td>...</td>\n",
       "    </tr>\n",
       "    <tr>\n",
       "      <th>379</th>\n",
       "      <td>감전제일상가</td>\n",
       "      <td>1</td>\n",
       "      <td>0.0</td>\n",
       "      <td>0.0</td>\n",
       "      <td>0.00</td>\n",
       "      <td>0.00</td>\n",
       "      <td>16.67</td>\n",
       "    </tr>\n",
       "    <tr>\n",
       "      <th>380</th>\n",
       "      <td>감만시장</td>\n",
       "      <td>1</td>\n",
       "      <td>0.0</td>\n",
       "      <td>0.0</td>\n",
       "      <td>0.31</td>\n",
       "      <td>0.00</td>\n",
       "      <td>0.00</td>\n",
       "    </tr>\n",
       "    <tr>\n",
       "      <th>381</th>\n",
       "      <td>가락타운상가시장</td>\n",
       "      <td>8</td>\n",
       "      <td>0.0</td>\n",
       "      <td>0.0</td>\n",
       "      <td>0.31</td>\n",
       "      <td>5.61</td>\n",
       "      <td>16.67</td>\n",
       "    </tr>\n",
       "    <tr>\n",
       "      <th>382</th>\n",
       "      <td>가남종합시장</td>\n",
       "      <td>1</td>\n",
       "      <td>0.0</td>\n",
       "      <td>0.0</td>\n",
       "      <td>0.00</td>\n",
       "      <td>0.00</td>\n",
       "      <td>16.67</td>\n",
       "    </tr>\n",
       "    <tr>\n",
       "      <th>383</th>\n",
       "      <td>㈜르네시떼</td>\n",
       "      <td>4</td>\n",
       "      <td>0.0</td>\n",
       "      <td>0.0</td>\n",
       "      <td>0.00</td>\n",
       "      <td>1.87</td>\n",
       "      <td>33.33</td>\n",
       "    </tr>\n",
       "  </tbody>\n",
       "</table>\n",
       "<p>384 rows × 7 columns</p>\n",
       "</div>"
      ],
      "text/plain": [
       "        상권_코드_명  집객_시설_수  관공서_수  학교_시설_수  병원_시설_수  교통_시설_수  쇼핑_시설_수\n",
       "0     황령대로489번길        6    0.0      0.0     1.24     1.87     0.00\n",
       "1    황령대로319번가길       21   20.0      0.0     1.55    14.02     0.00\n",
       "2      해운대로81번길        3   20.0     50.0     0.31     0.00     0.00\n",
       "3      해운대로76번길       10   20.0      0.0     1.55     3.74     0.00\n",
       "4     해운대로483번길        2    0.0      0.0     0.62     0.00     0.00\n",
       "..          ...      ...    ...      ...      ...      ...      ...\n",
       "379      감전제일상가        1    0.0      0.0     0.00     0.00    16.67\n",
       "380        감만시장        1    0.0      0.0     0.31     0.00     0.00\n",
       "381    가락타운상가시장        8    0.0      0.0     0.31     5.61    16.67\n",
       "382      가남종합시장        1    0.0      0.0     0.00     0.00    16.67\n",
       "383       ㈜르네시떼        4    0.0      0.0     0.00     1.87    33.33\n",
       "\n",
       "[384 rows x 7 columns]"
      ]
     },
     "execution_count": 563,
     "metadata": {},
     "output_type": "execute_result"
    }
   ],
   "source": [
    "test = df_af2.iloc[:, 2:] / df_af2.iloc[:, 2:].max(axis = 0)\n",
    "test = test.apply(lambda x : round(x * 100, 2))\n",
    "test = pd.concat([df_af2.iloc[:, :2], test], axis = 1)\n",
    "test"
   ]
  },
  {
   "cell_type": "markdown",
   "metadata": {},
   "source": [
    "## 4분위수로 표현하기\n",
    "- 관공서, 학교 수는 25%, 50%, 75% 값이 모두 0이고, 쇼핑은 0, 0, 1이다.\n",
    "- 병원, 교통도 각각 0, 2, 9와 0, 1, 8인데 max는 323과 107로, 매우 비대칭적이다."
   ]
  },
  {
   "cell_type": "code",
   "execution_count": 527,
   "metadata": {},
   "outputs": [
    {
     "data": {
      "text/html": [
       "<div>\n",
       "<style scoped>\n",
       "    .dataframe tbody tr th:only-of-type {\n",
       "        vertical-align: middle;\n",
       "    }\n",
       "\n",
       "    .dataframe tbody tr th {\n",
       "        vertical-align: top;\n",
       "    }\n",
       "\n",
       "    .dataframe thead th {\n",
       "        text-align: right;\n",
       "    }\n",
       "</style>\n",
       "<table border=\"1\" class=\"dataframe\">\n",
       "  <thead>\n",
       "    <tr style=\"text-align: right;\">\n",
       "      <th></th>\n",
       "      <th>집객_시설_수</th>\n",
       "      <th>관공서_수</th>\n",
       "      <th>학교_시설_수</th>\n",
       "      <th>병원_시설_수</th>\n",
       "      <th>교통_시설_수</th>\n",
       "      <th>쇼핑_시설_수</th>\n",
       "    </tr>\n",
       "  </thead>\n",
       "  <tbody>\n",
       "    <tr>\n",
       "      <th>count</th>\n",
       "      <td>384.000000</td>\n",
       "      <td>384.000000</td>\n",
       "      <td>384.000000</td>\n",
       "      <td>384.000000</td>\n",
       "      <td>384.000000</td>\n",
       "      <td>384.000000</td>\n",
       "    </tr>\n",
       "    <tr>\n",
       "      <th>mean</th>\n",
       "      <td>20.898438</td>\n",
       "      <td>0.354167</td>\n",
       "      <td>0.054688</td>\n",
       "      <td>12.640625</td>\n",
       "      <td>7.291667</td>\n",
       "      <td>0.557292</td>\n",
       "    </tr>\n",
       "    <tr>\n",
       "      <th>std</th>\n",
       "      <td>41.681029</td>\n",
       "      <td>0.747202</td>\n",
       "      <td>0.259803</td>\n",
       "      <td>28.655895</td>\n",
       "      <td>15.210562</td>\n",
       "      <td>0.991793</td>\n",
       "    </tr>\n",
       "    <tr>\n",
       "      <th>min</th>\n",
       "      <td>1.000000</td>\n",
       "      <td>0.000000</td>\n",
       "      <td>0.000000</td>\n",
       "      <td>0.000000</td>\n",
       "      <td>0.000000</td>\n",
       "      <td>0.000000</td>\n",
       "    </tr>\n",
       "    <tr>\n",
       "      <th>25%</th>\n",
       "      <td>1.750000</td>\n",
       "      <td>0.000000</td>\n",
       "      <td>0.000000</td>\n",
       "      <td>0.000000</td>\n",
       "      <td>0.000000</td>\n",
       "      <td>0.000000</td>\n",
       "    </tr>\n",
       "    <tr>\n",
       "      <th>50%</th>\n",
       "      <td>5.000000</td>\n",
       "      <td>0.000000</td>\n",
       "      <td>0.000000</td>\n",
       "      <td>2.000000</td>\n",
       "      <td>1.000000</td>\n",
       "      <td>0.000000</td>\n",
       "    </tr>\n",
       "    <tr>\n",
       "      <th>75%</th>\n",
       "      <td>20.000000</td>\n",
       "      <td>0.000000</td>\n",
       "      <td>0.000000</td>\n",
       "      <td>9.000000</td>\n",
       "      <td>8.000000</td>\n",
       "      <td>1.000000</td>\n",
       "    </tr>\n",
       "    <tr>\n",
       "      <th>max</th>\n",
       "      <td>434.000000</td>\n",
       "      <td>5.000000</td>\n",
       "      <td>2.000000</td>\n",
       "      <td>323.000000</td>\n",
       "      <td>107.000000</td>\n",
       "      <td>6.000000</td>\n",
       "    </tr>\n",
       "  </tbody>\n",
       "</table>\n",
       "</div>"
      ],
      "text/plain": [
       "          집객_시설_수       관공서_수     학교_시설_수     병원_시설_수     교통_시설_수     쇼핑_시설_수\n",
       "count  384.000000  384.000000  384.000000  384.000000  384.000000  384.000000\n",
       "mean    20.898438    0.354167    0.054688   12.640625    7.291667    0.557292\n",
       "std     41.681029    0.747202    0.259803   28.655895   15.210562    0.991793\n",
       "min      1.000000    0.000000    0.000000    0.000000    0.000000    0.000000\n",
       "25%      1.750000    0.000000    0.000000    0.000000    0.000000    0.000000\n",
       "50%      5.000000    0.000000    0.000000    2.000000    1.000000    0.000000\n",
       "75%     20.000000    0.000000    0.000000    9.000000    8.000000    1.000000\n",
       "max    434.000000    5.000000    2.000000  323.000000  107.000000    6.000000"
      ]
     },
     "execution_count": 527,
     "metadata": {},
     "output_type": "execute_result"
    }
   ],
   "source": [
    "df_af2.describe()"
   ]
  },
  {
   "cell_type": "code",
   "execution_count": 556,
   "metadata": {},
   "outputs": [],
   "source": [
    "# 갯수 (count)\n",
    "def getSangGwon5_count(i):\n",
    "  name = df_af2.iloc[i]['상권_코드_명']\n",
    "  af = df_af2.iloc[i][2:].values.astype(int)\n",
    "  return name, af"
   ]
  },
  {
   "cell_type": "code",
   "execution_count": 557,
   "metadata": {},
   "outputs": [],
   "source": [
    "# 비율 (ratio)\n",
    "def getSangGwon5_ratio(i):\n",
    "  name = test.iloc[i]['상권_코드_명']\n",
    "  af = test.iloc[i][2:].values.astype(int)\n",
    "  return name, af"
   ]
  },
  {
   "cell_type": "code",
   "execution_count": 558,
   "metadata": {},
   "outputs": [
    {
     "data": {
      "application/vnd.plotly.v1+json": {
       "config": {
        "plotlyServerURL": "https://plot.ly"
       },
       "data": [
        {
         "fill": "toself",
         "name": "부산 부산진구 부전역_2",
         "r": [
          2,
          0,
          15,
          7,
          2,
          2
         ],
         "theta": [
          "관공서",
          "학교",
          "병원",
          "교통",
          "쇼핑",
          "관공서"
         ],
         "type": "scatterpolar"
        }
       ],
       "layout": {
        "polar": {
         "radialaxis": {
          "visible": true
         }
        },
        "showlegend": true,
        "template": {
         "data": {
          "bar": [
           {
            "error_x": {
             "color": "#2a3f5f"
            },
            "error_y": {
             "color": "#2a3f5f"
            },
            "marker": {
             "line": {
              "color": "#E5ECF6",
              "width": 0.5
             },
             "pattern": {
              "fillmode": "overlay",
              "size": 10,
              "solidity": 0.2
             }
            },
            "type": "bar"
           }
          ],
          "barpolar": [
           {
            "marker": {
             "line": {
              "color": "#E5ECF6",
              "width": 0.5
             },
             "pattern": {
              "fillmode": "overlay",
              "size": 10,
              "solidity": 0.2
             }
            },
            "type": "barpolar"
           }
          ],
          "carpet": [
           {
            "aaxis": {
             "endlinecolor": "#2a3f5f",
             "gridcolor": "white",
             "linecolor": "white",
             "minorgridcolor": "white",
             "startlinecolor": "#2a3f5f"
            },
            "baxis": {
             "endlinecolor": "#2a3f5f",
             "gridcolor": "white",
             "linecolor": "white",
             "minorgridcolor": "white",
             "startlinecolor": "#2a3f5f"
            },
            "type": "carpet"
           }
          ],
          "choropleth": [
           {
            "colorbar": {
             "outlinewidth": 0,
             "ticks": ""
            },
            "type": "choropleth"
           }
          ],
          "contour": [
           {
            "colorbar": {
             "outlinewidth": 0,
             "ticks": ""
            },
            "colorscale": [
             [
              0,
              "#0d0887"
             ],
             [
              0.1111111111111111,
              "#46039f"
             ],
             [
              0.2222222222222222,
              "#7201a8"
             ],
             [
              0.3333333333333333,
              "#9c179e"
             ],
             [
              0.4444444444444444,
              "#bd3786"
             ],
             [
              0.5555555555555556,
              "#d8576b"
             ],
             [
              0.6666666666666666,
              "#ed7953"
             ],
             [
              0.7777777777777778,
              "#fb9f3a"
             ],
             [
              0.8888888888888888,
              "#fdca26"
             ],
             [
              1,
              "#f0f921"
             ]
            ],
            "type": "contour"
           }
          ],
          "contourcarpet": [
           {
            "colorbar": {
             "outlinewidth": 0,
             "ticks": ""
            },
            "type": "contourcarpet"
           }
          ],
          "heatmap": [
           {
            "colorbar": {
             "outlinewidth": 0,
             "ticks": ""
            },
            "colorscale": [
             [
              0,
              "#0d0887"
             ],
             [
              0.1111111111111111,
              "#46039f"
             ],
             [
              0.2222222222222222,
              "#7201a8"
             ],
             [
              0.3333333333333333,
              "#9c179e"
             ],
             [
              0.4444444444444444,
              "#bd3786"
             ],
             [
              0.5555555555555556,
              "#d8576b"
             ],
             [
              0.6666666666666666,
              "#ed7953"
             ],
             [
              0.7777777777777778,
              "#fb9f3a"
             ],
             [
              0.8888888888888888,
              "#fdca26"
             ],
             [
              1,
              "#f0f921"
             ]
            ],
            "type": "heatmap"
           }
          ],
          "heatmapgl": [
           {
            "colorbar": {
             "outlinewidth": 0,
             "ticks": ""
            },
            "colorscale": [
             [
              0,
              "#0d0887"
             ],
             [
              0.1111111111111111,
              "#46039f"
             ],
             [
              0.2222222222222222,
              "#7201a8"
             ],
             [
              0.3333333333333333,
              "#9c179e"
             ],
             [
              0.4444444444444444,
              "#bd3786"
             ],
             [
              0.5555555555555556,
              "#d8576b"
             ],
             [
              0.6666666666666666,
              "#ed7953"
             ],
             [
              0.7777777777777778,
              "#fb9f3a"
             ],
             [
              0.8888888888888888,
              "#fdca26"
             ],
             [
              1,
              "#f0f921"
             ]
            ],
            "type": "heatmapgl"
           }
          ],
          "histogram": [
           {
            "marker": {
             "pattern": {
              "fillmode": "overlay",
              "size": 10,
              "solidity": 0.2
             }
            },
            "type": "histogram"
           }
          ],
          "histogram2d": [
           {
            "colorbar": {
             "outlinewidth": 0,
             "ticks": ""
            },
            "colorscale": [
             [
              0,
              "#0d0887"
             ],
             [
              0.1111111111111111,
              "#46039f"
             ],
             [
              0.2222222222222222,
              "#7201a8"
             ],
             [
              0.3333333333333333,
              "#9c179e"
             ],
             [
              0.4444444444444444,
              "#bd3786"
             ],
             [
              0.5555555555555556,
              "#d8576b"
             ],
             [
              0.6666666666666666,
              "#ed7953"
             ],
             [
              0.7777777777777778,
              "#fb9f3a"
             ],
             [
              0.8888888888888888,
              "#fdca26"
             ],
             [
              1,
              "#f0f921"
             ]
            ],
            "type": "histogram2d"
           }
          ],
          "histogram2dcontour": [
           {
            "colorbar": {
             "outlinewidth": 0,
             "ticks": ""
            },
            "colorscale": [
             [
              0,
              "#0d0887"
             ],
             [
              0.1111111111111111,
              "#46039f"
             ],
             [
              0.2222222222222222,
              "#7201a8"
             ],
             [
              0.3333333333333333,
              "#9c179e"
             ],
             [
              0.4444444444444444,
              "#bd3786"
             ],
             [
              0.5555555555555556,
              "#d8576b"
             ],
             [
              0.6666666666666666,
              "#ed7953"
             ],
             [
              0.7777777777777778,
              "#fb9f3a"
             ],
             [
              0.8888888888888888,
              "#fdca26"
             ],
             [
              1,
              "#f0f921"
             ]
            ],
            "type": "histogram2dcontour"
           }
          ],
          "mesh3d": [
           {
            "colorbar": {
             "outlinewidth": 0,
             "ticks": ""
            },
            "type": "mesh3d"
           }
          ],
          "parcoords": [
           {
            "line": {
             "colorbar": {
              "outlinewidth": 0,
              "ticks": ""
             }
            },
            "type": "parcoords"
           }
          ],
          "pie": [
           {
            "automargin": true,
            "type": "pie"
           }
          ],
          "scatter": [
           {
            "fillpattern": {
             "fillmode": "overlay",
             "size": 10,
             "solidity": 0.2
            },
            "type": "scatter"
           }
          ],
          "scatter3d": [
           {
            "line": {
             "colorbar": {
              "outlinewidth": 0,
              "ticks": ""
             }
            },
            "marker": {
             "colorbar": {
              "outlinewidth": 0,
              "ticks": ""
             }
            },
            "type": "scatter3d"
           }
          ],
          "scattercarpet": [
           {
            "marker": {
             "colorbar": {
              "outlinewidth": 0,
              "ticks": ""
             }
            },
            "type": "scattercarpet"
           }
          ],
          "scattergeo": [
           {
            "marker": {
             "colorbar": {
              "outlinewidth": 0,
              "ticks": ""
             }
            },
            "type": "scattergeo"
           }
          ],
          "scattergl": [
           {
            "marker": {
             "colorbar": {
              "outlinewidth": 0,
              "ticks": ""
             }
            },
            "type": "scattergl"
           }
          ],
          "scattermapbox": [
           {
            "marker": {
             "colorbar": {
              "outlinewidth": 0,
              "ticks": ""
             }
            },
            "type": "scattermapbox"
           }
          ],
          "scatterpolar": [
           {
            "marker": {
             "colorbar": {
              "outlinewidth": 0,
              "ticks": ""
             }
            },
            "type": "scatterpolar"
           }
          ],
          "scatterpolargl": [
           {
            "marker": {
             "colorbar": {
              "outlinewidth": 0,
              "ticks": ""
             }
            },
            "type": "scatterpolargl"
           }
          ],
          "scatterternary": [
           {
            "marker": {
             "colorbar": {
              "outlinewidth": 0,
              "ticks": ""
             }
            },
            "type": "scatterternary"
           }
          ],
          "surface": [
           {
            "colorbar": {
             "outlinewidth": 0,
             "ticks": ""
            },
            "colorscale": [
             [
              0,
              "#0d0887"
             ],
             [
              0.1111111111111111,
              "#46039f"
             ],
             [
              0.2222222222222222,
              "#7201a8"
             ],
             [
              0.3333333333333333,
              "#9c179e"
             ],
             [
              0.4444444444444444,
              "#bd3786"
             ],
             [
              0.5555555555555556,
              "#d8576b"
             ],
             [
              0.6666666666666666,
              "#ed7953"
             ],
             [
              0.7777777777777778,
              "#fb9f3a"
             ],
             [
              0.8888888888888888,
              "#fdca26"
             ],
             [
              1,
              "#f0f921"
             ]
            ],
            "type": "surface"
           }
          ],
          "table": [
           {
            "cells": {
             "fill": {
              "color": "#EBF0F8"
             },
             "line": {
              "color": "white"
             }
            },
            "header": {
             "fill": {
              "color": "#C8D4E3"
             },
             "line": {
              "color": "white"
             }
            },
            "type": "table"
           }
          ]
         },
         "layout": {
          "annotationdefaults": {
           "arrowcolor": "#2a3f5f",
           "arrowhead": 0,
           "arrowwidth": 1
          },
          "autotypenumbers": "strict",
          "coloraxis": {
           "colorbar": {
            "outlinewidth": 0,
            "ticks": ""
           }
          },
          "colorscale": {
           "diverging": [
            [
             0,
             "#8e0152"
            ],
            [
             0.1,
             "#c51b7d"
            ],
            [
             0.2,
             "#de77ae"
            ],
            [
             0.3,
             "#f1b6da"
            ],
            [
             0.4,
             "#fde0ef"
            ],
            [
             0.5,
             "#f7f7f7"
            ],
            [
             0.6,
             "#e6f5d0"
            ],
            [
             0.7,
             "#b8e186"
            ],
            [
             0.8,
             "#7fbc41"
            ],
            [
             0.9,
             "#4d9221"
            ],
            [
             1,
             "#276419"
            ]
           ],
           "sequential": [
            [
             0,
             "#0d0887"
            ],
            [
             0.1111111111111111,
             "#46039f"
            ],
            [
             0.2222222222222222,
             "#7201a8"
            ],
            [
             0.3333333333333333,
             "#9c179e"
            ],
            [
             0.4444444444444444,
             "#bd3786"
            ],
            [
             0.5555555555555556,
             "#d8576b"
            ],
            [
             0.6666666666666666,
             "#ed7953"
            ],
            [
             0.7777777777777778,
             "#fb9f3a"
            ],
            [
             0.8888888888888888,
             "#fdca26"
            ],
            [
             1,
             "#f0f921"
            ]
           ],
           "sequentialminus": [
            [
             0,
             "#0d0887"
            ],
            [
             0.1111111111111111,
             "#46039f"
            ],
            [
             0.2222222222222222,
             "#7201a8"
            ],
            [
             0.3333333333333333,
             "#9c179e"
            ],
            [
             0.4444444444444444,
             "#bd3786"
            ],
            [
             0.5555555555555556,
             "#d8576b"
            ],
            [
             0.6666666666666666,
             "#ed7953"
            ],
            [
             0.7777777777777778,
             "#fb9f3a"
            ],
            [
             0.8888888888888888,
             "#fdca26"
            ],
            [
             1,
             "#f0f921"
            ]
           ]
          },
          "colorway": [
           "#636efa",
           "#EF553B",
           "#00cc96",
           "#ab63fa",
           "#FFA15A",
           "#19d3f3",
           "#FF6692",
           "#B6E880",
           "#FF97FF",
           "#FECB52"
          ],
          "font": {
           "color": "#2a3f5f"
          },
          "geo": {
           "bgcolor": "white",
           "lakecolor": "white",
           "landcolor": "#E5ECF6",
           "showlakes": true,
           "showland": true,
           "subunitcolor": "white"
          },
          "hoverlabel": {
           "align": "left"
          },
          "hovermode": "closest",
          "mapbox": {
           "style": "light"
          },
          "paper_bgcolor": "white",
          "plot_bgcolor": "#E5ECF6",
          "polar": {
           "angularaxis": {
            "gridcolor": "white",
            "linecolor": "white",
            "ticks": ""
           },
           "bgcolor": "#E5ECF6",
           "radialaxis": {
            "gridcolor": "white",
            "linecolor": "white",
            "ticks": ""
           }
          },
          "scene": {
           "xaxis": {
            "backgroundcolor": "#E5ECF6",
            "gridcolor": "white",
            "gridwidth": 2,
            "linecolor": "white",
            "showbackground": true,
            "ticks": "",
            "zerolinecolor": "white"
           },
           "yaxis": {
            "backgroundcolor": "#E5ECF6",
            "gridcolor": "white",
            "gridwidth": 2,
            "linecolor": "white",
            "showbackground": true,
            "ticks": "",
            "zerolinecolor": "white"
           },
           "zaxis": {
            "backgroundcolor": "#E5ECF6",
            "gridcolor": "white",
            "gridwidth": 2,
            "linecolor": "white",
            "showbackground": true,
            "ticks": "",
            "zerolinecolor": "white"
           }
          },
          "shapedefaults": {
           "line": {
            "color": "#2a3f5f"
           }
          },
          "ternary": {
           "aaxis": {
            "gridcolor": "white",
            "linecolor": "white",
            "ticks": ""
           },
           "baxis": {
            "gridcolor": "white",
            "linecolor": "white",
            "ticks": ""
           },
           "bgcolor": "#E5ECF6",
           "caxis": {
            "gridcolor": "white",
            "linecolor": "white",
            "ticks": ""
           }
          },
          "title": {
           "x": 0.05
          },
          "xaxis": {
           "automargin": true,
           "gridcolor": "white",
           "linecolor": "white",
           "ticks": "",
           "title": {
            "standoff": 15
           },
           "zerolinecolor": "white",
           "zerolinewidth": 2
          },
          "yaxis": {
           "automargin": true,
           "gridcolor": "white",
           "linecolor": "white",
           "ticks": "",
           "title": {
            "standoff": 15
           },
           "zerolinecolor": "white",
           "zerolinewidth": 2
          }
         }
        },
        "title": {
         "text": "부산광역시 부산 부산진구 부전역_2 집객시설 수"
        }
       }
      }
     },
     "metadata": {},
     "output_type": "display_data"
    }
   ],
   "source": [
    "import plotly.graph_objects as go\n",
    "\n",
    "categories = ['관공서', '학교', '병원', '교통', '쇼핑']\n",
    "# sg_mean_score = test.mean(axis = 0)[1:].values # 전체 평균\n",
    "# sg_name, sg_score = getSangGwon5(150) # 남항로9번길 - 평균에 비해 매우 작음\n",
    "sg_name, sg_score = getSangGwon5_count(265) # 부산 부산진구 부전역_2 - 평균과 비슷\n",
    "# sg_name, sg_score = getSangGwon5(262) # 부산 부산진구 서면역_3 - 평균에 비해 매우 큼\n",
    "\n",
    "# ---------------------\n",
    "# 이 위까지 api로 호출 가능\n",
    "\n",
    "categories = [*categories, categories[0]]\n",
    "# sg_mean_score = [*sg_mean_score, sg_mean_score[0]]\n",
    "sg_score = [*sg_score, sg_score[0]]\n",
    "\n",
    "fig = go.Figure(\n",
    "  data = [\n",
    "    # go.Scatterpolar(r = sg_mean_score, theta = categories, fill = 'toself', name = '부산 상권 평균'), # 전체 평균\n",
    "    go.Scatterpolar(r = sg_score, theta = categories, fill = 'toself', name = sg_name),\n",
    "  ],\n",
    "  layout = go.Layout(\n",
    "    title = go.layout.Title(text = '부산광역시 ' + sg_name + ' 집객시설 수'),\n",
    "    polar = {'radialaxis': {'visible': True}},\n",
    "    showlegend = True\n",
    "  )\n",
    ")\n",
    "\n",
    "fig.show()"
   ]
  },
  {
   "cell_type": "code",
   "execution_count": 565,
   "metadata": {},
   "outputs": [
    {
     "data": {
      "application/vnd.plotly.v1+json": {
       "config": {
        "plotlyServerURL": "https://plot.ly"
       },
       "data": [
        {
         "fill": "toself",
         "name": "부산 부산진구 부전역_2",
         "r": [
          40,
          0,
          4,
          6,
          33,
          40
         ],
         "theta": [
          "관공서",
          "학교",
          "병원",
          "교통",
          "쇼핑",
          "관공서"
         ],
         "type": "scatterpolar"
        }
       ],
       "layout": {
        "polar": {
         "radialaxis": {
          "visible": true
         }
        },
        "showlegend": true,
        "template": {
         "data": {
          "bar": [
           {
            "error_x": {
             "color": "#2a3f5f"
            },
            "error_y": {
             "color": "#2a3f5f"
            },
            "marker": {
             "line": {
              "color": "#E5ECF6",
              "width": 0.5
             },
             "pattern": {
              "fillmode": "overlay",
              "size": 10,
              "solidity": 0.2
             }
            },
            "type": "bar"
           }
          ],
          "barpolar": [
           {
            "marker": {
             "line": {
              "color": "#E5ECF6",
              "width": 0.5
             },
             "pattern": {
              "fillmode": "overlay",
              "size": 10,
              "solidity": 0.2
             }
            },
            "type": "barpolar"
           }
          ],
          "carpet": [
           {
            "aaxis": {
             "endlinecolor": "#2a3f5f",
             "gridcolor": "white",
             "linecolor": "white",
             "minorgridcolor": "white",
             "startlinecolor": "#2a3f5f"
            },
            "baxis": {
             "endlinecolor": "#2a3f5f",
             "gridcolor": "white",
             "linecolor": "white",
             "minorgridcolor": "white",
             "startlinecolor": "#2a3f5f"
            },
            "type": "carpet"
           }
          ],
          "choropleth": [
           {
            "colorbar": {
             "outlinewidth": 0,
             "ticks": ""
            },
            "type": "choropleth"
           }
          ],
          "contour": [
           {
            "colorbar": {
             "outlinewidth": 0,
             "ticks": ""
            },
            "colorscale": [
             [
              0,
              "#0d0887"
             ],
             [
              0.1111111111111111,
              "#46039f"
             ],
             [
              0.2222222222222222,
              "#7201a8"
             ],
             [
              0.3333333333333333,
              "#9c179e"
             ],
             [
              0.4444444444444444,
              "#bd3786"
             ],
             [
              0.5555555555555556,
              "#d8576b"
             ],
             [
              0.6666666666666666,
              "#ed7953"
             ],
             [
              0.7777777777777778,
              "#fb9f3a"
             ],
             [
              0.8888888888888888,
              "#fdca26"
             ],
             [
              1,
              "#f0f921"
             ]
            ],
            "type": "contour"
           }
          ],
          "contourcarpet": [
           {
            "colorbar": {
             "outlinewidth": 0,
             "ticks": ""
            },
            "type": "contourcarpet"
           }
          ],
          "heatmap": [
           {
            "colorbar": {
             "outlinewidth": 0,
             "ticks": ""
            },
            "colorscale": [
             [
              0,
              "#0d0887"
             ],
             [
              0.1111111111111111,
              "#46039f"
             ],
             [
              0.2222222222222222,
              "#7201a8"
             ],
             [
              0.3333333333333333,
              "#9c179e"
             ],
             [
              0.4444444444444444,
              "#bd3786"
             ],
             [
              0.5555555555555556,
              "#d8576b"
             ],
             [
              0.6666666666666666,
              "#ed7953"
             ],
             [
              0.7777777777777778,
              "#fb9f3a"
             ],
             [
              0.8888888888888888,
              "#fdca26"
             ],
             [
              1,
              "#f0f921"
             ]
            ],
            "type": "heatmap"
           }
          ],
          "heatmapgl": [
           {
            "colorbar": {
             "outlinewidth": 0,
             "ticks": ""
            },
            "colorscale": [
             [
              0,
              "#0d0887"
             ],
             [
              0.1111111111111111,
              "#46039f"
             ],
             [
              0.2222222222222222,
              "#7201a8"
             ],
             [
              0.3333333333333333,
              "#9c179e"
             ],
             [
              0.4444444444444444,
              "#bd3786"
             ],
             [
              0.5555555555555556,
              "#d8576b"
             ],
             [
              0.6666666666666666,
              "#ed7953"
             ],
             [
              0.7777777777777778,
              "#fb9f3a"
             ],
             [
              0.8888888888888888,
              "#fdca26"
             ],
             [
              1,
              "#f0f921"
             ]
            ],
            "type": "heatmapgl"
           }
          ],
          "histogram": [
           {
            "marker": {
             "pattern": {
              "fillmode": "overlay",
              "size": 10,
              "solidity": 0.2
             }
            },
            "type": "histogram"
           }
          ],
          "histogram2d": [
           {
            "colorbar": {
             "outlinewidth": 0,
             "ticks": ""
            },
            "colorscale": [
             [
              0,
              "#0d0887"
             ],
             [
              0.1111111111111111,
              "#46039f"
             ],
             [
              0.2222222222222222,
              "#7201a8"
             ],
             [
              0.3333333333333333,
              "#9c179e"
             ],
             [
              0.4444444444444444,
              "#bd3786"
             ],
             [
              0.5555555555555556,
              "#d8576b"
             ],
             [
              0.6666666666666666,
              "#ed7953"
             ],
             [
              0.7777777777777778,
              "#fb9f3a"
             ],
             [
              0.8888888888888888,
              "#fdca26"
             ],
             [
              1,
              "#f0f921"
             ]
            ],
            "type": "histogram2d"
           }
          ],
          "histogram2dcontour": [
           {
            "colorbar": {
             "outlinewidth": 0,
             "ticks": ""
            },
            "colorscale": [
             [
              0,
              "#0d0887"
             ],
             [
              0.1111111111111111,
              "#46039f"
             ],
             [
              0.2222222222222222,
              "#7201a8"
             ],
             [
              0.3333333333333333,
              "#9c179e"
             ],
             [
              0.4444444444444444,
              "#bd3786"
             ],
             [
              0.5555555555555556,
              "#d8576b"
             ],
             [
              0.6666666666666666,
              "#ed7953"
             ],
             [
              0.7777777777777778,
              "#fb9f3a"
             ],
             [
              0.8888888888888888,
              "#fdca26"
             ],
             [
              1,
              "#f0f921"
             ]
            ],
            "type": "histogram2dcontour"
           }
          ],
          "mesh3d": [
           {
            "colorbar": {
             "outlinewidth": 0,
             "ticks": ""
            },
            "type": "mesh3d"
           }
          ],
          "parcoords": [
           {
            "line": {
             "colorbar": {
              "outlinewidth": 0,
              "ticks": ""
             }
            },
            "type": "parcoords"
           }
          ],
          "pie": [
           {
            "automargin": true,
            "type": "pie"
           }
          ],
          "scatter": [
           {
            "fillpattern": {
             "fillmode": "overlay",
             "size": 10,
             "solidity": 0.2
            },
            "type": "scatter"
           }
          ],
          "scatter3d": [
           {
            "line": {
             "colorbar": {
              "outlinewidth": 0,
              "ticks": ""
             }
            },
            "marker": {
             "colorbar": {
              "outlinewidth": 0,
              "ticks": ""
             }
            },
            "type": "scatter3d"
           }
          ],
          "scattercarpet": [
           {
            "marker": {
             "colorbar": {
              "outlinewidth": 0,
              "ticks": ""
             }
            },
            "type": "scattercarpet"
           }
          ],
          "scattergeo": [
           {
            "marker": {
             "colorbar": {
              "outlinewidth": 0,
              "ticks": ""
             }
            },
            "type": "scattergeo"
           }
          ],
          "scattergl": [
           {
            "marker": {
             "colorbar": {
              "outlinewidth": 0,
              "ticks": ""
             }
            },
            "type": "scattergl"
           }
          ],
          "scattermapbox": [
           {
            "marker": {
             "colorbar": {
              "outlinewidth": 0,
              "ticks": ""
             }
            },
            "type": "scattermapbox"
           }
          ],
          "scatterpolar": [
           {
            "marker": {
             "colorbar": {
              "outlinewidth": 0,
              "ticks": ""
             }
            },
            "type": "scatterpolar"
           }
          ],
          "scatterpolargl": [
           {
            "marker": {
             "colorbar": {
              "outlinewidth": 0,
              "ticks": ""
             }
            },
            "type": "scatterpolargl"
           }
          ],
          "scatterternary": [
           {
            "marker": {
             "colorbar": {
              "outlinewidth": 0,
              "ticks": ""
             }
            },
            "type": "scatterternary"
           }
          ],
          "surface": [
           {
            "colorbar": {
             "outlinewidth": 0,
             "ticks": ""
            },
            "colorscale": [
             [
              0,
              "#0d0887"
             ],
             [
              0.1111111111111111,
              "#46039f"
             ],
             [
              0.2222222222222222,
              "#7201a8"
             ],
             [
              0.3333333333333333,
              "#9c179e"
             ],
             [
              0.4444444444444444,
              "#bd3786"
             ],
             [
              0.5555555555555556,
              "#d8576b"
             ],
             [
              0.6666666666666666,
              "#ed7953"
             ],
             [
              0.7777777777777778,
              "#fb9f3a"
             ],
             [
              0.8888888888888888,
              "#fdca26"
             ],
             [
              1,
              "#f0f921"
             ]
            ],
            "type": "surface"
           }
          ],
          "table": [
           {
            "cells": {
             "fill": {
              "color": "#EBF0F8"
             },
             "line": {
              "color": "white"
             }
            },
            "header": {
             "fill": {
              "color": "#C8D4E3"
             },
             "line": {
              "color": "white"
             }
            },
            "type": "table"
           }
          ]
         },
         "layout": {
          "annotationdefaults": {
           "arrowcolor": "#2a3f5f",
           "arrowhead": 0,
           "arrowwidth": 1
          },
          "autotypenumbers": "strict",
          "coloraxis": {
           "colorbar": {
            "outlinewidth": 0,
            "ticks": ""
           }
          },
          "colorscale": {
           "diverging": [
            [
             0,
             "#8e0152"
            ],
            [
             0.1,
             "#c51b7d"
            ],
            [
             0.2,
             "#de77ae"
            ],
            [
             0.3,
             "#f1b6da"
            ],
            [
             0.4,
             "#fde0ef"
            ],
            [
             0.5,
             "#f7f7f7"
            ],
            [
             0.6,
             "#e6f5d0"
            ],
            [
             0.7,
             "#b8e186"
            ],
            [
             0.8,
             "#7fbc41"
            ],
            [
             0.9,
             "#4d9221"
            ],
            [
             1,
             "#276419"
            ]
           ],
           "sequential": [
            [
             0,
             "#0d0887"
            ],
            [
             0.1111111111111111,
             "#46039f"
            ],
            [
             0.2222222222222222,
             "#7201a8"
            ],
            [
             0.3333333333333333,
             "#9c179e"
            ],
            [
             0.4444444444444444,
             "#bd3786"
            ],
            [
             0.5555555555555556,
             "#d8576b"
            ],
            [
             0.6666666666666666,
             "#ed7953"
            ],
            [
             0.7777777777777778,
             "#fb9f3a"
            ],
            [
             0.8888888888888888,
             "#fdca26"
            ],
            [
             1,
             "#f0f921"
            ]
           ],
           "sequentialminus": [
            [
             0,
             "#0d0887"
            ],
            [
             0.1111111111111111,
             "#46039f"
            ],
            [
             0.2222222222222222,
             "#7201a8"
            ],
            [
             0.3333333333333333,
             "#9c179e"
            ],
            [
             0.4444444444444444,
             "#bd3786"
            ],
            [
             0.5555555555555556,
             "#d8576b"
            ],
            [
             0.6666666666666666,
             "#ed7953"
            ],
            [
             0.7777777777777778,
             "#fb9f3a"
            ],
            [
             0.8888888888888888,
             "#fdca26"
            ],
            [
             1,
             "#f0f921"
            ]
           ]
          },
          "colorway": [
           "#636efa",
           "#EF553B",
           "#00cc96",
           "#ab63fa",
           "#FFA15A",
           "#19d3f3",
           "#FF6692",
           "#B6E880",
           "#FF97FF",
           "#FECB52"
          ],
          "font": {
           "color": "#2a3f5f"
          },
          "geo": {
           "bgcolor": "white",
           "lakecolor": "white",
           "landcolor": "#E5ECF6",
           "showlakes": true,
           "showland": true,
           "subunitcolor": "white"
          },
          "hoverlabel": {
           "align": "left"
          },
          "hovermode": "closest",
          "mapbox": {
           "style": "light"
          },
          "paper_bgcolor": "white",
          "plot_bgcolor": "#E5ECF6",
          "polar": {
           "angularaxis": {
            "gridcolor": "white",
            "linecolor": "white",
            "ticks": ""
           },
           "bgcolor": "#E5ECF6",
           "radialaxis": {
            "gridcolor": "white",
            "linecolor": "white",
            "ticks": ""
           }
          },
          "scene": {
           "xaxis": {
            "backgroundcolor": "#E5ECF6",
            "gridcolor": "white",
            "gridwidth": 2,
            "linecolor": "white",
            "showbackground": true,
            "ticks": "",
            "zerolinecolor": "white"
           },
           "yaxis": {
            "backgroundcolor": "#E5ECF6",
            "gridcolor": "white",
            "gridwidth": 2,
            "linecolor": "white",
            "showbackground": true,
            "ticks": "",
            "zerolinecolor": "white"
           },
           "zaxis": {
            "backgroundcolor": "#E5ECF6",
            "gridcolor": "white",
            "gridwidth": 2,
            "linecolor": "white",
            "showbackground": true,
            "ticks": "",
            "zerolinecolor": "white"
           }
          },
          "shapedefaults": {
           "line": {
            "color": "#2a3f5f"
           }
          },
          "ternary": {
           "aaxis": {
            "gridcolor": "white",
            "linecolor": "white",
            "ticks": ""
           },
           "baxis": {
            "gridcolor": "white",
            "linecolor": "white",
            "ticks": ""
           },
           "bgcolor": "#E5ECF6",
           "caxis": {
            "gridcolor": "white",
            "linecolor": "white",
            "ticks": ""
           }
          },
          "title": {
           "x": 0.05
          },
          "xaxis": {
           "automargin": true,
           "gridcolor": "white",
           "linecolor": "white",
           "ticks": "",
           "title": {
            "standoff": 15
           },
           "zerolinecolor": "white",
           "zerolinewidth": 2
          },
          "yaxis": {
           "automargin": true,
           "gridcolor": "white",
           "linecolor": "white",
           "ticks": "",
           "title": {
            "standoff": 15
           },
           "zerolinecolor": "white",
           "zerolinewidth": 2
          }
         }
        },
        "title": {
         "text": "부산광역시 부산 부산진구 부전역_2 집객시설 수"
        }
       }
      }
     },
     "metadata": {},
     "output_type": "display_data"
    }
   ],
   "source": [
    "import plotly.graph_objects as go\n",
    "\n",
    "categories = ['관공서', '학교', '병원', '교통', '쇼핑']\n",
    "# sg_mean_score = test.mean(axis = 0)[1:].values # 전체 평균\n",
    "# sg_name, sg_score = getSangGwon5_ratio(150) # 남항로9번길 - 평균에 비해 매우 작음\n",
    "sg_name, sg_score = getSangGwon5_ratio(265) # 부산 부산진구 부전역_2 - 평균과 비슷\n",
    "# sg_name, sg_score = getSangGwon5_ratio(262) # 부산 부산진구 서면역_3 - 평균에 비해 매우 큼\n",
    "\n",
    "# ---------------------\n",
    "# 이 위까지 api로 호출 가능\n",
    "\n",
    "categories = [*categories, categories[0]]\n",
    "# sg_mean_score = [*sg_mean_score, sg_mean_score[0]]\n",
    "sg_score = [*sg_score, sg_score[0]]\n",
    "\n",
    "fig = go.Figure(\n",
    "  data = [\n",
    "    # go.Scatterpolar(r = sg_mean_score, theta = categories, fill = 'toself', name = '부산 상권 평균'), # 전체 평균\n",
    "    go.Scatterpolar(r = sg_score, theta = categories, fill = 'toself', name = sg_name),\n",
    "  ],\n",
    "  layout = go.Layout(\n",
    "    title = go.layout.Title(text = '부산광역시 ' + sg_name + ' 집객시설 수'),\n",
    "    polar = {'radialaxis': {'visible': True}},\n",
    "    showlegend = True\n",
    "  )\n",
    ") \n",
    "\n",
    "fig.show()"
   ]
  },
  {
   "cell_type": "markdown",
   "metadata": {},
   "source": [
    "<!-- <img src=\"./img/attractive_facility_bujeon_5.PNG\" width=100%> -->"
   ]
  },
  {
   "cell_type": "code",
   "execution_count": 149,
   "metadata": {},
   "outputs": [
    {
     "data": {
      "text/html": [
       "<div>\n",
       "<style scoped>\n",
       "    .dataframe tbody tr th:only-of-type {\n",
       "        vertical-align: middle;\n",
       "    }\n",
       "\n",
       "    .dataframe tbody tr th {\n",
       "        vertical-align: top;\n",
       "    }\n",
       "\n",
       "    .dataframe thead th {\n",
       "        text-align: right;\n",
       "    }\n",
       "</style>\n",
       "<table border=\"1\" class=\"dataframe\">\n",
       "  <thead>\n",
       "    <tr style=\"text-align: right;\">\n",
       "      <th></th>\n",
       "      <th>상권_코드_명</th>\n",
       "      <th>관공서_수</th>\n",
       "      <th>병원_시설_수</th>\n",
       "      <th>교통_시설_수</th>\n",
       "    </tr>\n",
       "  </thead>\n",
       "  <tbody>\n",
       "    <tr>\n",
       "      <th>0</th>\n",
       "      <td>황령대로489번길</td>\n",
       "      <td>0</td>\n",
       "      <td>4</td>\n",
       "      <td>2</td>\n",
       "    </tr>\n",
       "    <tr>\n",
       "      <th>1</th>\n",
       "      <td>황령대로319번가길</td>\n",
       "      <td>1</td>\n",
       "      <td>5</td>\n",
       "      <td>15</td>\n",
       "    </tr>\n",
       "    <tr>\n",
       "      <th>2</th>\n",
       "      <td>해운대로81번길</td>\n",
       "      <td>1</td>\n",
       "      <td>1</td>\n",
       "      <td>0</td>\n",
       "    </tr>\n",
       "    <tr>\n",
       "      <th>3</th>\n",
       "      <td>해운대로76번길</td>\n",
       "      <td>1</td>\n",
       "      <td>5</td>\n",
       "      <td>4</td>\n",
       "    </tr>\n",
       "    <tr>\n",
       "      <th>4</th>\n",
       "      <td>해운대로483번길</td>\n",
       "      <td>0</td>\n",
       "      <td>2</td>\n",
       "      <td>0</td>\n",
       "    </tr>\n",
       "    <tr>\n",
       "      <th>...</th>\n",
       "      <td>...</td>\n",
       "      <td>...</td>\n",
       "      <td>...</td>\n",
       "      <td>...</td>\n",
       "    </tr>\n",
       "    <tr>\n",
       "      <th>379</th>\n",
       "      <td>감전제일상가</td>\n",
       "      <td>0</td>\n",
       "      <td>0</td>\n",
       "      <td>0</td>\n",
       "    </tr>\n",
       "    <tr>\n",
       "      <th>380</th>\n",
       "      <td>감만시장</td>\n",
       "      <td>0</td>\n",
       "      <td>1</td>\n",
       "      <td>0</td>\n",
       "    </tr>\n",
       "    <tr>\n",
       "      <th>381</th>\n",
       "      <td>가락타운상가시장</td>\n",
       "      <td>0</td>\n",
       "      <td>1</td>\n",
       "      <td>6</td>\n",
       "    </tr>\n",
       "    <tr>\n",
       "      <th>382</th>\n",
       "      <td>가남종합시장</td>\n",
       "      <td>0</td>\n",
       "      <td>0</td>\n",
       "      <td>0</td>\n",
       "    </tr>\n",
       "    <tr>\n",
       "      <th>383</th>\n",
       "      <td>㈜르네시떼</td>\n",
       "      <td>0</td>\n",
       "      <td>0</td>\n",
       "      <td>2</td>\n",
       "    </tr>\n",
       "  </tbody>\n",
       "</table>\n",
       "<p>384 rows × 4 columns</p>\n",
       "</div>"
      ],
      "text/plain": [
       "        상권_코드_명  관공서_수  병원_시설_수  교통_시설_수\n",
       "0     황령대로489번길      0        4        2\n",
       "1    황령대로319번가길      1        5       15\n",
       "2      해운대로81번길      1        1        0\n",
       "3      해운대로76번길      1        5        4\n",
       "4     해운대로483번길      0        2        0\n",
       "..          ...    ...      ...      ...\n",
       "379      감전제일상가      0        0        0\n",
       "380        감만시장      0        1        0\n",
       "381    가락타운상가시장      0        1        6\n",
       "382      가남종합시장      0        0        0\n",
       "383       ㈜르네시떼      0        0        2\n",
       "\n",
       "[384 rows x 4 columns]"
      ]
     },
     "execution_count": 149,
     "metadata": {},
     "output_type": "execute_result"
    }
   ],
   "source": [
    "df_af3 = df_af2[['상권_코드_명', '관공서_수', '병원_시설_수', '교통_시설_수']]\n",
    "df_af3"
   ]
  },
  {
   "cell_type": "code",
   "execution_count": 150,
   "metadata": {},
   "outputs": [],
   "source": [
    "def getSangGwon3(i):\n",
    "  name = df_af3.iloc[i]['상권_코드_명']\n",
    "  af = df_af3.iloc[i][1:].values.astype(int)\n",
    "  return name, af"
   ]
  },
  {
   "cell_type": "code",
   "execution_count": 151,
   "metadata": {},
   "outputs": [
    {
     "data": {
      "application/vnd.plotly.v1+json": {
       "config": {
        "plotlyServerURL": "https://plot.ly"
       },
       "data": [
        {
         "fill": "toself",
         "name": "부산 상권 평균",
         "r": [
          0.3541666666666667,
          12.640625,
          7.291666666666667,
          0.3541666666666667
         ],
         "theta": [
          "관공서",
          "병원",
          "교통",
          "관공서"
         ],
         "type": "scatterpolar"
        },
        {
         "fill": "toself",
         "name": "부산 부산진구 부전역_2",
         "r": [
          2,
          15,
          7,
          2
         ],
         "theta": [
          "관공서",
          "병원",
          "교통",
          "관공서"
         ],
         "type": "scatterpolar"
        }
       ],
       "layout": {
        "polar": {
         "radialaxis": {
          "visible": true
         }
        },
        "showlegend": true,
        "template": {
         "data": {
          "bar": [
           {
            "error_x": {
             "color": "#2a3f5f"
            },
            "error_y": {
             "color": "#2a3f5f"
            },
            "marker": {
             "line": {
              "color": "#E5ECF6",
              "width": 0.5
             },
             "pattern": {
              "fillmode": "overlay",
              "size": 10,
              "solidity": 0.2
             }
            },
            "type": "bar"
           }
          ],
          "barpolar": [
           {
            "marker": {
             "line": {
              "color": "#E5ECF6",
              "width": 0.5
             },
             "pattern": {
              "fillmode": "overlay",
              "size": 10,
              "solidity": 0.2
             }
            },
            "type": "barpolar"
           }
          ],
          "carpet": [
           {
            "aaxis": {
             "endlinecolor": "#2a3f5f",
             "gridcolor": "white",
             "linecolor": "white",
             "minorgridcolor": "white",
             "startlinecolor": "#2a3f5f"
            },
            "baxis": {
             "endlinecolor": "#2a3f5f",
             "gridcolor": "white",
             "linecolor": "white",
             "minorgridcolor": "white",
             "startlinecolor": "#2a3f5f"
            },
            "type": "carpet"
           }
          ],
          "choropleth": [
           {
            "colorbar": {
             "outlinewidth": 0,
             "ticks": ""
            },
            "type": "choropleth"
           }
          ],
          "contour": [
           {
            "colorbar": {
             "outlinewidth": 0,
             "ticks": ""
            },
            "colorscale": [
             [
              0,
              "#0d0887"
             ],
             [
              0.1111111111111111,
              "#46039f"
             ],
             [
              0.2222222222222222,
              "#7201a8"
             ],
             [
              0.3333333333333333,
              "#9c179e"
             ],
             [
              0.4444444444444444,
              "#bd3786"
             ],
             [
              0.5555555555555556,
              "#d8576b"
             ],
             [
              0.6666666666666666,
              "#ed7953"
             ],
             [
              0.7777777777777778,
              "#fb9f3a"
             ],
             [
              0.8888888888888888,
              "#fdca26"
             ],
             [
              1,
              "#f0f921"
             ]
            ],
            "type": "contour"
           }
          ],
          "contourcarpet": [
           {
            "colorbar": {
             "outlinewidth": 0,
             "ticks": ""
            },
            "type": "contourcarpet"
           }
          ],
          "heatmap": [
           {
            "colorbar": {
             "outlinewidth": 0,
             "ticks": ""
            },
            "colorscale": [
             [
              0,
              "#0d0887"
             ],
             [
              0.1111111111111111,
              "#46039f"
             ],
             [
              0.2222222222222222,
              "#7201a8"
             ],
             [
              0.3333333333333333,
              "#9c179e"
             ],
             [
              0.4444444444444444,
              "#bd3786"
             ],
             [
              0.5555555555555556,
              "#d8576b"
             ],
             [
              0.6666666666666666,
              "#ed7953"
             ],
             [
              0.7777777777777778,
              "#fb9f3a"
             ],
             [
              0.8888888888888888,
              "#fdca26"
             ],
             [
              1,
              "#f0f921"
             ]
            ],
            "type": "heatmap"
           }
          ],
          "heatmapgl": [
           {
            "colorbar": {
             "outlinewidth": 0,
             "ticks": ""
            },
            "colorscale": [
             [
              0,
              "#0d0887"
             ],
             [
              0.1111111111111111,
              "#46039f"
             ],
             [
              0.2222222222222222,
              "#7201a8"
             ],
             [
              0.3333333333333333,
              "#9c179e"
             ],
             [
              0.4444444444444444,
              "#bd3786"
             ],
             [
              0.5555555555555556,
              "#d8576b"
             ],
             [
              0.6666666666666666,
              "#ed7953"
             ],
             [
              0.7777777777777778,
              "#fb9f3a"
             ],
             [
              0.8888888888888888,
              "#fdca26"
             ],
             [
              1,
              "#f0f921"
             ]
            ],
            "type": "heatmapgl"
           }
          ],
          "histogram": [
           {
            "marker": {
             "pattern": {
              "fillmode": "overlay",
              "size": 10,
              "solidity": 0.2
             }
            },
            "type": "histogram"
           }
          ],
          "histogram2d": [
           {
            "colorbar": {
             "outlinewidth": 0,
             "ticks": ""
            },
            "colorscale": [
             [
              0,
              "#0d0887"
             ],
             [
              0.1111111111111111,
              "#46039f"
             ],
             [
              0.2222222222222222,
              "#7201a8"
             ],
             [
              0.3333333333333333,
              "#9c179e"
             ],
             [
              0.4444444444444444,
              "#bd3786"
             ],
             [
              0.5555555555555556,
              "#d8576b"
             ],
             [
              0.6666666666666666,
              "#ed7953"
             ],
             [
              0.7777777777777778,
              "#fb9f3a"
             ],
             [
              0.8888888888888888,
              "#fdca26"
             ],
             [
              1,
              "#f0f921"
             ]
            ],
            "type": "histogram2d"
           }
          ],
          "histogram2dcontour": [
           {
            "colorbar": {
             "outlinewidth": 0,
             "ticks": ""
            },
            "colorscale": [
             [
              0,
              "#0d0887"
             ],
             [
              0.1111111111111111,
              "#46039f"
             ],
             [
              0.2222222222222222,
              "#7201a8"
             ],
             [
              0.3333333333333333,
              "#9c179e"
             ],
             [
              0.4444444444444444,
              "#bd3786"
             ],
             [
              0.5555555555555556,
              "#d8576b"
             ],
             [
              0.6666666666666666,
              "#ed7953"
             ],
             [
              0.7777777777777778,
              "#fb9f3a"
             ],
             [
              0.8888888888888888,
              "#fdca26"
             ],
             [
              1,
              "#f0f921"
             ]
            ],
            "type": "histogram2dcontour"
           }
          ],
          "mesh3d": [
           {
            "colorbar": {
             "outlinewidth": 0,
             "ticks": ""
            },
            "type": "mesh3d"
           }
          ],
          "parcoords": [
           {
            "line": {
             "colorbar": {
              "outlinewidth": 0,
              "ticks": ""
             }
            },
            "type": "parcoords"
           }
          ],
          "pie": [
           {
            "automargin": true,
            "type": "pie"
           }
          ],
          "scatter": [
           {
            "fillpattern": {
             "fillmode": "overlay",
             "size": 10,
             "solidity": 0.2
            },
            "type": "scatter"
           }
          ],
          "scatter3d": [
           {
            "line": {
             "colorbar": {
              "outlinewidth": 0,
              "ticks": ""
             }
            },
            "marker": {
             "colorbar": {
              "outlinewidth": 0,
              "ticks": ""
             }
            },
            "type": "scatter3d"
           }
          ],
          "scattercarpet": [
           {
            "marker": {
             "colorbar": {
              "outlinewidth": 0,
              "ticks": ""
             }
            },
            "type": "scattercarpet"
           }
          ],
          "scattergeo": [
           {
            "marker": {
             "colorbar": {
              "outlinewidth": 0,
              "ticks": ""
             }
            },
            "type": "scattergeo"
           }
          ],
          "scattergl": [
           {
            "marker": {
             "colorbar": {
              "outlinewidth": 0,
              "ticks": ""
             }
            },
            "type": "scattergl"
           }
          ],
          "scattermapbox": [
           {
            "marker": {
             "colorbar": {
              "outlinewidth": 0,
              "ticks": ""
             }
            },
            "type": "scattermapbox"
           }
          ],
          "scatterpolar": [
           {
            "marker": {
             "colorbar": {
              "outlinewidth": 0,
              "ticks": ""
             }
            },
            "type": "scatterpolar"
           }
          ],
          "scatterpolargl": [
           {
            "marker": {
             "colorbar": {
              "outlinewidth": 0,
              "ticks": ""
             }
            },
            "type": "scatterpolargl"
           }
          ],
          "scatterternary": [
           {
            "marker": {
             "colorbar": {
              "outlinewidth": 0,
              "ticks": ""
             }
            },
            "type": "scatterternary"
           }
          ],
          "surface": [
           {
            "colorbar": {
             "outlinewidth": 0,
             "ticks": ""
            },
            "colorscale": [
             [
              0,
              "#0d0887"
             ],
             [
              0.1111111111111111,
              "#46039f"
             ],
             [
              0.2222222222222222,
              "#7201a8"
             ],
             [
              0.3333333333333333,
              "#9c179e"
             ],
             [
              0.4444444444444444,
              "#bd3786"
             ],
             [
              0.5555555555555556,
              "#d8576b"
             ],
             [
              0.6666666666666666,
              "#ed7953"
             ],
             [
              0.7777777777777778,
              "#fb9f3a"
             ],
             [
              0.8888888888888888,
              "#fdca26"
             ],
             [
              1,
              "#f0f921"
             ]
            ],
            "type": "surface"
           }
          ],
          "table": [
           {
            "cells": {
             "fill": {
              "color": "#EBF0F8"
             },
             "line": {
              "color": "white"
             }
            },
            "header": {
             "fill": {
              "color": "#C8D4E3"
             },
             "line": {
              "color": "white"
             }
            },
            "type": "table"
           }
          ]
         },
         "layout": {
          "annotationdefaults": {
           "arrowcolor": "#2a3f5f",
           "arrowhead": 0,
           "arrowwidth": 1
          },
          "autotypenumbers": "strict",
          "coloraxis": {
           "colorbar": {
            "outlinewidth": 0,
            "ticks": ""
           }
          },
          "colorscale": {
           "diverging": [
            [
             0,
             "#8e0152"
            ],
            [
             0.1,
             "#c51b7d"
            ],
            [
             0.2,
             "#de77ae"
            ],
            [
             0.3,
             "#f1b6da"
            ],
            [
             0.4,
             "#fde0ef"
            ],
            [
             0.5,
             "#f7f7f7"
            ],
            [
             0.6,
             "#e6f5d0"
            ],
            [
             0.7,
             "#b8e186"
            ],
            [
             0.8,
             "#7fbc41"
            ],
            [
             0.9,
             "#4d9221"
            ],
            [
             1,
             "#276419"
            ]
           ],
           "sequential": [
            [
             0,
             "#0d0887"
            ],
            [
             0.1111111111111111,
             "#46039f"
            ],
            [
             0.2222222222222222,
             "#7201a8"
            ],
            [
             0.3333333333333333,
             "#9c179e"
            ],
            [
             0.4444444444444444,
             "#bd3786"
            ],
            [
             0.5555555555555556,
             "#d8576b"
            ],
            [
             0.6666666666666666,
             "#ed7953"
            ],
            [
             0.7777777777777778,
             "#fb9f3a"
            ],
            [
             0.8888888888888888,
             "#fdca26"
            ],
            [
             1,
             "#f0f921"
            ]
           ],
           "sequentialminus": [
            [
             0,
             "#0d0887"
            ],
            [
             0.1111111111111111,
             "#46039f"
            ],
            [
             0.2222222222222222,
             "#7201a8"
            ],
            [
             0.3333333333333333,
             "#9c179e"
            ],
            [
             0.4444444444444444,
             "#bd3786"
            ],
            [
             0.5555555555555556,
             "#d8576b"
            ],
            [
             0.6666666666666666,
             "#ed7953"
            ],
            [
             0.7777777777777778,
             "#fb9f3a"
            ],
            [
             0.8888888888888888,
             "#fdca26"
            ],
            [
             1,
             "#f0f921"
            ]
           ]
          },
          "colorway": [
           "#636efa",
           "#EF553B",
           "#00cc96",
           "#ab63fa",
           "#FFA15A",
           "#19d3f3",
           "#FF6692",
           "#B6E880",
           "#FF97FF",
           "#FECB52"
          ],
          "font": {
           "color": "#2a3f5f"
          },
          "geo": {
           "bgcolor": "white",
           "lakecolor": "white",
           "landcolor": "#E5ECF6",
           "showlakes": true,
           "showland": true,
           "subunitcolor": "white"
          },
          "hoverlabel": {
           "align": "left"
          },
          "hovermode": "closest",
          "mapbox": {
           "style": "light"
          },
          "paper_bgcolor": "white",
          "plot_bgcolor": "#E5ECF6",
          "polar": {
           "angularaxis": {
            "gridcolor": "white",
            "linecolor": "white",
            "ticks": ""
           },
           "bgcolor": "#E5ECF6",
           "radialaxis": {
            "gridcolor": "white",
            "linecolor": "white",
            "ticks": ""
           }
          },
          "scene": {
           "xaxis": {
            "backgroundcolor": "#E5ECF6",
            "gridcolor": "white",
            "gridwidth": 2,
            "linecolor": "white",
            "showbackground": true,
            "ticks": "",
            "zerolinecolor": "white"
           },
           "yaxis": {
            "backgroundcolor": "#E5ECF6",
            "gridcolor": "white",
            "gridwidth": 2,
            "linecolor": "white",
            "showbackground": true,
            "ticks": "",
            "zerolinecolor": "white"
           },
           "zaxis": {
            "backgroundcolor": "#E5ECF6",
            "gridcolor": "white",
            "gridwidth": 2,
            "linecolor": "white",
            "showbackground": true,
            "ticks": "",
            "zerolinecolor": "white"
           }
          },
          "shapedefaults": {
           "line": {
            "color": "#2a3f5f"
           }
          },
          "ternary": {
           "aaxis": {
            "gridcolor": "white",
            "linecolor": "white",
            "ticks": ""
           },
           "baxis": {
            "gridcolor": "white",
            "linecolor": "white",
            "ticks": ""
           },
           "bgcolor": "#E5ECF6",
           "caxis": {
            "gridcolor": "white",
            "linecolor": "white",
            "ticks": ""
           }
          },
          "title": {
           "x": 0.05
          },
          "xaxis": {
           "automargin": true,
           "gridcolor": "white",
           "linecolor": "white",
           "ticks": "",
           "title": {
            "standoff": 15
           },
           "zerolinecolor": "white",
           "zerolinewidth": 2
          },
          "yaxis": {
           "automargin": true,
           "gridcolor": "white",
           "linecolor": "white",
           "ticks": "",
           "title": {
            "standoff": 15
           },
           "zerolinecolor": "white",
           "zerolinewidth": 2
          }
         }
        },
        "title": {
         "text": "부산광역시 부산 부산진구 부전역_2 집객시설 수"
        }
       }
      }
     },
     "metadata": {},
     "output_type": "display_data"
    }
   ],
   "source": [
    "import plotly.graph_objects as go\n",
    "\n",
    "categories = ['관공서', '병원', '교통']\n",
    "categories = [*categories, categories[0]]\n",
    "\n",
    "sg_mean_score = df_af3.mean(axis = 0).values\n",
    "sg_mean_score = [*sg_mean_score, sg_mean_score[0]]\n",
    "\n",
    "# sg_name, sg_score = getSangGwon3(150) # 남항로9번길 - 평균에 비해 매우 작음\n",
    "sg_name, sg_score = getSangGwon3(265) # 부산 부산진구 부전역_2 - 평균과 비슷\n",
    "# sg_name, sg_score = getSangGwon3(262) # 부산 부산진구 서면역_3 - 평균에 비해 매우 큼\n",
    "\n",
    "sg_score = [*sg_score, sg_score[0]]\n",
    "\n",
    "fig = go.Figure(\n",
    "  data = [\n",
    "    go.Scatterpolar(r = sg_mean_score, theta = categories, fill = 'toself', name = '부산 상권 평균'), # 전체 평균\n",
    "    go.Scatterpolar(r = sg_score, theta = categories, fill = 'toself', name = sg_name),\n",
    "  ],\n",
    "  layout = go.Layout(\n",
    "    title = go.layout.Title(text = '부산광역시 ' + sg_name + ' 집객시설 수'),\n",
    "    polar = {'radialaxis': {'visible': True}},\n",
    "    showlegend = True\n",
    "  )\n",
    ")\n",
    "\n",
    "fig.show()"
   ]
  },
  {
   "cell_type": "markdown",
   "metadata": {},
   "source": [
    "<img src=\"./img/attractive_facility_bujeon_3.PNG\" width=100%>"
   ]
  }
 ],
 "metadata": {
  "kernelspec": {
   "display_name": "Python 3 (ipykernel)",
   "language": "python",
   "name": "python3"
  },
  "language_info": {
   "codemirror_mode": {
    "name": "ipython",
    "version": 3
   },
   "file_extension": ".py",
   "mimetype": "text/x-python",
   "name": "python",
   "nbconvert_exporter": "python",
   "pygments_lexer": "ipython3",
   "version": "3.9.12"
  },
  "vscode": {
   "interpreter": {
    "hash": "cc559ded4c07dd5d7e91d31f6492afc13b9aee8598d231e373ec0f74b4653a08"
   }
  }
 },
 "nbformat": 4,
 "nbformat_minor": 2
}
