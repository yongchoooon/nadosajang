{
 "cells": [
  {
   "cell_type": "code",
   "execution_count": 41,
   "metadata": {},
   "outputs": [],
   "source": [
    "import pandas as pd"
   ]
  },
  {
   "cell_type": "markdown",
   "metadata": {},
   "source": [
    "## 상권 정보 - 집객시설"
   ]
  },
  {
   "cell_type": "code",
   "execution_count": 45,
   "metadata": {},
   "outputs": [],
   "source": [
    "df_af = pd.read_csv('./data2/부산광역시_상권_집객시설정보_20211216_수정.csv', encoding='cp949')"
   ]
  },
  {
   "cell_type": "code",
   "execution_count": 46,
   "metadata": {},
   "outputs": [
    {
     "data": {
      "text/html": [
       "<div>\n",
       "<style scoped>\n",
       "    .dataframe tbody tr th:only-of-type {\n",
       "        vertical-align: middle;\n",
       "    }\n",
       "\n",
       "    .dataframe tbody tr th {\n",
       "        vertical-align: top;\n",
       "    }\n",
       "\n",
       "    .dataframe thead th {\n",
       "        text-align: right;\n",
       "    }\n",
       "</style>\n",
       "<table border=\"1\" class=\"dataframe\">\n",
       "  <thead>\n",
       "    <tr style=\"text-align: right;\">\n",
       "      <th></th>\n",
       "      <th>0</th>\n",
       "      <th>1</th>\n",
       "      <th>2</th>\n",
       "      <th>3</th>\n",
       "      <th>4</th>\n",
       "    </tr>\n",
       "  </thead>\n",
       "  <tbody>\n",
       "    <tr>\n",
       "      <th>상권구분명</th>\n",
       "      <td>골목상권</td>\n",
       "      <td>골목상권</td>\n",
       "      <td>골목상권</td>\n",
       "      <td>골목상권</td>\n",
       "      <td>골목상권</td>\n",
       "    </tr>\n",
       "    <tr>\n",
       "      <th>상권명</th>\n",
       "      <td>황령대로489번길</td>\n",
       "      <td>황령대로319번가길</td>\n",
       "      <td>해운대로81번길</td>\n",
       "      <td>해운대로76번길</td>\n",
       "      <td>해운대로483번길</td>\n",
       "    </tr>\n",
       "    <tr>\n",
       "      <th>집객시설수</th>\n",
       "      <td>6</td>\n",
       "      <td>21</td>\n",
       "      <td>3</td>\n",
       "      <td>10</td>\n",
       "      <td>2</td>\n",
       "    </tr>\n",
       "    <tr>\n",
       "      <th>관공서수</th>\n",
       "      <td>0</td>\n",
       "      <td>1</td>\n",
       "      <td>1</td>\n",
       "      <td>1</td>\n",
       "      <td>0</td>\n",
       "    </tr>\n",
       "    <tr>\n",
       "      <th>학교시설수</th>\n",
       "      <td>0</td>\n",
       "      <td>0</td>\n",
       "      <td>1</td>\n",
       "      <td>0</td>\n",
       "      <td>0</td>\n",
       "    </tr>\n",
       "    <tr>\n",
       "      <th>병원시설수</th>\n",
       "      <td>4</td>\n",
       "      <td>5</td>\n",
       "      <td>1</td>\n",
       "      <td>5</td>\n",
       "      <td>2</td>\n",
       "    </tr>\n",
       "    <tr>\n",
       "      <th>교통시설수</th>\n",
       "      <td>2</td>\n",
       "      <td>15</td>\n",
       "      <td>0</td>\n",
       "      <td>4</td>\n",
       "      <td>0</td>\n",
       "    </tr>\n",
       "    <tr>\n",
       "      <th>지하철수</th>\n",
       "      <td>0</td>\n",
       "      <td>0</td>\n",
       "      <td>0</td>\n",
       "      <td>0</td>\n",
       "      <td>0</td>\n",
       "    </tr>\n",
       "    <tr>\n",
       "      <th>병원시설수.1</th>\n",
       "      <td>0</td>\n",
       "      <td>0</td>\n",
       "      <td>0</td>\n",
       "      <td>0</td>\n",
       "      <td>0</td>\n",
       "    </tr>\n",
       "    <tr>\n",
       "      <th>쇼핑시설수</th>\n",
       "      <td>0</td>\n",
       "      <td>0</td>\n",
       "      <td>0</td>\n",
       "      <td>0</td>\n",
       "      <td>0</td>\n",
       "    </tr>\n",
       "  </tbody>\n",
       "</table>\n",
       "</div>"
      ],
      "text/plain": [
       "                 0           1         2         3          4\n",
       "상권구분명         골목상권        골목상권      골목상권      골목상권       골목상권\n",
       "상권명      황령대로489번길  황령대로319번가길  해운대로81번길  해운대로76번길  해운대로483번길\n",
       "집객시설수            6          21         3        10          2\n",
       "관공서수             0           1         1         1          0\n",
       "학교시설수            0           0         1         0          0\n",
       "병원시설수            4           5         1         5          2\n",
       "교통시설수            2          15         0         4          0\n",
       "지하철수             0           0         0         0          0\n",
       "병원시설수.1          0           0         0         0          0\n",
       "쇼핑시설수            0           0         0         0          0"
      ]
     },
     "execution_count": 46,
     "metadata": {},
     "output_type": "execute_result"
    }
   ],
   "source": [
    "df_af.head(5).T"
   ]
  },
  {
   "cell_type": "code",
   "execution_count": 47,
   "metadata": {},
   "outputs": [
    {
     "data": {
      "text/plain": [
       "(384, 10)"
      ]
     },
     "execution_count": 47,
     "metadata": {},
     "output_type": "execute_result"
    }
   ],
   "source": [
    "df_af.shape"
   ]
  },
  {
   "cell_type": "markdown",
   "metadata": {},
   "source": [
    "## 상권 정보 - 변화지표"
   ]
  },
  {
   "cell_type": "code",
   "execution_count": 31,
   "metadata": {},
   "outputs": [],
   "source": [
    "df_sb = pd.read_csv('./data2/부산광역시_상권_변화지표정보_20211216_수정.csv', encoding='cp949')"
   ]
  },
  {
   "cell_type": "code",
   "execution_count": 32,
   "metadata": {},
   "outputs": [
    {
     "data": {
      "text/html": [
       "<div>\n",
       "<style scoped>\n",
       "    .dataframe tbody tr th:only-of-type {\n",
       "        vertical-align: middle;\n",
       "    }\n",
       "\n",
       "    .dataframe tbody tr th {\n",
       "        vertical-align: top;\n",
       "    }\n",
       "\n",
       "    .dataframe thead th {\n",
       "        text-align: right;\n",
       "    }\n",
       "</style>\n",
       "<table border=\"1\" class=\"dataframe\">\n",
       "  <thead>\n",
       "    <tr style=\"text-align: right;\">\n",
       "      <th></th>\n",
       "      <th>0</th>\n",
       "      <th>1</th>\n",
       "      <th>2</th>\n",
       "      <th>3</th>\n",
       "      <th>4</th>\n",
       "    </tr>\n",
       "  </thead>\n",
       "  <tbody>\n",
       "    <tr>\n",
       "      <th>상권구분명</th>\n",
       "      <td>전통상권</td>\n",
       "      <td>전통상권</td>\n",
       "      <td>전통상권</td>\n",
       "      <td>전통상권</td>\n",
       "      <td>전통상권</td>\n",
       "    </tr>\n",
       "    <tr>\n",
       "      <th>상권명</th>\n",
       "      <td>해운대시장</td>\n",
       "      <td>학장반도보라상가</td>\n",
       "      <td>하이타운상가백화점</td>\n",
       "      <td>하단시장</td>\n",
       "      <td>충렬상가시장</td>\n",
       "    </tr>\n",
       "    <tr>\n",
       "      <th>변화지표값</th>\n",
       "      <td>상권확장</td>\n",
       "      <td>다이나믹</td>\n",
       "      <td>다이나믹</td>\n",
       "      <td>상권축소</td>\n",
       "      <td>상권축소</td>\n",
       "    </tr>\n",
       "    <tr>\n",
       "      <th>평균생존개월수</th>\n",
       "      <td>0</td>\n",
       "      <td>30</td>\n",
       "      <td>26</td>\n",
       "      <td>57</td>\n",
       "      <td>80</td>\n",
       "    </tr>\n",
       "    <tr>\n",
       "      <th>평균폐업개월수</th>\n",
       "      <td>120</td>\n",
       "      <td>1</td>\n",
       "      <td>36</td>\n",
       "      <td>21</td>\n",
       "      <td>0</td>\n",
       "    </tr>\n",
       "    <tr>\n",
       "      <th>부산평균생존개월수</th>\n",
       "      <td>50</td>\n",
       "      <td>50</td>\n",
       "      <td>50</td>\n",
       "      <td>50</td>\n",
       "      <td>50</td>\n",
       "    </tr>\n",
       "    <tr>\n",
       "      <th>부산평균폐업개월수</th>\n",
       "      <td>44</td>\n",
       "      <td>44</td>\n",
       "      <td>44</td>\n",
       "      <td>44</td>\n",
       "      <td>44</td>\n",
       "    </tr>\n",
       "  </tbody>\n",
       "</table>\n",
       "</div>"
      ],
      "text/plain": [
       "               0         1          2     3       4\n",
       "상권구분명       전통상권      전통상권       전통상권  전통상권    전통상권\n",
       "상권명        해운대시장  학장반도보라상가  하이타운상가백화점  하단시장  충렬상가시장\n",
       "변화지표값       상권확장      다이나믹       다이나믹  상권축소    상권축소\n",
       "평균생존개월수        0        30         26    57      80\n",
       "평균폐업개월수      120         1         36    21       0\n",
       "부산평균생존개월수     50        50         50    50      50\n",
       "부산평균폐업개월수     44        44         44    44      44"
      ]
     },
     "execution_count": 32,
     "metadata": {},
     "output_type": "execute_result"
    }
   ],
   "source": [
    "df_sb.head(5).T"
   ]
  },
  {
   "cell_type": "code",
   "execution_count": 34,
   "metadata": {},
   "outputs": [
    {
     "data": {
      "text/plain": [
       "(477, 7)"
      ]
     },
     "execution_count": 34,
     "metadata": {},
     "output_type": "execute_result"
    }
   ],
   "source": [
    "df_sb.shape"
   ]
  },
  {
   "cell_type": "markdown",
   "metadata": {},
   "source": [
    "## 상권 정보 - 점포이력\n",
    "- 전체 data는 27만 rows 인데 csv 파일로 사이트에서 직접 다운 받으면 5000 rows가 최대임.\n",
    "- 그래서 API KEY 받아서 얻기."
   ]
  },
  {
   "cell_type": "markdown",
   "metadata": {},
   "source": [
    "## 인구 정보 - 7월, 빅데이터포털"
   ]
  },
  {
   "cell_type": "markdown",
   "metadata": {},
   "source": [
    "- link : https://bigdata.busan.go.kr/data/bigDataDetailView.do?menuCode=M00000000007\n",
    "- 근데 이건 인구 데이터가 2020년 11월까지만 있고, 그 이후에 업데이트는 안 되는 듯.\n",
    "- 문의 넣어놨음."
   ]
  },
  {
   "cell_type": "code",
   "execution_count": 10,
   "metadata": {},
   "outputs": [],
   "source": [
    "df_gong7 = pd.read_csv('./data2/부산시공공_주민등록인구_통계정보_서비스_수집일_20220701.csv', encoding='utf-8', sep='|')"
   ]
  },
  {
   "cell_type": "markdown",
   "metadata": {},
   "source": [
    "- skey : ??\n",
    "- gugun : 구/군\n",
    "- rate_year : ??\n",
    "- dong_cnt : 동 수\n",
    "- house_cnt : ?? (집 수?)\n",
    "- top_pop_cnt : 총 인구 수\n",
    "- m_pop_cnt : 총 남성 인구 수\n",
    "- f_pop_cnt : 총 여성 인구 수\n",
    "- pop_ratio : ?? (지역구 인구 수 / 부산 전체 인구 수?)\n",
    "- pop_density : ?? (인구 밀도인데 얼마가 기준인지?)\n",
    "- instt_code : 제공기관 코드\n",
    "- last_load_dttm : ?? (마지막 갱신일자?)"
   ]
  },
  {
   "cell_type": "code",
   "execution_count": 12,
   "metadata": {},
   "outputs": [
    {
     "data": {
      "text/html": [
       "<div>\n",
       "<style scoped>\n",
       "    .dataframe tbody tr th:only-of-type {\n",
       "        vertical-align: middle;\n",
       "    }\n",
       "\n",
       "    .dataframe tbody tr th {\n",
       "        vertical-align: top;\n",
       "    }\n",
       "\n",
       "    .dataframe thead th {\n",
       "        text-align: right;\n",
       "    }\n",
       "</style>\n",
       "<table border=\"1\" class=\"dataframe\">\n",
       "  <thead>\n",
       "    <tr style=\"text-align: right;\">\n",
       "      <th></th>\n",
       "      <th>0</th>\n",
       "      <th>1</th>\n",
       "      <th>2</th>\n",
       "      <th>3</th>\n",
       "      <th>4</th>\n",
       "    </tr>\n",
       "  </thead>\n",
       "  <tbody>\n",
       "    <tr>\n",
       "      <th>skey</th>\n",
       "      <td>19597</td>\n",
       "      <td>19598</td>\n",
       "      <td>19599</td>\n",
       "      <td>19600</td>\n",
       "      <td>19601</td>\n",
       "    </tr>\n",
       "    <tr>\n",
       "      <th>gugun</th>\n",
       "      <td>부산광역시 강서구</td>\n",
       "      <td>부산광역시 연제구</td>\n",
       "      <td>부산광역시 수영구</td>\n",
       "      <td>부산광역시 사상구</td>\n",
       "      <td>부산광역시 기장군</td>\n",
       "    </tr>\n",
       "    <tr>\n",
       "      <th>rate_year</th>\n",
       "      <td>2020-06</td>\n",
       "      <td>2020-06</td>\n",
       "      <td>2020-06</td>\n",
       "      <td>2020-06</td>\n",
       "      <td>2020-06</td>\n",
       "    </tr>\n",
       "    <tr>\n",
       "      <th>dong_cnt</th>\n",
       "      <td>8</td>\n",
       "      <td>12</td>\n",
       "      <td>10</td>\n",
       "      <td>12</td>\n",
       "      <td>5</td>\n",
       "    </tr>\n",
       "    <tr>\n",
       "      <th>house_cnt</th>\n",
       "      <td>55158</td>\n",
       "      <td>91412</td>\n",
       "      <td>82989</td>\n",
       "      <td>97113</td>\n",
       "      <td>72166</td>\n",
       "    </tr>\n",
       "    <tr>\n",
       "      <th>tot_pop_cnt</th>\n",
       "      <td>137005</td>\n",
       "      <td>210515</td>\n",
       "      <td>178702</td>\n",
       "      <td>220468</td>\n",
       "      <td>172280</td>\n",
       "    </tr>\n",
       "    <tr>\n",
       "      <th>m_pop_cnt</th>\n",
       "      <td>72436</td>\n",
       "      <td>101437</td>\n",
       "      <td>84448</td>\n",
       "      <td>111722</td>\n",
       "      <td>85639</td>\n",
       "    </tr>\n",
       "    <tr>\n",
       "      <th>f_pop_cnt</th>\n",
       "      <td>64569</td>\n",
       "      <td>109078</td>\n",
       "      <td>94254</td>\n",
       "      <td>108746</td>\n",
       "      <td>86641</td>\n",
       "    </tr>\n",
       "    <tr>\n",
       "      <th>pop_ratio</th>\n",
       "      <td>4.0</td>\n",
       "      <td>6.1</td>\n",
       "      <td>5.2</td>\n",
       "      <td>6.4</td>\n",
       "      <td>5.0</td>\n",
       "    </tr>\n",
       "    <tr>\n",
       "      <th>pop_density</th>\n",
       "      <td>755</td>\n",
       "      <td>17398</td>\n",
       "      <td>17503</td>\n",
       "      <td>6109</td>\n",
       "      <td>789</td>\n",
       "    </tr>\n",
       "    <tr>\n",
       "      <th>instt_code</th>\n",
       "      <td>6260000</td>\n",
       "      <td>6260000</td>\n",
       "      <td>6260000</td>\n",
       "      <td>6260000</td>\n",
       "      <td>6260000</td>\n",
       "    </tr>\n",
       "    <tr>\n",
       "      <th>last_load_dttm</th>\n",
       "      <td>2022-07-01 05:57:03</td>\n",
       "      <td>2022-07-01 05:57:03</td>\n",
       "      <td>2022-07-01 05:57:03</td>\n",
       "      <td>2022-07-01 05:57:03</td>\n",
       "      <td>2022-07-01 05:57:03</td>\n",
       "    </tr>\n",
       "  </tbody>\n",
       "</table>\n",
       "</div>"
      ],
      "text/plain": [
       "                                  0                    1                    2  \\\n",
       "skey                          19597                19598                19599   \n",
       "gugun                     부산광역시 강서구            부산광역시 연제구            부산광역시 수영구   \n",
       "rate_year                   2020-06              2020-06              2020-06   \n",
       "dong_cnt                          8                   12                   10   \n",
       "house_cnt                     55158                91412                82989   \n",
       "tot_pop_cnt                  137005               210515               178702   \n",
       "m_pop_cnt                     72436               101437                84448   \n",
       "f_pop_cnt                     64569               109078                94254   \n",
       "pop_ratio                       4.0                  6.1                  5.2   \n",
       "pop_density                     755                17398                17503   \n",
       "instt_code                  6260000              6260000              6260000   \n",
       "last_load_dttm  2022-07-01 05:57:03  2022-07-01 05:57:03  2022-07-01 05:57:03   \n",
       "\n",
       "                                  3                    4  \n",
       "skey                          19600                19601  \n",
       "gugun                     부산광역시 사상구            부산광역시 기장군  \n",
       "rate_year                   2020-06              2020-06  \n",
       "dong_cnt                         12                    5  \n",
       "house_cnt                     97113                72166  \n",
       "tot_pop_cnt                  220468               172280  \n",
       "m_pop_cnt                    111722                85639  \n",
       "f_pop_cnt                    108746                86641  \n",
       "pop_ratio                       6.4                  5.0  \n",
       "pop_density                    6109                  789  \n",
       "instt_code                  6260000              6260000  \n",
       "last_load_dttm  2022-07-01 05:57:03  2022-07-01 05:57:03  "
      ]
     },
     "execution_count": 12,
     "metadata": {},
     "output_type": "execute_result"
    }
   ],
   "source": [
    "df_gong7.head(5).T"
   ]
  },
  {
   "cell_type": "code",
   "execution_count": 13,
   "metadata": {},
   "outputs": [
    {
     "data": {
      "text/plain": [
       "(986, 12)"
      ]
     },
     "execution_count": 13,
     "metadata": {},
     "output_type": "execute_result"
    }
   ],
   "source": [
    "df_gong7.shape"
   ]
  },
  {
   "cell_type": "code",
   "execution_count": 14,
   "metadata": {},
   "outputs": [
    {
     "data": {
      "text/plain": [
       "array(['2020-06', '2020-07', '2020-08', '2020-09', '2020-10', '2020-11',\n",
       "       '2015', '2016', '2017', '2007', '2008', '2009', '2010', '2011',\n",
       "       '2012', '2013', '2014', '2020-03', '2020-04', '2020-05', '2018',\n",
       "       '2019-02', '2019-03', '2019-04', '2019-05', '2019-06', '2019-07',\n",
       "       '2019-08', '2019-09', '2019-10', '2019-01', '2019-11', '2019-12',\n",
       "       '2020-01', '2020-02'], dtype=object)"
      ]
     },
     "execution_count": 14,
     "metadata": {},
     "output_type": "execute_result"
    }
   ],
   "source": [
    "df_gong7.rate_year.unique()"
   ]
  }
 ],
 "metadata": {
  "kernelspec": {
   "display_name": "Python 3.9.12 ('base')",
   "language": "python",
   "name": "python3"
  },
  "language_info": {
   "codemirror_mode": {
    "name": "ipython",
    "version": 3
   },
   "file_extension": ".py",
   "mimetype": "text/x-python",
   "name": "python",
   "nbconvert_exporter": "python",
   "pygments_lexer": "ipython3",
   "version": "3.9.12"
  },
  "orig_nbformat": 4,
  "vscode": {
   "interpreter": {
    "hash": "c585f91d3623973be3accc48b0d5e967ce904a396a0f0c8bda7b100d8b60333f"
   }
  }
 },
 "nbformat": 4,
 "nbformat_minor": 2
}
